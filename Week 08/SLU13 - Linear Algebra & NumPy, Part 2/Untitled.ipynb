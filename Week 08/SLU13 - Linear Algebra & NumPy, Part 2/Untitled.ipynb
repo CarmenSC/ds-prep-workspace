{
 "cells": [
  {
   "cell_type": "code",
   "execution_count": 1,
   "id": "692dc2a7",
   "metadata": {},
   "outputs": [
    {
     "data": {
      "text/plain": [
       "5"
      ]
     },
     "execution_count": 1,
     "metadata": {},
     "output_type": "execute_result"
    }
   ],
   "source": [
    "13 % 8"
   ]
  },
  {
   "cell_type": "code",
   "execution_count": 2,
   "id": "f5a42ee7",
   "metadata": {},
   "outputs": [
    {
     "data": {
      "text/plain": [
       "5"
      ]
     },
     "execution_count": 2,
     "metadata": {},
     "output_type": "execute_result"
    }
   ],
   "source": [
    "mylist = [6, 8, 12, 13]\n",
    "mylist[3] % mylist[1]"
   ]
  },
  {
   "cell_type": "code",
   "execution_count": null,
   "id": "05daddf0",
   "metadata": {},
   "outputs": [],
   "source": []
  }
 ],
 "metadata": {
  "kernelspec": {
   "display_name": "Python 3 (ipykernel)",
   "language": "python",
   "name": "python3"
  },
  "language_info": {
   "codemirror_mode": {
    "name": "ipython",
    "version": 3
   },
   "file_extension": ".py",
   "mimetype": "text/x-python",
   "name": "python",
   "nbconvert_exporter": "python",
   "pygments_lexer": "ipython3",
   "version": "3.8.16"
  }
 },
 "nbformat": 4,
 "nbformat_minor": 5
}
