{
 "cells": [
  {
   "cell_type": "markdown",
   "id": "bc667ccc",
   "metadata": {
    "deletable": false,
    "editable": false,
    "nbgrader": {
     "grade": false,
     "grade_id": "cell-e0aac38c435b1848",
     "locked": true,
     "schema_version": 3,
     "solution": false,
     "task": false
    }
   },
   "source": [
    "# SLU 17_1 - Exam Prep I\n",
    "\n",
    "## Batch 1 Python Exam \n",
    "\n",
    "This is the Python admission exam from the Lisbon Data Science Starters Academy - Batch 1. The allocated time for this exam was 2 hours. If you plan to take the admission exam this year, it's a good idea to measure the time you need to solve this notebook. You can see how far you get in 2 hours and also how much time you need to complete the notebook. At the same time, it's a good idea to not rush through the exercises and rather concentrate on working thoroughly.\n",
    "At the end, you submit the notebook to the portal as usual. You can submit as many times as you like."
   ]
  },
  {
   "cell_type": "code",
   "execution_count": 1,
   "id": "6b208f77",
   "metadata": {
    "deletable": false,
    "editable": false,
    "nbgrader": {
     "grade": false,
     "grade_id": "cell-166e313b0a87ae52",
     "locked": true,
     "schema_version": 3,
     "solution": false,
     "task": false
    }
   },
   "outputs": [],
   "source": [
    "#used for evaluation\n",
    "import inspect\n",
    "import math\n",
    "import re\n",
    "import json\n",
    "import sys\n",
    "import hashlib\n",
    "\n",
    "def _hash(s):\n",
    "    return hashlib.blake2b(\n",
    "        bytes(str(s), encoding='utf8'),\n",
    "        digest_size=5\n",
    "    ).hexdigest()"
   ]
  },
  {
   "cell_type": "markdown",
   "id": "a063e8c1",
   "metadata": {
    "deletable": false,
    "editable": false,
    "nbgrader": {
     "grade": false,
     "grade_id": "cell-a975e4b911fae698",
     "locked": true,
     "schema_version": 3,
     "solution": false,
     "task": false
    }
   },
   "source": [
    "## Question 1\n",
    "\n",
    "Complete the function `import_data`. This function should:\n",
    "- Open the **countries.json** file that is located within the folder name **data** ;\n",
    "- Use Python’s module json to load the data from the file into a dictionary;\n",
    "- Return the dictionary;"
   ]
  },
  {
   "cell_type": "code",
   "execution_count": 2,
   "id": "954654d6",
   "metadata": {},
   "outputs": [
    {
     "name": "stdout",
     "output_type": "stream",
     "text": [
      "countries.json\r\n"
     ]
    }
   ],
   "source": [
    "!ls data"
   ]
  },
  {
   "cell_type": "code",
   "execution_count": 3,
   "id": "b006721a",
   "metadata": {},
   "outputs": [
    {
     "name": "stdout",
     "output_type": "stream",
     "text": [
      "{'Afghanistan': {'Continent': 'Asia', 'Population': 31056997.0, 'Area': 647500, 'GDP': 700.0, 'Literacy': 36.0, 'Phones': 3.22}, 'Albania': {'Continent': 'Europe', 'Population': 3581655.0, 'Area': 28748, 'GDP': 4500.0, 'Literacy': 86.5, 'Phones': 71.2}, 'Algeria': {'Continent': 'Africa', 'Population': 32930091.0, 'Area': 2381740, 'GDP': 6000.0, 'Literacy': 70.0, 'Phones': 78.1}, 'American Samoa': {'Continent': 'Oceania', 'Population': 57794.0, 'Area': 199, 'GDP': 8000.0, 'Literacy': 97.0, 'Phones': 259.54}, 'Andorra': {'Continent': 'Europe', 'Population': 71201.0, 'Area': 468, 'GDP': 19000.0, 'Literacy': 100.0, 'Phones': 497.18}, 'Angola': {'Continent': 'Africa', 'Population': 12127071.0, 'Area': 1246700, 'GDP': 1900.0, 'Literacy': 42.0, 'Phones': 7.78}, 'Anguilla': {'Continent': 'America', 'Population': 13477.0, 'Area': 102, 'GDP': 8600.0, 'Literacy': 95.0, 'Phones': 460.04}, 'Antigua & Barbuda': {'Continent': 'America', 'Population': 69108.0, 'Area': 443, 'GDP': 11000.0, 'Literacy': 89.0, 'Phones': 549.86}, 'Argentina': {'Continent': 'America', 'Population': 39921833.0, 'Area': 2766890, 'GDP': 11200.0, 'Literacy': 97.1, 'Phones': 220.43}, 'Aruba': {'Continent': 'America', 'Population': 71891.0, 'Area': 193, 'GDP': 28000.0, 'Literacy': 97.0, 'Phones': 516.06}, 'Australia': {'Continent': 'Oceania', 'Population': 20264082.0, 'Area': 7686850, 'GDP': 29000.0, 'Literacy': 100.0, 'Phones': 565.53}, 'Austria': {'Continent': 'Europe', 'Population': 8192880.0, 'Area': 83870, 'GDP': 30000.0, 'Literacy': 98.0, 'Phones': 452.22}, 'Bahamas, The': {'Continent': 'America', 'Population': 303770.0, 'Area': 13940, 'GDP': 16700.0, 'Literacy': 95.6, 'Phones': 460.55}, 'Bahrain': {'Continent': 'Asia', 'Population': 698585.0, 'Area': 665, 'GDP': 16900.0, 'Literacy': 89.1, 'Phones': 281.28}, 'Bangladesh': {'Continent': 'Asia', 'Population': 147365352.0, 'Area': 144000, 'GDP': 1900.0, 'Literacy': 43.1, 'Phones': 7.26}, 'Barbados': {'Continent': 'America', 'Population': 279912.0, 'Area': 431, 'GDP': 15700.0, 'Literacy': 97.4, 'Phones': 481.94}, 'Belgium': {'Continent': 'Europe', 'Population': 10379067.0, 'Area': 30528, 'GDP': 29100.0, 'Literacy': 98.0, 'Phones': 462.57}, 'Belize': {'Continent': 'America', 'Population': 287730.0, 'Area': 22966, 'GDP': 4900.0, 'Literacy': 94.1, 'Phones': 115.73}, 'Benin': {'Continent': 'Africa', 'Population': 7862944.0, 'Area': 112620, 'GDP': 1100.0, 'Literacy': 40.9, 'Phones': 9.7}, 'Bermuda': {'Continent': 'America', 'Population': 65773.0, 'Area': 53, 'GDP': 36000.0, 'Literacy': 98.0, 'Phones': 851.41}, 'Bhutan': {'Continent': 'Asia', 'Population': 2279723.0, 'Area': 47000, 'GDP': 1300.0, 'Literacy': 42.2, 'Phones': 14.34}, 'Bolivia': {'Continent': 'America', 'Population': 8989046.0, 'Area': 1098580, 'GDP': 2400.0, 'Literacy': 87.2, 'Phones': 71.9}, 'Botswana': {'Continent': 'Africa', 'Population': 1639833.0, 'Area': 600370, 'GDP': 9000.0, 'Literacy': 79.8, 'Phones': 80.5}, 'Brazil': {'Continent': 'America', 'Population': 188078227.0, 'Area': 8511965, 'GDP': 7600.0, 'Literacy': 86.4, 'Phones': 225.34}, 'British Virgin Is.': {'Continent': 'America', 'Population': 23098.0, 'Area': 153, 'GDP': 16000.0, 'Literacy': 97.8, 'Phones': 506.54}, 'Brunei': {'Continent': 'Asia', 'Population': 379444.0, 'Area': 5770, 'GDP': 18600.0, 'Literacy': 93.9, 'Phones': 237.19}, 'Bulgaria': {'Continent': 'Europe', 'Population': 7385367.0, 'Area': 110910, 'GDP': 7600.0, 'Literacy': 98.6, 'Phones': 336.27}, 'Burkina Faso': {'Continent': 'Africa', 'Population': 13902972.0, 'Area': 274200, 'GDP': 1100.0, 'Literacy': 26.6, 'Phones': 7.01}, 'Burma': {'Continent': 'Asia', 'Population': 47382633.0, 'Area': 678500, 'GDP': 1800.0, 'Literacy': 85.3, 'Phones': 10.05}, 'Burundi': {'Continent': 'Africa', 'Population': 8090068.0, 'Area': 27830, 'GDP': 600.0, 'Literacy': 51.6, 'Phones': 3.42}, 'Cambodia': {'Continent': 'Asia', 'Population': 13881427.0, 'Area': 181040, 'GDP': 1900.0, 'Literacy': 69.4, 'Phones': 2.62}, 'Cameroon': {'Continent': 'Africa', 'Population': 17340702.0, 'Area': 475440, 'GDP': 1800.0, 'Literacy': 79.0, 'Phones': 5.73}, 'Canada': {'Continent': 'America', 'Population': 33098932.0, 'Area': 9984670, 'GDP': 29800.0, 'Literacy': 97.0, 'Phones': 552.16}, 'Cape Verde': {'Continent': 'Africa', 'Population': 420979.0, 'Area': 4033, 'GDP': 1400.0, 'Literacy': 76.6, 'Phones': 169.6}, 'Cayman Islands': {'Continent': 'America', 'Population': 45436.0, 'Area': 262, 'GDP': 35000.0, 'Literacy': 98.0, 'Phones': 836.34}, 'Central African Rep.': {'Continent': 'Africa', 'Population': 4303356.0, 'Area': 622984, 'GDP': 1100.0, 'Literacy': 51.0, 'Phones': 2.32}, 'Chad': {'Continent': 'Africa', 'Population': 9944201.0, 'Area': 1284000, 'GDP': 1200.0, 'Literacy': 47.5, 'Phones': 1.31}, 'Chile': {'Continent': 'America', 'Population': 16134219.0, 'Area': 756950, 'GDP': 9900.0, 'Literacy': 96.2, 'Phones': 212.96}, 'China': {'Continent': 'Asia', 'Population': 1313973713.0, 'Area': 9596960, 'GDP': 5000.0, 'Literacy': 90.9, 'Phones': 266.7}, 'Colombia': {'Continent': 'America', 'Population': 43593035.0, 'Area': 1138910, 'GDP': 6300.0, 'Literacy': 92.5, 'Phones': 176.15}, 'Comoros': {'Continent': 'Africa', 'Population': 690948.0, 'Area': 2170, 'GDP': 700.0, 'Literacy': 56.5, 'Phones': 24.46}, 'Congo, Dem. Rep.': {'Continent': 'Africa', 'Population': 62660551.0, 'Area': 2345410, 'GDP': 700.0, 'Literacy': 65.5, 'Phones': 0.17}, 'Congo, Repub. of the': {'Continent': 'Africa', 'Population': 3702314.0, 'Area': 342000, 'GDP': 700.0, 'Literacy': 83.8, 'Phones': 3.73}, 'Cook Islands': {'Continent': 'Oceania', 'Population': 21388.0, 'Area': 240, 'GDP': 5000.0, 'Literacy': 95.0, 'Phones': 289.88}, 'Costa Rica': {'Continent': 'America', 'Population': 4075261.0, 'Area': 51100, 'GDP': 9100.0, 'Literacy': 96.0, 'Phones': 340.71}, \"Cote d'Ivoire\": {'Continent': 'Africa', 'Population': 17654843.0, 'Area': 322460, 'GDP': 1400.0, 'Literacy': 50.9, 'Phones': 14.61}, 'Croatia': {'Continent': 'Europe', 'Population': 4494749.0, 'Area': 56542, 'GDP': 10600.0, 'Literacy': 98.5, 'Phones': 420.38}, 'Cuba': {'Continent': 'America', 'Population': 11382820.0, 'Area': 110860, 'GDP': 2900.0, 'Literacy': 97.0, 'Phones': 74.67}, 'Czech Republic': {'Continent': 'Europe', 'Population': 10235455.0, 'Area': 78866, 'GDP': 15700.0, 'Literacy': 99.9, 'Phones': 314.33}, 'Denmark': {'Continent': 'Europe', 'Population': 5450661.0, 'Area': 43094, 'GDP': 31100.0, 'Literacy': 100.0, 'Phones': 614.6}, 'Djibouti': {'Continent': 'Africa', 'Population': 486530.0, 'Area': 23000, 'GDP': 1300.0, 'Literacy': 67.9, 'Phones': 22.81}, 'Dominica': {'Continent': 'America', 'Population': 68910.0, 'Area': 754, 'GDP': 5400.0, 'Literacy': 94.0, 'Phones': 304.75}, 'Dominican Republic': {'Continent': 'America', 'Population': 9183984.0, 'Area': 48730, 'GDP': 6000.0, 'Literacy': 84.7, 'Phones': 97.4}, 'Ecuador': {'Continent': 'America', 'Population': 13547510.0, 'Area': 283560, 'GDP': 3300.0, 'Literacy': 92.5, 'Phones': 125.6}, 'Egypt': {'Continent': 'Africa', 'Population': 78887007.0, 'Area': 1001450, 'GDP': 4000.0, 'Literacy': 57.7, 'Phones': 131.78}, 'El Salvador': {'Continent': 'America', 'Population': 6822378.0, 'Area': 21040, 'GDP': 4800.0, 'Literacy': 80.2, 'Phones': 142.4}, 'Equatorial Guinea': {'Continent': 'Africa', 'Population': 540109.0, 'Area': 28051, 'GDP': 2700.0, 'Literacy': 85.7, 'Phones': 18.51}, 'Eritrea': {'Continent': 'Africa', 'Population': 4786994.0, 'Area': 121320, 'GDP': 700.0, 'Literacy': 58.6, 'Phones': 7.88}, 'Estonia': {'Continent': 'Europe', 'Population': 1324333.0, 'Area': 45226, 'GDP': 12300.0, 'Literacy': 99.8, 'Phones': 333.75}, 'Ethiopia': {'Continent': 'Africa', 'Population': 74777981.0, 'Area': 1127127, 'GDP': 700.0, 'Literacy': 42.7, 'Phones': 8.16}, 'Fiji': {'Continent': 'Oceania', 'Population': 905949.0, 'Area': 18270, 'GDP': 5800.0, 'Literacy': 93.7, 'Phones': 112.59}, 'Finland': {'Continent': 'Europe', 'Population': 5231372.0, 'Area': 338145, 'GDP': 27400.0, 'Literacy': 100.0, 'Phones': 405.25}, 'France': {'Continent': 'Europe', 'Population': 60876136.0, 'Area': 547030, 'GDP': 27600.0, 'Literacy': 99.0, 'Phones': 586.44}, 'French Guiana': {'Continent': 'America', 'Population': 199509.0, 'Area': 91000, 'GDP': 8300.0, 'Literacy': 83.0, 'Phones': 255.63}, 'French Polynesia': {'Continent': 'Oceania', 'Population': 274578.0, 'Area': 4167, 'GDP': 17500.0, 'Literacy': 98.0, 'Phones': 194.48}, 'Gabon': {'Continent': 'Africa', 'Population': 1424906.0, 'Area': 267667, 'GDP': 5500.0, 'Literacy': 63.2, 'Phones': 27.44}, 'Gambia, The': {'Continent': 'Africa', 'Population': 1641564.0, 'Area': 11300, 'GDP': 1700.0, 'Literacy': 40.1, 'Phones': 26.8}, 'Germany': {'Continent': 'Europe', 'Population': 82422299.0, 'Area': 357021, 'GDP': 27600.0, 'Literacy': 99.0, 'Phones': 667.85}, 'Ghana': {'Continent': 'Africa', 'Population': 22409572.0, 'Area': 239460, 'GDP': 2200.0, 'Literacy': 74.8, 'Phones': 14.35}, 'Greece': {'Continent': 'Europe', 'Population': 10688058.0, 'Area': 131940, 'GDP': 20000.0, 'Literacy': 97.5, 'Phones': 589.72}, 'Grenada': {'Continent': 'America', 'Population': 89703.0, 'Area': 344, 'GDP': 5000.0, 'Literacy': 98.0, 'Phones': 364.54}, 'Guadeloupe': {'Continent': 'America', 'Population': 452776.0, 'Area': 1780, 'GDP': 8000.0, 'Literacy': 90.0, 'Phones': 463.81}, 'Guam': {'Continent': 'Oceania', 'Population': 171019.0, 'Area': 541, 'GDP': 21000.0, 'Literacy': 99.0, 'Phones': 491.96}, 'Guatemala': {'Continent': 'America', 'Population': 12293545.0, 'Area': 108890, 'GDP': 4100.0, 'Literacy': 70.6, 'Phones': 92.09}, 'Guinea': {'Continent': 'Africa', 'Population': 9690222.0, 'Area': 245857, 'GDP': 2100.0, 'Literacy': 35.9, 'Phones': 2.7}, 'Guinea-Bissau': {'Continent': 'Africa', 'Population': 1442029.0, 'Area': 36120, 'GDP': 800.0, 'Literacy': 42.4, 'Phones': 7.35}, 'Guyana': {'Continent': 'America', 'Population': 767245.0, 'Area': 214970, 'GDP': 4000.0, 'Literacy': 98.8, 'Phones': 143.5}, 'Haiti': {'Continent': 'America', 'Population': 8308504.0, 'Area': 27750, 'GDP': 1600.0, 'Literacy': 52.9, 'Phones': 16.85}, 'Honduras': {'Continent': 'America', 'Population': 7326496.0, 'Area': 112090, 'GDP': 2600.0, 'Literacy': 76.2, 'Phones': 67.48}, 'Hong Kong': {'Continent': 'Asia', 'Population': 6940432.0, 'Area': 1092, 'GDP': 28800.0, 'Literacy': 93.5, 'Phones': 546.74}, 'Hungary': {'Continent': 'Europe', 'Population': 9981334.0, 'Area': 93030, 'GDP': 13900.0, 'Literacy': 99.4, 'Phones': 336.23}, 'Iceland': {'Continent': 'Europe', 'Population': 299388.0, 'Area': 103000, 'GDP': 30900.0, 'Literacy': 99.9, 'Phones': 647.65}, 'India': {'Continent': 'Asia', 'Population': 1095351995.0, 'Area': 3287590, 'GDP': 2900.0, 'Literacy': 59.5, 'Phones': 45.42}, 'Indonesia': {'Continent': 'Asia', 'Population': 245452739.0, 'Area': 1919440, 'GDP': 3200.0, 'Literacy': 87.9, 'Phones': 52.03}, 'Iran': {'Continent': 'Asia', 'Population': 68688433.0, 'Area': 1648000, 'GDP': 7000.0, 'Literacy': 79.4, 'Phones': 276.41}, 'Iraq': {'Continent': 'Asia', 'Population': 26783383.0, 'Area': 437072, 'GDP': 1500.0, 'Literacy': 40.4, 'Phones': 38.61}, 'Ireland': {'Continent': 'Europe', 'Population': 4062235.0, 'Area': 70280, 'GDP': 29600.0, 'Literacy': 98.0, 'Phones': 500.46}, 'Israel': {'Continent': 'Asia', 'Population': 6352117.0, 'Area': 20770, 'GDP': 19800.0, 'Literacy': 95.4, 'Phones': 462.26}, 'Italy': {'Continent': 'Europe', 'Population': 58133509.0, 'Area': 301230, 'GDP': 26700.0, 'Literacy': 98.6, 'Phones': 430.89}, 'Jamaica': {'Continent': 'America', 'Population': 2758124.0, 'Area': 10991, 'GDP': 3900.0, 'Literacy': 87.9, 'Phones': 124.0}, 'Japan': {'Continent': 'Asia', 'Population': 127463611.0, 'Area': 377835, 'GDP': 28200.0, 'Literacy': 99.0, 'Phones': 461.15}, 'Jordan': {'Continent': 'Asia', 'Population': 5906760.0, 'Area': 92300, 'GDP': 4300.0, 'Literacy': 91.3, 'Phones': 104.51}, 'Kenya': {'Continent': 'Africa', 'Population': 34707817.0, 'Area': 582650, 'GDP': 1000.0, 'Literacy': 85.1, 'Phones': 8.12}, 'Korea, North': {'Continent': 'Asia', 'Population': 23113019.0, 'Area': 120540, 'GDP': 1300.0, 'Literacy': 99.0, 'Phones': 42.4}, 'Korea, South': {'Continent': 'Asia', 'Population': 48846823.0, 'Area': 98480, 'GDP': 17800.0, 'Literacy': 97.9, 'Phones': 486.11}, 'Kuwait': {'Continent': 'Asia', 'Population': 2418393.0, 'Area': 17820, 'GDP': 19000.0, 'Literacy': 83.5, 'Phones': 211.01}, 'Laos': {'Continent': 'Asia', 'Population': 6368481.0, 'Area': 236800, 'GDP': 1700.0, 'Literacy': 66.4, 'Phones': 14.14}, 'Latvia': {'Continent': 'Europe', 'Population': 2274735.0, 'Area': 64589, 'GDP': 10200.0, 'Literacy': 99.8, 'Phones': 321.36}, 'Lebanon': {'Continent': 'Asia', 'Population': 3874050.0, 'Area': 10400, 'GDP': 4800.0, 'Literacy': 87.4, 'Phones': 255.55}, 'Lesotho': {'Continent': 'Africa', 'Population': 2022331.0, 'Area': 30355, 'GDP': 3000.0, 'Literacy': 84.8, 'Phones': 23.73}, 'Liberia': {'Continent': 'Africa', 'Population': 3042004.0, 'Area': 111370, 'GDP': 1000.0, 'Literacy': 57.5, 'Phones': 2.27}, 'Libya': {'Continent': 'Africa', 'Population': 5900754.0, 'Area': 1759540, 'GDP': 6400.0, 'Literacy': 82.6, 'Phones': 127.1}, 'Liechtenstein': {'Continent': 'Europe', 'Population': 33987.0, 'Area': 160, 'GDP': 25000.0, 'Literacy': 100.0, 'Phones': 585.52}, 'Lithuania': {'Continent': 'Europe', 'Population': 3585906.0, 'Area': 65200, 'GDP': 11400.0, 'Literacy': 99.6, 'Phones': 223.4}, 'Luxembourg': {'Continent': 'Europe', 'Population': 474413.0, 'Area': 2586, 'GDP': 55100.0, 'Literacy': 100.0, 'Phones': 515.37}, 'Macau': {'Continent': 'Asia', 'Population': 453125.0, 'Area': 28, 'GDP': 19400.0, 'Literacy': 94.5, 'Phones': 384.88}, 'Madagascar': {'Continent': 'Africa', 'Population': 18595469.0, 'Area': 587040, 'GDP': 800.0, 'Literacy': 68.9, 'Phones': 3.6}, 'Malawi': {'Continent': 'Africa', 'Population': 13013926.0, 'Area': 118480, 'GDP': 600.0, 'Literacy': 62.7, 'Phones': 7.89}, 'Malaysia': {'Continent': 'Asia', 'Population': 24385858.0, 'Area': 329750, 'GDP': 9000.0, 'Literacy': 88.7, 'Phones': 179.04}, 'Maldives': {'Continent': 'Asia', 'Population': 359008.0, 'Area': 300, 'GDP': 3900.0, 'Literacy': 97.2, 'Phones': 89.97}, 'Mali': {'Continent': 'Africa', 'Population': 11716829.0, 'Area': 1240000, 'GDP': 900.0, 'Literacy': 46.4, 'Phones': 6.4}, 'Malta': {'Continent': 'Europe', 'Population': 400214.0, 'Area': 316, 'GDP': 17700.0, 'Literacy': 92.8, 'Phones': 504.98}, 'Marshall Islands': {'Continent': 'Oceania', 'Population': 60422.0, 'Area': 11854, 'GDP': 1600.0, 'Literacy': 93.7, 'Phones': 91.19}, 'Martinique': {'Continent': 'America', 'Population': 436131.0, 'Area': 1100, 'GDP': 14400.0, 'Literacy': 97.7, 'Phones': 394.38}, 'Mauritania': {'Continent': 'Africa', 'Population': 3177388.0, 'Area': 1030700, 'GDP': 1800.0, 'Literacy': 41.7, 'Phones': 12.9}, 'Mauritius': {'Continent': 'Africa', 'Population': 1240827.0, 'Area': 2040, 'GDP': 11400.0, 'Literacy': 85.6, 'Phones': 289.32}, 'Mexico': {'Continent': 'America', 'Population': 107449525.0, 'Area': 1972550, 'GDP': 9000.0, 'Literacy': 92.2, 'Phones': 181.59}, 'Micronesia, Fed. St.': {'Continent': 'Oceania', 'Population': 108004.0, 'Area': 702, 'GDP': 2000.0, 'Literacy': 89.0, 'Phones': 114.81}, 'Monaco': {'Continent': 'Europe', 'Population': 32543.0, 'Area': 2, 'GDP': 27000.0, 'Literacy': 99.0, 'Phones': 1035.55}, 'Mongolia': {'Continent': 'Asia', 'Population': 2832224.0, 'Area': 1564116, 'GDP': 1800.0, 'Literacy': 97.8, 'Phones': 55.08}, 'Morocco': {'Continent': 'Africa', 'Population': 33241259.0, 'Area': 446550, 'GDP': 4000.0, 'Literacy': 51.7, 'Phones': 40.35}, 'Mozambique': {'Continent': 'Africa', 'Population': 19686505.0, 'Area': 801590, 'GDP': 1200.0, 'Literacy': 47.8, 'Phones': 3.54}, 'Namibia': {'Continent': 'Africa', 'Population': 2044147.0, 'Area': 825418, 'GDP': 7200.0, 'Literacy': 84.0, 'Phones': 62.57}, 'Nepal': {'Continent': 'Asia', 'Population': 28287147.0, 'Area': 147181, 'GDP': 1400.0, 'Literacy': 45.2, 'Phones': 15.86}, 'Netherlands': {'Continent': 'Europe', 'Population': 16491461.0, 'Area': 41526, 'GDP': 28600.0, 'Literacy': 99.0, 'Phones': 460.84}, 'Netherlands Antilles': {'Continent': 'America', 'Population': 221736.0, 'Area': 960, 'GDP': 11400.0, 'Literacy': 96.7, 'Phones': 365.3}, 'New Caledonia': {'Continent': 'Oceania', 'Population': 219246.0, 'Area': 19060, 'GDP': 15000.0, 'Literacy': 91.0, 'Phones': 252.23}, 'New Zealand': {'Continent': 'Oceania', 'Population': 4076140.0, 'Area': 268680, 'GDP': 21600.0, 'Literacy': 99.0, 'Phones': 441.72}, 'Nicaragua': {'Continent': 'America', 'Population': 5570129.0, 'Area': 129494, 'GDP': 2300.0, 'Literacy': 67.5, 'Phones': 39.66}, 'Niger': {'Continent': 'Africa', 'Population': 12525094.0, 'Area': 1267000, 'GDP': 800.0, 'Literacy': 17.6, 'Phones': 1.92}, 'Nigeria': {'Continent': 'Africa', 'Population': 131859731.0, 'Area': 923768, 'GDP': 900.0, 'Literacy': 68.0, 'Phones': 9.28}, 'N. Mariana Islands': {'Continent': 'Oceania', 'Population': 82459.0, 'Area': 477, 'GDP': 12500.0, 'Literacy': 97.0, 'Phones': 254.67}, 'Norway': {'Continent': 'Europe', 'Population': 4610820.0, 'Area': 323802, 'GDP': 37800.0, 'Literacy': 100.0, 'Phones': 461.74}, 'Oman': {'Continent': 'Asia', 'Population': 3102229.0, 'Area': 212460, 'GDP': 13100.0, 'Literacy': 75.8, 'Phones': 85.49}, 'Pakistan': {'Continent': 'Asia', 'Population': 165803560.0, 'Area': 803940, 'GDP': 2100.0, 'Literacy': 45.7, 'Phones': 31.83}, 'Palau': {'Continent': 'Oceania', 'Population': 20579.0, 'Area': 458, 'GDP': 9000.0, 'Literacy': 92.0, 'Phones': 325.57}, 'Panama': {'Continent': 'America', 'Population': 3191319.0, 'Area': 78200, 'GDP': 6300.0, 'Literacy': 92.6, 'Phones': 137.91}, 'Papua New Guinea': {'Continent': 'Oceania', 'Population': 5670544.0, 'Area': 462840, 'GDP': 2200.0, 'Literacy': 64.6, 'Phones': 10.93}, 'Paraguay': {'Continent': 'America', 'Population': 6506464.0, 'Area': 406750, 'GDP': 4700.0, 'Literacy': 94.0, 'Phones': 49.23}, 'Peru': {'Continent': 'America', 'Population': 28302603.0, 'Area': 1285220, 'GDP': 5100.0, 'Literacy': 90.9, 'Phones': 79.52}, 'Philippines': {'Continent': 'Asia', 'Population': 89468677.0, 'Area': 300000, 'GDP': 4600.0, 'Literacy': 92.6, 'Phones': 38.42}, 'Poland': {'Continent': 'Europe', 'Population': 38536869.0, 'Area': 312685, 'GDP': 11100.0, 'Literacy': 99.8, 'Phones': 306.28}, 'Portugal': {'Continent': 'Europe', 'Population': 10605870.0, 'Area': 92391, 'GDP': 18000.0, 'Literacy': 93.3, 'Phones': 399.21}, 'Puerto Rico': {'Continent': 'America', 'Population': 3927188.0, 'Area': 13790, 'GDP': 16800.0, 'Literacy': 94.1, 'Phones': 283.13}, 'Qatar': {'Continent': 'Asia', 'Population': 885359.0, 'Area': 11437, 'GDP': 21500.0, 'Literacy': 82.5, 'Phones': 232.0}, 'Reunion': {'Continent': 'Africa', 'Population': 787584.0, 'Area': 2517, 'GDP': 5800.0, 'Literacy': 88.9, 'Phones': 380.91}, 'Romania': {'Continent': 'Europe', 'Population': 22303552.0, 'Area': 237500, 'GDP': 7000.0, 'Literacy': 98.4, 'Phones': 196.87}, 'Rwanda': {'Continent': 'Africa', 'Population': 8648248.0, 'Area': 26338, 'GDP': 1300.0, 'Literacy': 70.4, 'Phones': 2.66}, 'Saint Helena': {'Continent': 'Africa', 'Population': 7502.0, 'Area': 413, 'GDP': 2500.0, 'Literacy': 97.0, 'Phones': 293.26}, 'Saint Kitts & Nevis': {'Continent': 'America', 'Population': 39129.0, 'Area': 261, 'GDP': 8800.0, 'Literacy': 97.0, 'Phones': 638.91}, 'Saint Lucia': {'Continent': 'America', 'Population': 168458.0, 'Area': 616, 'GDP': 5400.0, 'Literacy': 67.0, 'Phones': 303.34}, 'St Pierre & Miquelon': {'Continent': 'America', 'Population': 7026.0, 'Area': 242, 'GDP': 6900.0, 'Literacy': 99.0, 'Phones': 683.18}, 'Saint Vincent and the Grenadines': {'Continent': 'America', 'Population': 117848.0, 'Area': 389, 'GDP': 2900.0, 'Literacy': 96.0, 'Phones': 190.92}, 'Samoa': {'Continent': 'Oceania', 'Population': 176908.0, 'Area': 2944, 'GDP': 5600.0, 'Literacy': 99.7, 'Phones': 75.18}, 'San Marino': {'Continent': 'Europe', 'Population': 29251.0, 'Area': 61, 'GDP': 34600.0, 'Literacy': 96.0, 'Phones': 704.25}, 'Sao Tome & Principe': {'Continent': 'Africa', 'Population': 193413.0, 'Area': 1001, 'GDP': 1200.0, 'Literacy': 79.3, 'Phones': 36.19}, 'Saudi Arabia': {'Continent': 'Asia', 'Population': 27019731.0, 'Area': 1960582, 'GDP': 11800.0, 'Literacy': 78.8, 'Phones': 140.64}, 'Senegal': {'Continent': 'Africa', 'Population': 11987121.0, 'Area': 196190, 'GDP': 1600.0, 'Literacy': 40.2, 'Phones': 22.24}, 'Serbia': {'Continent': 'Europe', 'Population': 9396411.0, 'Area': 88361, 'GDP': 2200.0, 'Literacy': 93.0, 'Phones': 285.79}, 'Seychelles': {'Continent': 'Africa', 'Population': 81541.0, 'Area': 455, 'GDP': 7800.0, 'Literacy': 58.0, 'Phones': 262.44}, 'Sierra Leone': {'Continent': 'Africa', 'Population': 6005250.0, 'Area': 71740, 'GDP': 500.0, 'Literacy': 31.4, 'Phones': 4.0}, 'Singapore': {'Continent': 'Asia', 'Population': 4492150.0, 'Area': 693, 'GDP': 23700.0, 'Literacy': 92.5, 'Phones': 411.38}, 'Slovenia': {'Continent': 'Europe', 'Population': 2010347.0, 'Area': 20273, 'GDP': 19000.0, 'Literacy': 99.7, 'Phones': 406.1}, 'Somalia': {'Continent': 'Africa', 'Population': 8863338.0, 'Area': 637657, 'GDP': 500.0, 'Literacy': 37.8, 'Phones': 11.28}, 'South Africa': {'Continent': 'Africa', 'Population': 44187637.0, 'Area': 1219912, 'GDP': 10700.0, 'Literacy': 86.4, 'Phones': 107.02}, 'Spain': {'Continent': 'Europe', 'Population': 40397842.0, 'Area': 504782, 'GDP': 22000.0, 'Literacy': 97.9, 'Phones': 453.54}, 'Sri Lanka': {'Continent': 'Asia', 'Population': 20222240.0, 'Area': 65610, 'GDP': 3700.0, 'Literacy': 92.3, 'Phones': 61.52}, 'Sudan': {'Continent': 'Africa', 'Population': 41236378.0, 'Area': 2505810, 'GDP': 1900.0, 'Literacy': 61.1, 'Phones': 16.25}, 'Suriname': {'Continent': 'America', 'Population': 439117.0, 'Area': 163270, 'GDP': 4000.0, 'Literacy': 93.0, 'Phones': 184.69}, 'Swaziland': {'Continent': 'Africa', 'Population': 1136334.0, 'Area': 17363, 'GDP': 4900.0, 'Literacy': 81.6, 'Phones': 30.8}, 'Sweden': {'Continent': 'Europe', 'Population': 9016596.0, 'Area': 449964, 'GDP': 26800.0, 'Literacy': 99.0, 'Phones': 715.01}, 'Switzerland': {'Continent': 'Europe', 'Population': 7523934.0, 'Area': 41290, 'GDP': 32700.0, 'Literacy': 99.0, 'Phones': 680.89}, 'Syria': {'Continent': 'Asia', 'Population': 18881361.0, 'Area': 185180, 'GDP': 3300.0, 'Literacy': 76.9, 'Phones': 153.75}, 'Taiwan': {'Continent': 'Asia', 'Population': 23036087.0, 'Area': 35980, 'GDP': 23400.0, 'Literacy': 96.1, 'Phones': 591.03}, 'Tanzania': {'Continent': 'Africa', 'Population': 37445392.0, 'Area': 945087, 'GDP': 600.0, 'Literacy': 78.2, 'Phones': 3.96}, 'Thailand': {'Continent': 'Asia', 'Population': 64631595.0, 'Area': 514000, 'GDP': 7400.0, 'Literacy': 92.6, 'Phones': 108.85}, 'Togo': {'Continent': 'Africa', 'Population': 5548702.0, 'Area': 56785, 'GDP': 1500.0, 'Literacy': 60.9, 'Phones': 10.56}, 'Tonga': {'Continent': 'Oceania', 'Population': 114689.0, 'Area': 748, 'GDP': 2200.0, 'Literacy': 98.5, 'Phones': 97.66}, 'Trinidad & Tobago': {'Continent': 'America', 'Population': 1065842.0, 'Area': 5128, 'GDP': 9500.0, 'Literacy': 98.6, 'Phones': 303.52}, 'Tunisia': {'Continent': 'Africa', 'Population': 10175014.0, 'Area': 163610, 'GDP': 6900.0, 'Literacy': 74.2, 'Phones': 123.59}, 'Turkey': {'Continent': 'Asia', 'Population': 70413958.0, 'Area': 780580, 'GDP': 6700.0, 'Literacy': 86.5, 'Phones': 269.52}, 'Turks & Caicos Is': {'Continent': 'America', 'Population': 21152.0, 'Area': 430, 'GDP': 9600.0, 'Literacy': 98.0, 'Phones': 269.48}, 'Uganda': {'Continent': 'Africa', 'Population': 28195754.0, 'Area': 236040, 'GDP': 1400.0, 'Literacy': 69.9, 'Phones': 3.58}, 'United Arab Emirates': {'Continent': 'Asia', 'Population': 2602713.0, 'Area': 82880, 'GDP': 23200.0, 'Literacy': 77.9, 'Phones': 475.27}, 'United Kingdom': {'Continent': 'Europe', 'Population': 60609153.0, 'Area': 244820, 'GDP': 27700.0, 'Literacy': 99.0, 'Phones': 543.53}, 'United States': {'Continent': 'America', 'Population': 298444215.0, 'Area': 9631420, 'GDP': 37800.0, 'Literacy': 97.0, 'Phones': 897.99}, 'Uruguay': {'Continent': 'America', 'Population': 3431932.0, 'Area': 176220, 'GDP': 12800.0, 'Literacy': 98.0, 'Phones': 291.38}, 'Vanuatu': {'Continent': 'Oceania', 'Population': 208869.0, 'Area': 12200, 'GDP': 2900.0, 'Literacy': 53.0, 'Phones': 32.56}, 'Venezuela': {'Continent': 'America', 'Population': 25730435.0, 'Area': 912050, 'GDP': 4800.0, 'Literacy': 93.4, 'Phones': 140.13}, 'Vietnam': {'Continent': 'Asia', 'Population': 84402966.0, 'Area': 329560, 'GDP': 2500.0, 'Literacy': 90.3, 'Phones': 187.73}, 'Wallis and Futuna': {'Continent': 'Oceania', 'Population': 16025.0, 'Area': 274, 'GDP': 3700.0, 'Literacy': 50.0, 'Phones': 118.56}, 'Yemen': {'Continent': 'Asia', 'Population': 21456188.0, 'Area': 527970, 'GDP': 800.0, 'Literacy': 50.2, 'Phones': 37.2}, 'Zambia': {'Continent': 'Africa', 'Population': 11502010.0, 'Area': 752614, 'GDP': 800.0, 'Literacy': 80.6, 'Phones': 8.23}, 'Zimbabwe': {'Continent': 'Africa', 'Population': 12236805.0, 'Area': 390580, 'GDP': 1900.0, 'Literacy': 90.7, 'Phones': 26.8}}\n"
     ]
    }
   ],
   "source": [
    "with open(\"./data/countries.json\") as user_file:\n",
    "    parsed_json = json.load(user_file)\n",
    "\n",
    "print(parsed_json)"
   ]
  },
  {
   "cell_type": "code",
   "execution_count": 4,
   "id": "e96becf0",
   "metadata": {
    "deletable": false,
    "nbgrader": {
     "grade": false,
     "grade_id": "cell-ce9179c0612fd6b0",
     "locked": false,
     "schema_version": 3,
     "solution": true,
     "task": false
    }
   },
   "outputs": [
    {
     "name": "stdout",
     "output_type": "stream",
     "text": [
      "{'Afghanistan': {'Continent': 'Asia', 'Population': 31056997.0, 'Area': 647500, 'GDP': 700.0, 'Literacy': 36.0, 'Phones': 3.22}, 'Albania': {'Continent': 'Europe', 'Population': 3581655.0, 'Area': 28748, 'GDP': 4500.0, 'Literacy': 86.5, 'Phones': 71.2}, 'Algeria': {'Continent': 'Africa', 'Population': 32930091.0, 'Area': 2381740, 'GDP': 6000.0, 'Literacy': 70.0, 'Phones': 78.1}, 'American Samoa': {'Continent': 'Oceania', 'Population': 57794.0, 'Area': 199, 'GDP': 8000.0, 'Literacy': 97.0, 'Phones': 259.54}, 'Andorra': {'Continent': 'Europe', 'Population': 71201.0, 'Area': 468, 'GDP': 19000.0, 'Literacy': 100.0, 'Phones': 497.18}, 'Angola': {'Continent': 'Africa', 'Population': 12127071.0, 'Area': 1246700, 'GDP': 1900.0, 'Literacy': 42.0, 'Phones': 7.78}, 'Anguilla': {'Continent': 'America', 'Population': 13477.0, 'Area': 102, 'GDP': 8600.0, 'Literacy': 95.0, 'Phones': 460.04}, 'Antigua & Barbuda': {'Continent': 'America', 'Population': 69108.0, 'Area': 443, 'GDP': 11000.0, 'Literacy': 89.0, 'Phones': 549.86}, 'Argentina': {'Continent': 'America', 'Population': 39921833.0, 'Area': 2766890, 'GDP': 11200.0, 'Literacy': 97.1, 'Phones': 220.43}, 'Aruba': {'Continent': 'America', 'Population': 71891.0, 'Area': 193, 'GDP': 28000.0, 'Literacy': 97.0, 'Phones': 516.06}, 'Australia': {'Continent': 'Oceania', 'Population': 20264082.0, 'Area': 7686850, 'GDP': 29000.0, 'Literacy': 100.0, 'Phones': 565.53}, 'Austria': {'Continent': 'Europe', 'Population': 8192880.0, 'Area': 83870, 'GDP': 30000.0, 'Literacy': 98.0, 'Phones': 452.22}, 'Bahamas, The': {'Continent': 'America', 'Population': 303770.0, 'Area': 13940, 'GDP': 16700.0, 'Literacy': 95.6, 'Phones': 460.55}, 'Bahrain': {'Continent': 'Asia', 'Population': 698585.0, 'Area': 665, 'GDP': 16900.0, 'Literacy': 89.1, 'Phones': 281.28}, 'Bangladesh': {'Continent': 'Asia', 'Population': 147365352.0, 'Area': 144000, 'GDP': 1900.0, 'Literacy': 43.1, 'Phones': 7.26}, 'Barbados': {'Continent': 'America', 'Population': 279912.0, 'Area': 431, 'GDP': 15700.0, 'Literacy': 97.4, 'Phones': 481.94}, 'Belgium': {'Continent': 'Europe', 'Population': 10379067.0, 'Area': 30528, 'GDP': 29100.0, 'Literacy': 98.0, 'Phones': 462.57}, 'Belize': {'Continent': 'America', 'Population': 287730.0, 'Area': 22966, 'GDP': 4900.0, 'Literacy': 94.1, 'Phones': 115.73}, 'Benin': {'Continent': 'Africa', 'Population': 7862944.0, 'Area': 112620, 'GDP': 1100.0, 'Literacy': 40.9, 'Phones': 9.7}, 'Bermuda': {'Continent': 'America', 'Population': 65773.0, 'Area': 53, 'GDP': 36000.0, 'Literacy': 98.0, 'Phones': 851.41}, 'Bhutan': {'Continent': 'Asia', 'Population': 2279723.0, 'Area': 47000, 'GDP': 1300.0, 'Literacy': 42.2, 'Phones': 14.34}, 'Bolivia': {'Continent': 'America', 'Population': 8989046.0, 'Area': 1098580, 'GDP': 2400.0, 'Literacy': 87.2, 'Phones': 71.9}, 'Botswana': {'Continent': 'Africa', 'Population': 1639833.0, 'Area': 600370, 'GDP': 9000.0, 'Literacy': 79.8, 'Phones': 80.5}, 'Brazil': {'Continent': 'America', 'Population': 188078227.0, 'Area': 8511965, 'GDP': 7600.0, 'Literacy': 86.4, 'Phones': 225.34}, 'British Virgin Is.': {'Continent': 'America', 'Population': 23098.0, 'Area': 153, 'GDP': 16000.0, 'Literacy': 97.8, 'Phones': 506.54}, 'Brunei': {'Continent': 'Asia', 'Population': 379444.0, 'Area': 5770, 'GDP': 18600.0, 'Literacy': 93.9, 'Phones': 237.19}, 'Bulgaria': {'Continent': 'Europe', 'Population': 7385367.0, 'Area': 110910, 'GDP': 7600.0, 'Literacy': 98.6, 'Phones': 336.27}, 'Burkina Faso': {'Continent': 'Africa', 'Population': 13902972.0, 'Area': 274200, 'GDP': 1100.0, 'Literacy': 26.6, 'Phones': 7.01}, 'Burma': {'Continent': 'Asia', 'Population': 47382633.0, 'Area': 678500, 'GDP': 1800.0, 'Literacy': 85.3, 'Phones': 10.05}, 'Burundi': {'Continent': 'Africa', 'Population': 8090068.0, 'Area': 27830, 'GDP': 600.0, 'Literacy': 51.6, 'Phones': 3.42}, 'Cambodia': {'Continent': 'Asia', 'Population': 13881427.0, 'Area': 181040, 'GDP': 1900.0, 'Literacy': 69.4, 'Phones': 2.62}, 'Cameroon': {'Continent': 'Africa', 'Population': 17340702.0, 'Area': 475440, 'GDP': 1800.0, 'Literacy': 79.0, 'Phones': 5.73}, 'Canada': {'Continent': 'America', 'Population': 33098932.0, 'Area': 9984670, 'GDP': 29800.0, 'Literacy': 97.0, 'Phones': 552.16}, 'Cape Verde': {'Continent': 'Africa', 'Population': 420979.0, 'Area': 4033, 'GDP': 1400.0, 'Literacy': 76.6, 'Phones': 169.6}, 'Cayman Islands': {'Continent': 'America', 'Population': 45436.0, 'Area': 262, 'GDP': 35000.0, 'Literacy': 98.0, 'Phones': 836.34}, 'Central African Rep.': {'Continent': 'Africa', 'Population': 4303356.0, 'Area': 622984, 'GDP': 1100.0, 'Literacy': 51.0, 'Phones': 2.32}, 'Chad': {'Continent': 'Africa', 'Population': 9944201.0, 'Area': 1284000, 'GDP': 1200.0, 'Literacy': 47.5, 'Phones': 1.31}, 'Chile': {'Continent': 'America', 'Population': 16134219.0, 'Area': 756950, 'GDP': 9900.0, 'Literacy': 96.2, 'Phones': 212.96}, 'China': {'Continent': 'Asia', 'Population': 1313973713.0, 'Area': 9596960, 'GDP': 5000.0, 'Literacy': 90.9, 'Phones': 266.7}, 'Colombia': {'Continent': 'America', 'Population': 43593035.0, 'Area': 1138910, 'GDP': 6300.0, 'Literacy': 92.5, 'Phones': 176.15}, 'Comoros': {'Continent': 'Africa', 'Population': 690948.0, 'Area': 2170, 'GDP': 700.0, 'Literacy': 56.5, 'Phones': 24.46}, 'Congo, Dem. Rep.': {'Continent': 'Africa', 'Population': 62660551.0, 'Area': 2345410, 'GDP': 700.0, 'Literacy': 65.5, 'Phones': 0.17}, 'Congo, Repub. of the': {'Continent': 'Africa', 'Population': 3702314.0, 'Area': 342000, 'GDP': 700.0, 'Literacy': 83.8, 'Phones': 3.73}, 'Cook Islands': {'Continent': 'Oceania', 'Population': 21388.0, 'Area': 240, 'GDP': 5000.0, 'Literacy': 95.0, 'Phones': 289.88}, 'Costa Rica': {'Continent': 'America', 'Population': 4075261.0, 'Area': 51100, 'GDP': 9100.0, 'Literacy': 96.0, 'Phones': 340.71}, \"Cote d'Ivoire\": {'Continent': 'Africa', 'Population': 17654843.0, 'Area': 322460, 'GDP': 1400.0, 'Literacy': 50.9, 'Phones': 14.61}, 'Croatia': {'Continent': 'Europe', 'Population': 4494749.0, 'Area': 56542, 'GDP': 10600.0, 'Literacy': 98.5, 'Phones': 420.38}, 'Cuba': {'Continent': 'America', 'Population': 11382820.0, 'Area': 110860, 'GDP': 2900.0, 'Literacy': 97.0, 'Phones': 74.67}, 'Czech Republic': {'Continent': 'Europe', 'Population': 10235455.0, 'Area': 78866, 'GDP': 15700.0, 'Literacy': 99.9, 'Phones': 314.33}, 'Denmark': {'Continent': 'Europe', 'Population': 5450661.0, 'Area': 43094, 'GDP': 31100.0, 'Literacy': 100.0, 'Phones': 614.6}, 'Djibouti': {'Continent': 'Africa', 'Population': 486530.0, 'Area': 23000, 'GDP': 1300.0, 'Literacy': 67.9, 'Phones': 22.81}, 'Dominica': {'Continent': 'America', 'Population': 68910.0, 'Area': 754, 'GDP': 5400.0, 'Literacy': 94.0, 'Phones': 304.75}, 'Dominican Republic': {'Continent': 'America', 'Population': 9183984.0, 'Area': 48730, 'GDP': 6000.0, 'Literacy': 84.7, 'Phones': 97.4}, 'Ecuador': {'Continent': 'America', 'Population': 13547510.0, 'Area': 283560, 'GDP': 3300.0, 'Literacy': 92.5, 'Phones': 125.6}, 'Egypt': {'Continent': 'Africa', 'Population': 78887007.0, 'Area': 1001450, 'GDP': 4000.0, 'Literacy': 57.7, 'Phones': 131.78}, 'El Salvador': {'Continent': 'America', 'Population': 6822378.0, 'Area': 21040, 'GDP': 4800.0, 'Literacy': 80.2, 'Phones': 142.4}, 'Equatorial Guinea': {'Continent': 'Africa', 'Population': 540109.0, 'Area': 28051, 'GDP': 2700.0, 'Literacy': 85.7, 'Phones': 18.51}, 'Eritrea': {'Continent': 'Africa', 'Population': 4786994.0, 'Area': 121320, 'GDP': 700.0, 'Literacy': 58.6, 'Phones': 7.88}, 'Estonia': {'Continent': 'Europe', 'Population': 1324333.0, 'Area': 45226, 'GDP': 12300.0, 'Literacy': 99.8, 'Phones': 333.75}, 'Ethiopia': {'Continent': 'Africa', 'Population': 74777981.0, 'Area': 1127127, 'GDP': 700.0, 'Literacy': 42.7, 'Phones': 8.16}, 'Fiji': {'Continent': 'Oceania', 'Population': 905949.0, 'Area': 18270, 'GDP': 5800.0, 'Literacy': 93.7, 'Phones': 112.59}, 'Finland': {'Continent': 'Europe', 'Population': 5231372.0, 'Area': 338145, 'GDP': 27400.0, 'Literacy': 100.0, 'Phones': 405.25}, 'France': {'Continent': 'Europe', 'Population': 60876136.0, 'Area': 547030, 'GDP': 27600.0, 'Literacy': 99.0, 'Phones': 586.44}, 'French Guiana': {'Continent': 'America', 'Population': 199509.0, 'Area': 91000, 'GDP': 8300.0, 'Literacy': 83.0, 'Phones': 255.63}, 'French Polynesia': {'Continent': 'Oceania', 'Population': 274578.0, 'Area': 4167, 'GDP': 17500.0, 'Literacy': 98.0, 'Phones': 194.48}, 'Gabon': {'Continent': 'Africa', 'Population': 1424906.0, 'Area': 267667, 'GDP': 5500.0, 'Literacy': 63.2, 'Phones': 27.44}, 'Gambia, The': {'Continent': 'Africa', 'Population': 1641564.0, 'Area': 11300, 'GDP': 1700.0, 'Literacy': 40.1, 'Phones': 26.8}, 'Germany': {'Continent': 'Europe', 'Population': 82422299.0, 'Area': 357021, 'GDP': 27600.0, 'Literacy': 99.0, 'Phones': 667.85}, 'Ghana': {'Continent': 'Africa', 'Population': 22409572.0, 'Area': 239460, 'GDP': 2200.0, 'Literacy': 74.8, 'Phones': 14.35}, 'Greece': {'Continent': 'Europe', 'Population': 10688058.0, 'Area': 131940, 'GDP': 20000.0, 'Literacy': 97.5, 'Phones': 589.72}, 'Grenada': {'Continent': 'America', 'Population': 89703.0, 'Area': 344, 'GDP': 5000.0, 'Literacy': 98.0, 'Phones': 364.54}, 'Guadeloupe': {'Continent': 'America', 'Population': 452776.0, 'Area': 1780, 'GDP': 8000.0, 'Literacy': 90.0, 'Phones': 463.81}, 'Guam': {'Continent': 'Oceania', 'Population': 171019.0, 'Area': 541, 'GDP': 21000.0, 'Literacy': 99.0, 'Phones': 491.96}, 'Guatemala': {'Continent': 'America', 'Population': 12293545.0, 'Area': 108890, 'GDP': 4100.0, 'Literacy': 70.6, 'Phones': 92.09}, 'Guinea': {'Continent': 'Africa', 'Population': 9690222.0, 'Area': 245857, 'GDP': 2100.0, 'Literacy': 35.9, 'Phones': 2.7}, 'Guinea-Bissau': {'Continent': 'Africa', 'Population': 1442029.0, 'Area': 36120, 'GDP': 800.0, 'Literacy': 42.4, 'Phones': 7.35}, 'Guyana': {'Continent': 'America', 'Population': 767245.0, 'Area': 214970, 'GDP': 4000.0, 'Literacy': 98.8, 'Phones': 143.5}, 'Haiti': {'Continent': 'America', 'Population': 8308504.0, 'Area': 27750, 'GDP': 1600.0, 'Literacy': 52.9, 'Phones': 16.85}, 'Honduras': {'Continent': 'America', 'Population': 7326496.0, 'Area': 112090, 'GDP': 2600.0, 'Literacy': 76.2, 'Phones': 67.48}, 'Hong Kong': {'Continent': 'Asia', 'Population': 6940432.0, 'Area': 1092, 'GDP': 28800.0, 'Literacy': 93.5, 'Phones': 546.74}, 'Hungary': {'Continent': 'Europe', 'Population': 9981334.0, 'Area': 93030, 'GDP': 13900.0, 'Literacy': 99.4, 'Phones': 336.23}, 'Iceland': {'Continent': 'Europe', 'Population': 299388.0, 'Area': 103000, 'GDP': 30900.0, 'Literacy': 99.9, 'Phones': 647.65}, 'India': {'Continent': 'Asia', 'Population': 1095351995.0, 'Area': 3287590, 'GDP': 2900.0, 'Literacy': 59.5, 'Phones': 45.42}, 'Indonesia': {'Continent': 'Asia', 'Population': 245452739.0, 'Area': 1919440, 'GDP': 3200.0, 'Literacy': 87.9, 'Phones': 52.03}, 'Iran': {'Continent': 'Asia', 'Population': 68688433.0, 'Area': 1648000, 'GDP': 7000.0, 'Literacy': 79.4, 'Phones': 276.41}, 'Iraq': {'Continent': 'Asia', 'Population': 26783383.0, 'Area': 437072, 'GDP': 1500.0, 'Literacy': 40.4, 'Phones': 38.61}, 'Ireland': {'Continent': 'Europe', 'Population': 4062235.0, 'Area': 70280, 'GDP': 29600.0, 'Literacy': 98.0, 'Phones': 500.46}, 'Israel': {'Continent': 'Asia', 'Population': 6352117.0, 'Area': 20770, 'GDP': 19800.0, 'Literacy': 95.4, 'Phones': 462.26}, 'Italy': {'Continent': 'Europe', 'Population': 58133509.0, 'Area': 301230, 'GDP': 26700.0, 'Literacy': 98.6, 'Phones': 430.89}, 'Jamaica': {'Continent': 'America', 'Population': 2758124.0, 'Area': 10991, 'GDP': 3900.0, 'Literacy': 87.9, 'Phones': 124.0}, 'Japan': {'Continent': 'Asia', 'Population': 127463611.0, 'Area': 377835, 'GDP': 28200.0, 'Literacy': 99.0, 'Phones': 461.15}, 'Jordan': {'Continent': 'Asia', 'Population': 5906760.0, 'Area': 92300, 'GDP': 4300.0, 'Literacy': 91.3, 'Phones': 104.51}, 'Kenya': {'Continent': 'Africa', 'Population': 34707817.0, 'Area': 582650, 'GDP': 1000.0, 'Literacy': 85.1, 'Phones': 8.12}, 'Korea, North': {'Continent': 'Asia', 'Population': 23113019.0, 'Area': 120540, 'GDP': 1300.0, 'Literacy': 99.0, 'Phones': 42.4}, 'Korea, South': {'Continent': 'Asia', 'Population': 48846823.0, 'Area': 98480, 'GDP': 17800.0, 'Literacy': 97.9, 'Phones': 486.11}, 'Kuwait': {'Continent': 'Asia', 'Population': 2418393.0, 'Area': 17820, 'GDP': 19000.0, 'Literacy': 83.5, 'Phones': 211.01}, 'Laos': {'Continent': 'Asia', 'Population': 6368481.0, 'Area': 236800, 'GDP': 1700.0, 'Literacy': 66.4, 'Phones': 14.14}, 'Latvia': {'Continent': 'Europe', 'Population': 2274735.0, 'Area': 64589, 'GDP': 10200.0, 'Literacy': 99.8, 'Phones': 321.36}, 'Lebanon': {'Continent': 'Asia', 'Population': 3874050.0, 'Area': 10400, 'GDP': 4800.0, 'Literacy': 87.4, 'Phones': 255.55}, 'Lesotho': {'Continent': 'Africa', 'Population': 2022331.0, 'Area': 30355, 'GDP': 3000.0, 'Literacy': 84.8, 'Phones': 23.73}, 'Liberia': {'Continent': 'Africa', 'Population': 3042004.0, 'Area': 111370, 'GDP': 1000.0, 'Literacy': 57.5, 'Phones': 2.27}, 'Libya': {'Continent': 'Africa', 'Population': 5900754.0, 'Area': 1759540, 'GDP': 6400.0, 'Literacy': 82.6, 'Phones': 127.1}, 'Liechtenstein': {'Continent': 'Europe', 'Population': 33987.0, 'Area': 160, 'GDP': 25000.0, 'Literacy': 100.0, 'Phones': 585.52}, 'Lithuania': {'Continent': 'Europe', 'Population': 3585906.0, 'Area': 65200, 'GDP': 11400.0, 'Literacy': 99.6, 'Phones': 223.4}, 'Luxembourg': {'Continent': 'Europe', 'Population': 474413.0, 'Area': 2586, 'GDP': 55100.0, 'Literacy': 100.0, 'Phones': 515.37}, 'Macau': {'Continent': 'Asia', 'Population': 453125.0, 'Area': 28, 'GDP': 19400.0, 'Literacy': 94.5, 'Phones': 384.88}, 'Madagascar': {'Continent': 'Africa', 'Population': 18595469.0, 'Area': 587040, 'GDP': 800.0, 'Literacy': 68.9, 'Phones': 3.6}, 'Malawi': {'Continent': 'Africa', 'Population': 13013926.0, 'Area': 118480, 'GDP': 600.0, 'Literacy': 62.7, 'Phones': 7.89}, 'Malaysia': {'Continent': 'Asia', 'Population': 24385858.0, 'Area': 329750, 'GDP': 9000.0, 'Literacy': 88.7, 'Phones': 179.04}, 'Maldives': {'Continent': 'Asia', 'Population': 359008.0, 'Area': 300, 'GDP': 3900.0, 'Literacy': 97.2, 'Phones': 89.97}, 'Mali': {'Continent': 'Africa', 'Population': 11716829.0, 'Area': 1240000, 'GDP': 900.0, 'Literacy': 46.4, 'Phones': 6.4}, 'Malta': {'Continent': 'Europe', 'Population': 400214.0, 'Area': 316, 'GDP': 17700.0, 'Literacy': 92.8, 'Phones': 504.98}, 'Marshall Islands': {'Continent': 'Oceania', 'Population': 60422.0, 'Area': 11854, 'GDP': 1600.0, 'Literacy': 93.7, 'Phones': 91.19}, 'Martinique': {'Continent': 'America', 'Population': 436131.0, 'Area': 1100, 'GDP': 14400.0, 'Literacy': 97.7, 'Phones': 394.38}, 'Mauritania': {'Continent': 'Africa', 'Population': 3177388.0, 'Area': 1030700, 'GDP': 1800.0, 'Literacy': 41.7, 'Phones': 12.9}, 'Mauritius': {'Continent': 'Africa', 'Population': 1240827.0, 'Area': 2040, 'GDP': 11400.0, 'Literacy': 85.6, 'Phones': 289.32}, 'Mexico': {'Continent': 'America', 'Population': 107449525.0, 'Area': 1972550, 'GDP': 9000.0, 'Literacy': 92.2, 'Phones': 181.59}, 'Micronesia, Fed. St.': {'Continent': 'Oceania', 'Population': 108004.0, 'Area': 702, 'GDP': 2000.0, 'Literacy': 89.0, 'Phones': 114.81}, 'Monaco': {'Continent': 'Europe', 'Population': 32543.0, 'Area': 2, 'GDP': 27000.0, 'Literacy': 99.0, 'Phones': 1035.55}, 'Mongolia': {'Continent': 'Asia', 'Population': 2832224.0, 'Area': 1564116, 'GDP': 1800.0, 'Literacy': 97.8, 'Phones': 55.08}, 'Morocco': {'Continent': 'Africa', 'Population': 33241259.0, 'Area': 446550, 'GDP': 4000.0, 'Literacy': 51.7, 'Phones': 40.35}, 'Mozambique': {'Continent': 'Africa', 'Population': 19686505.0, 'Area': 801590, 'GDP': 1200.0, 'Literacy': 47.8, 'Phones': 3.54}, 'Namibia': {'Continent': 'Africa', 'Population': 2044147.0, 'Area': 825418, 'GDP': 7200.0, 'Literacy': 84.0, 'Phones': 62.57}, 'Nepal': {'Continent': 'Asia', 'Population': 28287147.0, 'Area': 147181, 'GDP': 1400.0, 'Literacy': 45.2, 'Phones': 15.86}, 'Netherlands': {'Continent': 'Europe', 'Population': 16491461.0, 'Area': 41526, 'GDP': 28600.0, 'Literacy': 99.0, 'Phones': 460.84}, 'Netherlands Antilles': {'Continent': 'America', 'Population': 221736.0, 'Area': 960, 'GDP': 11400.0, 'Literacy': 96.7, 'Phones': 365.3}, 'New Caledonia': {'Continent': 'Oceania', 'Population': 219246.0, 'Area': 19060, 'GDP': 15000.0, 'Literacy': 91.0, 'Phones': 252.23}, 'New Zealand': {'Continent': 'Oceania', 'Population': 4076140.0, 'Area': 268680, 'GDP': 21600.0, 'Literacy': 99.0, 'Phones': 441.72}, 'Nicaragua': {'Continent': 'America', 'Population': 5570129.0, 'Area': 129494, 'GDP': 2300.0, 'Literacy': 67.5, 'Phones': 39.66}, 'Niger': {'Continent': 'Africa', 'Population': 12525094.0, 'Area': 1267000, 'GDP': 800.0, 'Literacy': 17.6, 'Phones': 1.92}, 'Nigeria': {'Continent': 'Africa', 'Population': 131859731.0, 'Area': 923768, 'GDP': 900.0, 'Literacy': 68.0, 'Phones': 9.28}, 'N. Mariana Islands': {'Continent': 'Oceania', 'Population': 82459.0, 'Area': 477, 'GDP': 12500.0, 'Literacy': 97.0, 'Phones': 254.67}, 'Norway': {'Continent': 'Europe', 'Population': 4610820.0, 'Area': 323802, 'GDP': 37800.0, 'Literacy': 100.0, 'Phones': 461.74}, 'Oman': {'Continent': 'Asia', 'Population': 3102229.0, 'Area': 212460, 'GDP': 13100.0, 'Literacy': 75.8, 'Phones': 85.49}, 'Pakistan': {'Continent': 'Asia', 'Population': 165803560.0, 'Area': 803940, 'GDP': 2100.0, 'Literacy': 45.7, 'Phones': 31.83}, 'Palau': {'Continent': 'Oceania', 'Population': 20579.0, 'Area': 458, 'GDP': 9000.0, 'Literacy': 92.0, 'Phones': 325.57}, 'Panama': {'Continent': 'America', 'Population': 3191319.0, 'Area': 78200, 'GDP': 6300.0, 'Literacy': 92.6, 'Phones': 137.91}, 'Papua New Guinea': {'Continent': 'Oceania', 'Population': 5670544.0, 'Area': 462840, 'GDP': 2200.0, 'Literacy': 64.6, 'Phones': 10.93}, 'Paraguay': {'Continent': 'America', 'Population': 6506464.0, 'Area': 406750, 'GDP': 4700.0, 'Literacy': 94.0, 'Phones': 49.23}, 'Peru': {'Continent': 'America', 'Population': 28302603.0, 'Area': 1285220, 'GDP': 5100.0, 'Literacy': 90.9, 'Phones': 79.52}, 'Philippines': {'Continent': 'Asia', 'Population': 89468677.0, 'Area': 300000, 'GDP': 4600.0, 'Literacy': 92.6, 'Phones': 38.42}, 'Poland': {'Continent': 'Europe', 'Population': 38536869.0, 'Area': 312685, 'GDP': 11100.0, 'Literacy': 99.8, 'Phones': 306.28}, 'Portugal': {'Continent': 'Europe', 'Population': 10605870.0, 'Area': 92391, 'GDP': 18000.0, 'Literacy': 93.3, 'Phones': 399.21}, 'Puerto Rico': {'Continent': 'America', 'Population': 3927188.0, 'Area': 13790, 'GDP': 16800.0, 'Literacy': 94.1, 'Phones': 283.13}, 'Qatar': {'Continent': 'Asia', 'Population': 885359.0, 'Area': 11437, 'GDP': 21500.0, 'Literacy': 82.5, 'Phones': 232.0}, 'Reunion': {'Continent': 'Africa', 'Population': 787584.0, 'Area': 2517, 'GDP': 5800.0, 'Literacy': 88.9, 'Phones': 380.91}, 'Romania': {'Continent': 'Europe', 'Population': 22303552.0, 'Area': 237500, 'GDP': 7000.0, 'Literacy': 98.4, 'Phones': 196.87}, 'Rwanda': {'Continent': 'Africa', 'Population': 8648248.0, 'Area': 26338, 'GDP': 1300.0, 'Literacy': 70.4, 'Phones': 2.66}, 'Saint Helena': {'Continent': 'Africa', 'Population': 7502.0, 'Area': 413, 'GDP': 2500.0, 'Literacy': 97.0, 'Phones': 293.26}, 'Saint Kitts & Nevis': {'Continent': 'America', 'Population': 39129.0, 'Area': 261, 'GDP': 8800.0, 'Literacy': 97.0, 'Phones': 638.91}, 'Saint Lucia': {'Continent': 'America', 'Population': 168458.0, 'Area': 616, 'GDP': 5400.0, 'Literacy': 67.0, 'Phones': 303.34}, 'St Pierre & Miquelon': {'Continent': 'America', 'Population': 7026.0, 'Area': 242, 'GDP': 6900.0, 'Literacy': 99.0, 'Phones': 683.18}, 'Saint Vincent and the Grenadines': {'Continent': 'America', 'Population': 117848.0, 'Area': 389, 'GDP': 2900.0, 'Literacy': 96.0, 'Phones': 190.92}, 'Samoa': {'Continent': 'Oceania', 'Population': 176908.0, 'Area': 2944, 'GDP': 5600.0, 'Literacy': 99.7, 'Phones': 75.18}, 'San Marino': {'Continent': 'Europe', 'Population': 29251.0, 'Area': 61, 'GDP': 34600.0, 'Literacy': 96.0, 'Phones': 704.25}, 'Sao Tome & Principe': {'Continent': 'Africa', 'Population': 193413.0, 'Area': 1001, 'GDP': 1200.0, 'Literacy': 79.3, 'Phones': 36.19}, 'Saudi Arabia': {'Continent': 'Asia', 'Population': 27019731.0, 'Area': 1960582, 'GDP': 11800.0, 'Literacy': 78.8, 'Phones': 140.64}, 'Senegal': {'Continent': 'Africa', 'Population': 11987121.0, 'Area': 196190, 'GDP': 1600.0, 'Literacy': 40.2, 'Phones': 22.24}, 'Serbia': {'Continent': 'Europe', 'Population': 9396411.0, 'Area': 88361, 'GDP': 2200.0, 'Literacy': 93.0, 'Phones': 285.79}, 'Seychelles': {'Continent': 'Africa', 'Population': 81541.0, 'Area': 455, 'GDP': 7800.0, 'Literacy': 58.0, 'Phones': 262.44}, 'Sierra Leone': {'Continent': 'Africa', 'Population': 6005250.0, 'Area': 71740, 'GDP': 500.0, 'Literacy': 31.4, 'Phones': 4.0}, 'Singapore': {'Continent': 'Asia', 'Population': 4492150.0, 'Area': 693, 'GDP': 23700.0, 'Literacy': 92.5, 'Phones': 411.38}, 'Slovenia': {'Continent': 'Europe', 'Population': 2010347.0, 'Area': 20273, 'GDP': 19000.0, 'Literacy': 99.7, 'Phones': 406.1}, 'Somalia': {'Continent': 'Africa', 'Population': 8863338.0, 'Area': 637657, 'GDP': 500.0, 'Literacy': 37.8, 'Phones': 11.28}, 'South Africa': {'Continent': 'Africa', 'Population': 44187637.0, 'Area': 1219912, 'GDP': 10700.0, 'Literacy': 86.4, 'Phones': 107.02}, 'Spain': {'Continent': 'Europe', 'Population': 40397842.0, 'Area': 504782, 'GDP': 22000.0, 'Literacy': 97.9, 'Phones': 453.54}, 'Sri Lanka': {'Continent': 'Asia', 'Population': 20222240.0, 'Area': 65610, 'GDP': 3700.0, 'Literacy': 92.3, 'Phones': 61.52}, 'Sudan': {'Continent': 'Africa', 'Population': 41236378.0, 'Area': 2505810, 'GDP': 1900.0, 'Literacy': 61.1, 'Phones': 16.25}, 'Suriname': {'Continent': 'America', 'Population': 439117.0, 'Area': 163270, 'GDP': 4000.0, 'Literacy': 93.0, 'Phones': 184.69}, 'Swaziland': {'Continent': 'Africa', 'Population': 1136334.0, 'Area': 17363, 'GDP': 4900.0, 'Literacy': 81.6, 'Phones': 30.8}, 'Sweden': {'Continent': 'Europe', 'Population': 9016596.0, 'Area': 449964, 'GDP': 26800.0, 'Literacy': 99.0, 'Phones': 715.01}, 'Switzerland': {'Continent': 'Europe', 'Population': 7523934.0, 'Area': 41290, 'GDP': 32700.0, 'Literacy': 99.0, 'Phones': 680.89}, 'Syria': {'Continent': 'Asia', 'Population': 18881361.0, 'Area': 185180, 'GDP': 3300.0, 'Literacy': 76.9, 'Phones': 153.75}, 'Taiwan': {'Continent': 'Asia', 'Population': 23036087.0, 'Area': 35980, 'GDP': 23400.0, 'Literacy': 96.1, 'Phones': 591.03}, 'Tanzania': {'Continent': 'Africa', 'Population': 37445392.0, 'Area': 945087, 'GDP': 600.0, 'Literacy': 78.2, 'Phones': 3.96}, 'Thailand': {'Continent': 'Asia', 'Population': 64631595.0, 'Area': 514000, 'GDP': 7400.0, 'Literacy': 92.6, 'Phones': 108.85}, 'Togo': {'Continent': 'Africa', 'Population': 5548702.0, 'Area': 56785, 'GDP': 1500.0, 'Literacy': 60.9, 'Phones': 10.56}, 'Tonga': {'Continent': 'Oceania', 'Population': 114689.0, 'Area': 748, 'GDP': 2200.0, 'Literacy': 98.5, 'Phones': 97.66}, 'Trinidad & Tobago': {'Continent': 'America', 'Population': 1065842.0, 'Area': 5128, 'GDP': 9500.0, 'Literacy': 98.6, 'Phones': 303.52}, 'Tunisia': {'Continent': 'Africa', 'Population': 10175014.0, 'Area': 163610, 'GDP': 6900.0, 'Literacy': 74.2, 'Phones': 123.59}, 'Turkey': {'Continent': 'Asia', 'Population': 70413958.0, 'Area': 780580, 'GDP': 6700.0, 'Literacy': 86.5, 'Phones': 269.52}, 'Turks & Caicos Is': {'Continent': 'America', 'Population': 21152.0, 'Area': 430, 'GDP': 9600.0, 'Literacy': 98.0, 'Phones': 269.48}, 'Uganda': {'Continent': 'Africa', 'Population': 28195754.0, 'Area': 236040, 'GDP': 1400.0, 'Literacy': 69.9, 'Phones': 3.58}, 'United Arab Emirates': {'Continent': 'Asia', 'Population': 2602713.0, 'Area': 82880, 'GDP': 23200.0, 'Literacy': 77.9, 'Phones': 475.27}, 'United Kingdom': {'Continent': 'Europe', 'Population': 60609153.0, 'Area': 244820, 'GDP': 27700.0, 'Literacy': 99.0, 'Phones': 543.53}, 'United States': {'Continent': 'America', 'Population': 298444215.0, 'Area': 9631420, 'GDP': 37800.0, 'Literacy': 97.0, 'Phones': 897.99}, 'Uruguay': {'Continent': 'America', 'Population': 3431932.0, 'Area': 176220, 'GDP': 12800.0, 'Literacy': 98.0, 'Phones': 291.38}, 'Vanuatu': {'Continent': 'Oceania', 'Population': 208869.0, 'Area': 12200, 'GDP': 2900.0, 'Literacy': 53.0, 'Phones': 32.56}, 'Venezuela': {'Continent': 'America', 'Population': 25730435.0, 'Area': 912050, 'GDP': 4800.0, 'Literacy': 93.4, 'Phones': 140.13}, 'Vietnam': {'Continent': 'Asia', 'Population': 84402966.0, 'Area': 329560, 'GDP': 2500.0, 'Literacy': 90.3, 'Phones': 187.73}, 'Wallis and Futuna': {'Continent': 'Oceania', 'Population': 16025.0, 'Area': 274, 'GDP': 3700.0, 'Literacy': 50.0, 'Phones': 118.56}, 'Yemen': {'Continent': 'Asia', 'Population': 21456188.0, 'Area': 527970, 'GDP': 800.0, 'Literacy': 50.2, 'Phones': 37.2}, 'Zambia': {'Continent': 'Africa', 'Population': 11502010.0, 'Area': 752614, 'GDP': 800.0, 'Literacy': 80.6, 'Phones': 8.23}, 'Zimbabwe': {'Continent': 'Africa', 'Population': 12236805.0, 'Area': 390580, 'GDP': 1900.0, 'Literacy': 90.7, 'Phones': 26.8}}\n"
     ]
    }
   ],
   "source": [
    "def import_data():\n",
    "    with open(\"./data/countries.json\") as user_file:\n",
    "        parsed_json = json.load(user_file)\n",
    "    return parsed_json\n",
    "    \n",
    "    \n",
    "imp = import_data()\n",
    "\n",
    "print(imp)"
   ]
  },
  {
   "cell_type": "code",
   "execution_count": 5,
   "id": "6cce3fc3",
   "metadata": {},
   "outputs": [
    {
     "data": {
      "text/plain": [
       "dict"
      ]
     },
     "execution_count": 5,
     "metadata": {},
     "output_type": "execute_result"
    }
   ],
   "source": [
    "\n",
    "type(imp)"
   ]
  },
  {
   "cell_type": "code",
   "execution_count": 6,
   "id": "478122ee",
   "metadata": {
    "deletable": false,
    "editable": false,
    "nbgrader": {
     "grade": true,
     "grade_id": "cell-78d54c806fb28266",
     "locked": true,
     "points": 2,
     "schema_version": 3,
     "solution": false,
     "task": false
    }
   },
   "outputs": [
    {
     "name": "stdout",
     "output_type": "stream",
     "text": [
      "---- All asserts passed ---- \n"
     ]
    }
   ],
   "source": [
    "countries = import_data()\n",
    "assert isinstance(countries, dict), \"Not correct. Keep trying.\"\n",
    "assert len(countries) == 194, \"Not correct. Keep trying.\"\n",
    "assert countries[\"Albania\"][\"Continent\"] == \"Europe\", \"Not correct. Keep trying.\"\n",
    "assert countries[\"Vietnam\"][\"Area\"] == 329560, \"Not correct. Keep trying.\"\n",
    "print(\"---- All asserts passed ---- \")\n",
    "countries_backup = import_data()"
   ]
  },
  {
   "cell_type": "markdown",
   "id": "6870dd0c",
   "metadata": {
    "deletable": false,
    "editable": false,
    "nbgrader": {
     "grade": false,
     "grade_id": "cell-4f68e55c7281fbaf",
     "locked": true,
     "schema_version": 3,
     "solution": false,
     "task": false
    }
   },
   "source": [
    "## Question 2\n",
    "\n",
    "The dictionary that you built contains information about a serie of countries. So from now on, we’ll call it the `countries` dictionary.\n",
    "In the `countries` dictionary, each country has a field called `Population` (be aware that this is case sensitive) that gives the number of people living in that country. Since this is a count, the data should have integer type. However, we have found some numbers with type of *float*. Let's try to fix this!\n",
    "\n",
    "Complete the function `convert_population_to_int`. This function should:\n",
    "- Receive the `countries` dictionary as argument;\n",
    "- Convert the `Population` field from float to int type for all the countries, using a `for` loop;\n",
    "- Return the updated `countries` dictionary;"
   ]
  },
  {
   "cell_type": "code",
   "execution_count": 7,
   "id": "c1a6090f",
   "metadata": {},
   "outputs": [
    {
     "name": "stdout",
     "output_type": "stream",
     "text": [
      "{'Afghanistan': {'Continent': 'Asia', 'Population': 31056997.0, 'Area': 647500, 'GDP': 700.0, 'Literacy': 36.0, 'Phones': 3.22}, 'Albania': {'Continent': 'Europe', 'Population': 3581655.0, 'Area': 28748, 'GDP': 4500.0, 'Literacy': 86.5, 'Phones': 71.2}, 'Algeria': {'Continent': 'Africa', 'Population': 32930091.0, 'Area': 2381740, 'GDP': 6000.0, 'Literacy': 70.0, 'Phones': 78.1}, 'American Samoa': {'Continent': 'Oceania', 'Population': 57794.0, 'Area': 199, 'GDP': 8000.0, 'Literacy': 97.0, 'Phones': 259.54}, 'Andorra': {'Continent': 'Europe', 'Population': 71201.0, 'Area': 468, 'GDP': 19000.0, 'Literacy': 100.0, 'Phones': 497.18}, 'Angola': {'Continent': 'Africa', 'Population': 12127071.0, 'Area': 1246700, 'GDP': 1900.0, 'Literacy': 42.0, 'Phones': 7.78}, 'Anguilla': {'Continent': 'America', 'Population': 13477.0, 'Area': 102, 'GDP': 8600.0, 'Literacy': 95.0, 'Phones': 460.04}, 'Antigua & Barbuda': {'Continent': 'America', 'Population': 69108.0, 'Area': 443, 'GDP': 11000.0, 'Literacy': 89.0, 'Phones': 549.86}, 'Argentina': {'Continent': 'America', 'Population': 39921833.0, 'Area': 2766890, 'GDP': 11200.0, 'Literacy': 97.1, 'Phones': 220.43}, 'Aruba': {'Continent': 'America', 'Population': 71891.0, 'Area': 193, 'GDP': 28000.0, 'Literacy': 97.0, 'Phones': 516.06}, 'Australia': {'Continent': 'Oceania', 'Population': 20264082.0, 'Area': 7686850, 'GDP': 29000.0, 'Literacy': 100.0, 'Phones': 565.53}, 'Austria': {'Continent': 'Europe', 'Population': 8192880.0, 'Area': 83870, 'GDP': 30000.0, 'Literacy': 98.0, 'Phones': 452.22}, 'Bahamas, The': {'Continent': 'America', 'Population': 303770.0, 'Area': 13940, 'GDP': 16700.0, 'Literacy': 95.6, 'Phones': 460.55}, 'Bahrain': {'Continent': 'Asia', 'Population': 698585.0, 'Area': 665, 'GDP': 16900.0, 'Literacy': 89.1, 'Phones': 281.28}, 'Bangladesh': {'Continent': 'Asia', 'Population': 147365352.0, 'Area': 144000, 'GDP': 1900.0, 'Literacy': 43.1, 'Phones': 7.26}, 'Barbados': {'Continent': 'America', 'Population': 279912.0, 'Area': 431, 'GDP': 15700.0, 'Literacy': 97.4, 'Phones': 481.94}, 'Belgium': {'Continent': 'Europe', 'Population': 10379067.0, 'Area': 30528, 'GDP': 29100.0, 'Literacy': 98.0, 'Phones': 462.57}, 'Belize': {'Continent': 'America', 'Population': 287730.0, 'Area': 22966, 'GDP': 4900.0, 'Literacy': 94.1, 'Phones': 115.73}, 'Benin': {'Continent': 'Africa', 'Population': 7862944.0, 'Area': 112620, 'GDP': 1100.0, 'Literacy': 40.9, 'Phones': 9.7}, 'Bermuda': {'Continent': 'America', 'Population': 65773.0, 'Area': 53, 'GDP': 36000.0, 'Literacy': 98.0, 'Phones': 851.41}, 'Bhutan': {'Continent': 'Asia', 'Population': 2279723.0, 'Area': 47000, 'GDP': 1300.0, 'Literacy': 42.2, 'Phones': 14.34}, 'Bolivia': {'Continent': 'America', 'Population': 8989046.0, 'Area': 1098580, 'GDP': 2400.0, 'Literacy': 87.2, 'Phones': 71.9}, 'Botswana': {'Continent': 'Africa', 'Population': 1639833.0, 'Area': 600370, 'GDP': 9000.0, 'Literacy': 79.8, 'Phones': 80.5}, 'Brazil': {'Continent': 'America', 'Population': 188078227.0, 'Area': 8511965, 'GDP': 7600.0, 'Literacy': 86.4, 'Phones': 225.34}, 'British Virgin Is.': {'Continent': 'America', 'Population': 23098.0, 'Area': 153, 'GDP': 16000.0, 'Literacy': 97.8, 'Phones': 506.54}, 'Brunei': {'Continent': 'Asia', 'Population': 379444.0, 'Area': 5770, 'GDP': 18600.0, 'Literacy': 93.9, 'Phones': 237.19}, 'Bulgaria': {'Continent': 'Europe', 'Population': 7385367.0, 'Area': 110910, 'GDP': 7600.0, 'Literacy': 98.6, 'Phones': 336.27}, 'Burkina Faso': {'Continent': 'Africa', 'Population': 13902972.0, 'Area': 274200, 'GDP': 1100.0, 'Literacy': 26.6, 'Phones': 7.01}, 'Burma': {'Continent': 'Asia', 'Population': 47382633.0, 'Area': 678500, 'GDP': 1800.0, 'Literacy': 85.3, 'Phones': 10.05}, 'Burundi': {'Continent': 'Africa', 'Population': 8090068.0, 'Area': 27830, 'GDP': 600.0, 'Literacy': 51.6, 'Phones': 3.42}, 'Cambodia': {'Continent': 'Asia', 'Population': 13881427.0, 'Area': 181040, 'GDP': 1900.0, 'Literacy': 69.4, 'Phones': 2.62}, 'Cameroon': {'Continent': 'Africa', 'Population': 17340702.0, 'Area': 475440, 'GDP': 1800.0, 'Literacy': 79.0, 'Phones': 5.73}, 'Canada': {'Continent': 'America', 'Population': 33098932.0, 'Area': 9984670, 'GDP': 29800.0, 'Literacy': 97.0, 'Phones': 552.16}, 'Cape Verde': {'Continent': 'Africa', 'Population': 420979.0, 'Area': 4033, 'GDP': 1400.0, 'Literacy': 76.6, 'Phones': 169.6}, 'Cayman Islands': {'Continent': 'America', 'Population': 45436.0, 'Area': 262, 'GDP': 35000.0, 'Literacy': 98.0, 'Phones': 836.34}, 'Central African Rep.': {'Continent': 'Africa', 'Population': 4303356.0, 'Area': 622984, 'GDP': 1100.0, 'Literacy': 51.0, 'Phones': 2.32}, 'Chad': {'Continent': 'Africa', 'Population': 9944201.0, 'Area': 1284000, 'GDP': 1200.0, 'Literacy': 47.5, 'Phones': 1.31}, 'Chile': {'Continent': 'America', 'Population': 16134219.0, 'Area': 756950, 'GDP': 9900.0, 'Literacy': 96.2, 'Phones': 212.96}, 'China': {'Continent': 'Asia', 'Population': 1313973713.0, 'Area': 9596960, 'GDP': 5000.0, 'Literacy': 90.9, 'Phones': 266.7}, 'Colombia': {'Continent': 'America', 'Population': 43593035.0, 'Area': 1138910, 'GDP': 6300.0, 'Literacy': 92.5, 'Phones': 176.15}, 'Comoros': {'Continent': 'Africa', 'Population': 690948.0, 'Area': 2170, 'GDP': 700.0, 'Literacy': 56.5, 'Phones': 24.46}, 'Congo, Dem. Rep.': {'Continent': 'Africa', 'Population': 62660551.0, 'Area': 2345410, 'GDP': 700.0, 'Literacy': 65.5, 'Phones': 0.17}, 'Congo, Repub. of the': {'Continent': 'Africa', 'Population': 3702314.0, 'Area': 342000, 'GDP': 700.0, 'Literacy': 83.8, 'Phones': 3.73}, 'Cook Islands': {'Continent': 'Oceania', 'Population': 21388.0, 'Area': 240, 'GDP': 5000.0, 'Literacy': 95.0, 'Phones': 289.88}, 'Costa Rica': {'Continent': 'America', 'Population': 4075261.0, 'Area': 51100, 'GDP': 9100.0, 'Literacy': 96.0, 'Phones': 340.71}, \"Cote d'Ivoire\": {'Continent': 'Africa', 'Population': 17654843.0, 'Area': 322460, 'GDP': 1400.0, 'Literacy': 50.9, 'Phones': 14.61}, 'Croatia': {'Continent': 'Europe', 'Population': 4494749.0, 'Area': 56542, 'GDP': 10600.0, 'Literacy': 98.5, 'Phones': 420.38}, 'Cuba': {'Continent': 'America', 'Population': 11382820.0, 'Area': 110860, 'GDP': 2900.0, 'Literacy': 97.0, 'Phones': 74.67}, 'Czech Republic': {'Continent': 'Europe', 'Population': 10235455.0, 'Area': 78866, 'GDP': 15700.0, 'Literacy': 99.9, 'Phones': 314.33}, 'Denmark': {'Continent': 'Europe', 'Population': 5450661.0, 'Area': 43094, 'GDP': 31100.0, 'Literacy': 100.0, 'Phones': 614.6}, 'Djibouti': {'Continent': 'Africa', 'Population': 486530.0, 'Area': 23000, 'GDP': 1300.0, 'Literacy': 67.9, 'Phones': 22.81}, 'Dominica': {'Continent': 'America', 'Population': 68910.0, 'Area': 754, 'GDP': 5400.0, 'Literacy': 94.0, 'Phones': 304.75}, 'Dominican Republic': {'Continent': 'America', 'Population': 9183984.0, 'Area': 48730, 'GDP': 6000.0, 'Literacy': 84.7, 'Phones': 97.4}, 'Ecuador': {'Continent': 'America', 'Population': 13547510.0, 'Area': 283560, 'GDP': 3300.0, 'Literacy': 92.5, 'Phones': 125.6}, 'Egypt': {'Continent': 'Africa', 'Population': 78887007.0, 'Area': 1001450, 'GDP': 4000.0, 'Literacy': 57.7, 'Phones': 131.78}, 'El Salvador': {'Continent': 'America', 'Population': 6822378.0, 'Area': 21040, 'GDP': 4800.0, 'Literacy': 80.2, 'Phones': 142.4}, 'Equatorial Guinea': {'Continent': 'Africa', 'Population': 540109.0, 'Area': 28051, 'GDP': 2700.0, 'Literacy': 85.7, 'Phones': 18.51}, 'Eritrea': {'Continent': 'Africa', 'Population': 4786994.0, 'Area': 121320, 'GDP': 700.0, 'Literacy': 58.6, 'Phones': 7.88}, 'Estonia': {'Continent': 'Europe', 'Population': 1324333.0, 'Area': 45226, 'GDP': 12300.0, 'Literacy': 99.8, 'Phones': 333.75}, 'Ethiopia': {'Continent': 'Africa', 'Population': 74777981.0, 'Area': 1127127, 'GDP': 700.0, 'Literacy': 42.7, 'Phones': 8.16}, 'Fiji': {'Continent': 'Oceania', 'Population': 905949.0, 'Area': 18270, 'GDP': 5800.0, 'Literacy': 93.7, 'Phones': 112.59}, 'Finland': {'Continent': 'Europe', 'Population': 5231372.0, 'Area': 338145, 'GDP': 27400.0, 'Literacy': 100.0, 'Phones': 405.25}, 'France': {'Continent': 'Europe', 'Population': 60876136.0, 'Area': 547030, 'GDP': 27600.0, 'Literacy': 99.0, 'Phones': 586.44}, 'French Guiana': {'Continent': 'America', 'Population': 199509.0, 'Area': 91000, 'GDP': 8300.0, 'Literacy': 83.0, 'Phones': 255.63}, 'French Polynesia': {'Continent': 'Oceania', 'Population': 274578.0, 'Area': 4167, 'GDP': 17500.0, 'Literacy': 98.0, 'Phones': 194.48}, 'Gabon': {'Continent': 'Africa', 'Population': 1424906.0, 'Area': 267667, 'GDP': 5500.0, 'Literacy': 63.2, 'Phones': 27.44}, 'Gambia, The': {'Continent': 'Africa', 'Population': 1641564.0, 'Area': 11300, 'GDP': 1700.0, 'Literacy': 40.1, 'Phones': 26.8}, 'Germany': {'Continent': 'Europe', 'Population': 82422299.0, 'Area': 357021, 'GDP': 27600.0, 'Literacy': 99.0, 'Phones': 667.85}, 'Ghana': {'Continent': 'Africa', 'Population': 22409572.0, 'Area': 239460, 'GDP': 2200.0, 'Literacy': 74.8, 'Phones': 14.35}, 'Greece': {'Continent': 'Europe', 'Population': 10688058.0, 'Area': 131940, 'GDP': 20000.0, 'Literacy': 97.5, 'Phones': 589.72}, 'Grenada': {'Continent': 'America', 'Population': 89703.0, 'Area': 344, 'GDP': 5000.0, 'Literacy': 98.0, 'Phones': 364.54}, 'Guadeloupe': {'Continent': 'America', 'Population': 452776.0, 'Area': 1780, 'GDP': 8000.0, 'Literacy': 90.0, 'Phones': 463.81}, 'Guam': {'Continent': 'Oceania', 'Population': 171019.0, 'Area': 541, 'GDP': 21000.0, 'Literacy': 99.0, 'Phones': 491.96}, 'Guatemala': {'Continent': 'America', 'Population': 12293545.0, 'Area': 108890, 'GDP': 4100.0, 'Literacy': 70.6, 'Phones': 92.09}, 'Guinea': {'Continent': 'Africa', 'Population': 9690222.0, 'Area': 245857, 'GDP': 2100.0, 'Literacy': 35.9, 'Phones': 2.7}, 'Guinea-Bissau': {'Continent': 'Africa', 'Population': 1442029.0, 'Area': 36120, 'GDP': 800.0, 'Literacy': 42.4, 'Phones': 7.35}, 'Guyana': {'Continent': 'America', 'Population': 767245.0, 'Area': 214970, 'GDP': 4000.0, 'Literacy': 98.8, 'Phones': 143.5}, 'Haiti': {'Continent': 'America', 'Population': 8308504.0, 'Area': 27750, 'GDP': 1600.0, 'Literacy': 52.9, 'Phones': 16.85}, 'Honduras': {'Continent': 'America', 'Population': 7326496.0, 'Area': 112090, 'GDP': 2600.0, 'Literacy': 76.2, 'Phones': 67.48}, 'Hong Kong': {'Continent': 'Asia', 'Population': 6940432.0, 'Area': 1092, 'GDP': 28800.0, 'Literacy': 93.5, 'Phones': 546.74}, 'Hungary': {'Continent': 'Europe', 'Population': 9981334.0, 'Area': 93030, 'GDP': 13900.0, 'Literacy': 99.4, 'Phones': 336.23}, 'Iceland': {'Continent': 'Europe', 'Population': 299388.0, 'Area': 103000, 'GDP': 30900.0, 'Literacy': 99.9, 'Phones': 647.65}, 'India': {'Continent': 'Asia', 'Population': 1095351995.0, 'Area': 3287590, 'GDP': 2900.0, 'Literacy': 59.5, 'Phones': 45.42}, 'Indonesia': {'Continent': 'Asia', 'Population': 245452739.0, 'Area': 1919440, 'GDP': 3200.0, 'Literacy': 87.9, 'Phones': 52.03}, 'Iran': {'Continent': 'Asia', 'Population': 68688433.0, 'Area': 1648000, 'GDP': 7000.0, 'Literacy': 79.4, 'Phones': 276.41}, 'Iraq': {'Continent': 'Asia', 'Population': 26783383.0, 'Area': 437072, 'GDP': 1500.0, 'Literacy': 40.4, 'Phones': 38.61}, 'Ireland': {'Continent': 'Europe', 'Population': 4062235.0, 'Area': 70280, 'GDP': 29600.0, 'Literacy': 98.0, 'Phones': 500.46}, 'Israel': {'Continent': 'Asia', 'Population': 6352117.0, 'Area': 20770, 'GDP': 19800.0, 'Literacy': 95.4, 'Phones': 462.26}, 'Italy': {'Continent': 'Europe', 'Population': 58133509.0, 'Area': 301230, 'GDP': 26700.0, 'Literacy': 98.6, 'Phones': 430.89}, 'Jamaica': {'Continent': 'America', 'Population': 2758124.0, 'Area': 10991, 'GDP': 3900.0, 'Literacy': 87.9, 'Phones': 124.0}, 'Japan': {'Continent': 'Asia', 'Population': 127463611.0, 'Area': 377835, 'GDP': 28200.0, 'Literacy': 99.0, 'Phones': 461.15}, 'Jordan': {'Continent': 'Asia', 'Population': 5906760.0, 'Area': 92300, 'GDP': 4300.0, 'Literacy': 91.3, 'Phones': 104.51}, 'Kenya': {'Continent': 'Africa', 'Population': 34707817.0, 'Area': 582650, 'GDP': 1000.0, 'Literacy': 85.1, 'Phones': 8.12}, 'Korea, North': {'Continent': 'Asia', 'Population': 23113019.0, 'Area': 120540, 'GDP': 1300.0, 'Literacy': 99.0, 'Phones': 42.4}, 'Korea, South': {'Continent': 'Asia', 'Population': 48846823.0, 'Area': 98480, 'GDP': 17800.0, 'Literacy': 97.9, 'Phones': 486.11}, 'Kuwait': {'Continent': 'Asia', 'Population': 2418393.0, 'Area': 17820, 'GDP': 19000.0, 'Literacy': 83.5, 'Phones': 211.01}, 'Laos': {'Continent': 'Asia', 'Population': 6368481.0, 'Area': 236800, 'GDP': 1700.0, 'Literacy': 66.4, 'Phones': 14.14}, 'Latvia': {'Continent': 'Europe', 'Population': 2274735.0, 'Area': 64589, 'GDP': 10200.0, 'Literacy': 99.8, 'Phones': 321.36}, 'Lebanon': {'Continent': 'Asia', 'Population': 3874050.0, 'Area': 10400, 'GDP': 4800.0, 'Literacy': 87.4, 'Phones': 255.55}, 'Lesotho': {'Continent': 'Africa', 'Population': 2022331.0, 'Area': 30355, 'GDP': 3000.0, 'Literacy': 84.8, 'Phones': 23.73}, 'Liberia': {'Continent': 'Africa', 'Population': 3042004.0, 'Area': 111370, 'GDP': 1000.0, 'Literacy': 57.5, 'Phones': 2.27}, 'Libya': {'Continent': 'Africa', 'Population': 5900754.0, 'Area': 1759540, 'GDP': 6400.0, 'Literacy': 82.6, 'Phones': 127.1}, 'Liechtenstein': {'Continent': 'Europe', 'Population': 33987.0, 'Area': 160, 'GDP': 25000.0, 'Literacy': 100.0, 'Phones': 585.52}, 'Lithuania': {'Continent': 'Europe', 'Population': 3585906.0, 'Area': 65200, 'GDP': 11400.0, 'Literacy': 99.6, 'Phones': 223.4}, 'Luxembourg': {'Continent': 'Europe', 'Population': 474413.0, 'Area': 2586, 'GDP': 55100.0, 'Literacy': 100.0, 'Phones': 515.37}, 'Macau': {'Continent': 'Asia', 'Population': 453125.0, 'Area': 28, 'GDP': 19400.0, 'Literacy': 94.5, 'Phones': 384.88}, 'Madagascar': {'Continent': 'Africa', 'Population': 18595469.0, 'Area': 587040, 'GDP': 800.0, 'Literacy': 68.9, 'Phones': 3.6}, 'Malawi': {'Continent': 'Africa', 'Population': 13013926.0, 'Area': 118480, 'GDP': 600.0, 'Literacy': 62.7, 'Phones': 7.89}, 'Malaysia': {'Continent': 'Asia', 'Population': 24385858.0, 'Area': 329750, 'GDP': 9000.0, 'Literacy': 88.7, 'Phones': 179.04}, 'Maldives': {'Continent': 'Asia', 'Population': 359008.0, 'Area': 300, 'GDP': 3900.0, 'Literacy': 97.2, 'Phones': 89.97}, 'Mali': {'Continent': 'Africa', 'Population': 11716829.0, 'Area': 1240000, 'GDP': 900.0, 'Literacy': 46.4, 'Phones': 6.4}, 'Malta': {'Continent': 'Europe', 'Population': 400214.0, 'Area': 316, 'GDP': 17700.0, 'Literacy': 92.8, 'Phones': 504.98}, 'Marshall Islands': {'Continent': 'Oceania', 'Population': 60422.0, 'Area': 11854, 'GDP': 1600.0, 'Literacy': 93.7, 'Phones': 91.19}, 'Martinique': {'Continent': 'America', 'Population': 436131.0, 'Area': 1100, 'GDP': 14400.0, 'Literacy': 97.7, 'Phones': 394.38}, 'Mauritania': {'Continent': 'Africa', 'Population': 3177388.0, 'Area': 1030700, 'GDP': 1800.0, 'Literacy': 41.7, 'Phones': 12.9}, 'Mauritius': {'Continent': 'Africa', 'Population': 1240827.0, 'Area': 2040, 'GDP': 11400.0, 'Literacy': 85.6, 'Phones': 289.32}, 'Mexico': {'Continent': 'America', 'Population': 107449525.0, 'Area': 1972550, 'GDP': 9000.0, 'Literacy': 92.2, 'Phones': 181.59}, 'Micronesia, Fed. St.': {'Continent': 'Oceania', 'Population': 108004.0, 'Area': 702, 'GDP': 2000.0, 'Literacy': 89.0, 'Phones': 114.81}, 'Monaco': {'Continent': 'Europe', 'Population': 32543.0, 'Area': 2, 'GDP': 27000.0, 'Literacy': 99.0, 'Phones': 1035.55}, 'Mongolia': {'Continent': 'Asia', 'Population': 2832224.0, 'Area': 1564116, 'GDP': 1800.0, 'Literacy': 97.8, 'Phones': 55.08}, 'Morocco': {'Continent': 'Africa', 'Population': 33241259.0, 'Area': 446550, 'GDP': 4000.0, 'Literacy': 51.7, 'Phones': 40.35}, 'Mozambique': {'Continent': 'Africa', 'Population': 19686505.0, 'Area': 801590, 'GDP': 1200.0, 'Literacy': 47.8, 'Phones': 3.54}, 'Namibia': {'Continent': 'Africa', 'Population': 2044147.0, 'Area': 825418, 'GDP': 7200.0, 'Literacy': 84.0, 'Phones': 62.57}, 'Nepal': {'Continent': 'Asia', 'Population': 28287147.0, 'Area': 147181, 'GDP': 1400.0, 'Literacy': 45.2, 'Phones': 15.86}, 'Netherlands': {'Continent': 'Europe', 'Population': 16491461.0, 'Area': 41526, 'GDP': 28600.0, 'Literacy': 99.0, 'Phones': 460.84}, 'Netherlands Antilles': {'Continent': 'America', 'Population': 221736.0, 'Area': 960, 'GDP': 11400.0, 'Literacy': 96.7, 'Phones': 365.3}, 'New Caledonia': {'Continent': 'Oceania', 'Population': 219246.0, 'Area': 19060, 'GDP': 15000.0, 'Literacy': 91.0, 'Phones': 252.23}, 'New Zealand': {'Continent': 'Oceania', 'Population': 4076140.0, 'Area': 268680, 'GDP': 21600.0, 'Literacy': 99.0, 'Phones': 441.72}, 'Nicaragua': {'Continent': 'America', 'Population': 5570129.0, 'Area': 129494, 'GDP': 2300.0, 'Literacy': 67.5, 'Phones': 39.66}, 'Niger': {'Continent': 'Africa', 'Population': 12525094.0, 'Area': 1267000, 'GDP': 800.0, 'Literacy': 17.6, 'Phones': 1.92}, 'Nigeria': {'Continent': 'Africa', 'Population': 131859731.0, 'Area': 923768, 'GDP': 900.0, 'Literacy': 68.0, 'Phones': 9.28}, 'N. Mariana Islands': {'Continent': 'Oceania', 'Population': 82459.0, 'Area': 477, 'GDP': 12500.0, 'Literacy': 97.0, 'Phones': 254.67}, 'Norway': {'Continent': 'Europe', 'Population': 4610820.0, 'Area': 323802, 'GDP': 37800.0, 'Literacy': 100.0, 'Phones': 461.74}, 'Oman': {'Continent': 'Asia', 'Population': 3102229.0, 'Area': 212460, 'GDP': 13100.0, 'Literacy': 75.8, 'Phones': 85.49}, 'Pakistan': {'Continent': 'Asia', 'Population': 165803560.0, 'Area': 803940, 'GDP': 2100.0, 'Literacy': 45.7, 'Phones': 31.83}, 'Palau': {'Continent': 'Oceania', 'Population': 20579.0, 'Area': 458, 'GDP': 9000.0, 'Literacy': 92.0, 'Phones': 325.57}, 'Panama': {'Continent': 'America', 'Population': 3191319.0, 'Area': 78200, 'GDP': 6300.0, 'Literacy': 92.6, 'Phones': 137.91}, 'Papua New Guinea': {'Continent': 'Oceania', 'Population': 5670544.0, 'Area': 462840, 'GDP': 2200.0, 'Literacy': 64.6, 'Phones': 10.93}, 'Paraguay': {'Continent': 'America', 'Population': 6506464.0, 'Area': 406750, 'GDP': 4700.0, 'Literacy': 94.0, 'Phones': 49.23}, 'Peru': {'Continent': 'America', 'Population': 28302603.0, 'Area': 1285220, 'GDP': 5100.0, 'Literacy': 90.9, 'Phones': 79.52}, 'Philippines': {'Continent': 'Asia', 'Population': 89468677.0, 'Area': 300000, 'GDP': 4600.0, 'Literacy': 92.6, 'Phones': 38.42}, 'Poland': {'Continent': 'Europe', 'Population': 38536869.0, 'Area': 312685, 'GDP': 11100.0, 'Literacy': 99.8, 'Phones': 306.28}, 'Portugal': {'Continent': 'Europe', 'Population': 10605870.0, 'Area': 92391, 'GDP': 18000.0, 'Literacy': 93.3, 'Phones': 399.21}, 'Puerto Rico': {'Continent': 'America', 'Population': 3927188.0, 'Area': 13790, 'GDP': 16800.0, 'Literacy': 94.1, 'Phones': 283.13}, 'Qatar': {'Continent': 'Asia', 'Population': 885359.0, 'Area': 11437, 'GDP': 21500.0, 'Literacy': 82.5, 'Phones': 232.0}, 'Reunion': {'Continent': 'Africa', 'Population': 787584.0, 'Area': 2517, 'GDP': 5800.0, 'Literacy': 88.9, 'Phones': 380.91}, 'Romania': {'Continent': 'Europe', 'Population': 22303552.0, 'Area': 237500, 'GDP': 7000.0, 'Literacy': 98.4, 'Phones': 196.87}, 'Rwanda': {'Continent': 'Africa', 'Population': 8648248.0, 'Area': 26338, 'GDP': 1300.0, 'Literacy': 70.4, 'Phones': 2.66}, 'Saint Helena': {'Continent': 'Africa', 'Population': 7502.0, 'Area': 413, 'GDP': 2500.0, 'Literacy': 97.0, 'Phones': 293.26}, 'Saint Kitts & Nevis': {'Continent': 'America', 'Population': 39129.0, 'Area': 261, 'GDP': 8800.0, 'Literacy': 97.0, 'Phones': 638.91}, 'Saint Lucia': {'Continent': 'America', 'Population': 168458.0, 'Area': 616, 'GDP': 5400.0, 'Literacy': 67.0, 'Phones': 303.34}, 'St Pierre & Miquelon': {'Continent': 'America', 'Population': 7026.0, 'Area': 242, 'GDP': 6900.0, 'Literacy': 99.0, 'Phones': 683.18}, 'Saint Vincent and the Grenadines': {'Continent': 'America', 'Population': 117848.0, 'Area': 389, 'GDP': 2900.0, 'Literacy': 96.0, 'Phones': 190.92}, 'Samoa': {'Continent': 'Oceania', 'Population': 176908.0, 'Area': 2944, 'GDP': 5600.0, 'Literacy': 99.7, 'Phones': 75.18}, 'San Marino': {'Continent': 'Europe', 'Population': 29251.0, 'Area': 61, 'GDP': 34600.0, 'Literacy': 96.0, 'Phones': 704.25}, 'Sao Tome & Principe': {'Continent': 'Africa', 'Population': 193413.0, 'Area': 1001, 'GDP': 1200.0, 'Literacy': 79.3, 'Phones': 36.19}, 'Saudi Arabia': {'Continent': 'Asia', 'Population': 27019731.0, 'Area': 1960582, 'GDP': 11800.0, 'Literacy': 78.8, 'Phones': 140.64}, 'Senegal': {'Continent': 'Africa', 'Population': 11987121.0, 'Area': 196190, 'GDP': 1600.0, 'Literacy': 40.2, 'Phones': 22.24}, 'Serbia': {'Continent': 'Europe', 'Population': 9396411.0, 'Area': 88361, 'GDP': 2200.0, 'Literacy': 93.0, 'Phones': 285.79}, 'Seychelles': {'Continent': 'Africa', 'Population': 81541.0, 'Area': 455, 'GDP': 7800.0, 'Literacy': 58.0, 'Phones': 262.44}, 'Sierra Leone': {'Continent': 'Africa', 'Population': 6005250.0, 'Area': 71740, 'GDP': 500.0, 'Literacy': 31.4, 'Phones': 4.0}, 'Singapore': {'Continent': 'Asia', 'Population': 4492150.0, 'Area': 693, 'GDP': 23700.0, 'Literacy': 92.5, 'Phones': 411.38}, 'Slovenia': {'Continent': 'Europe', 'Population': 2010347.0, 'Area': 20273, 'GDP': 19000.0, 'Literacy': 99.7, 'Phones': 406.1}, 'Somalia': {'Continent': 'Africa', 'Population': 8863338.0, 'Area': 637657, 'GDP': 500.0, 'Literacy': 37.8, 'Phones': 11.28}, 'South Africa': {'Continent': 'Africa', 'Population': 44187637.0, 'Area': 1219912, 'GDP': 10700.0, 'Literacy': 86.4, 'Phones': 107.02}, 'Spain': {'Continent': 'Europe', 'Population': 40397842.0, 'Area': 504782, 'GDP': 22000.0, 'Literacy': 97.9, 'Phones': 453.54}, 'Sri Lanka': {'Continent': 'Asia', 'Population': 20222240.0, 'Area': 65610, 'GDP': 3700.0, 'Literacy': 92.3, 'Phones': 61.52}, 'Sudan': {'Continent': 'Africa', 'Population': 41236378.0, 'Area': 2505810, 'GDP': 1900.0, 'Literacy': 61.1, 'Phones': 16.25}, 'Suriname': {'Continent': 'America', 'Population': 439117.0, 'Area': 163270, 'GDP': 4000.0, 'Literacy': 93.0, 'Phones': 184.69}, 'Swaziland': {'Continent': 'Africa', 'Population': 1136334.0, 'Area': 17363, 'GDP': 4900.0, 'Literacy': 81.6, 'Phones': 30.8}, 'Sweden': {'Continent': 'Europe', 'Population': 9016596.0, 'Area': 449964, 'GDP': 26800.0, 'Literacy': 99.0, 'Phones': 715.01}, 'Switzerland': {'Continent': 'Europe', 'Population': 7523934.0, 'Area': 41290, 'GDP': 32700.0, 'Literacy': 99.0, 'Phones': 680.89}, 'Syria': {'Continent': 'Asia', 'Population': 18881361.0, 'Area': 185180, 'GDP': 3300.0, 'Literacy': 76.9, 'Phones': 153.75}, 'Taiwan': {'Continent': 'Asia', 'Population': 23036087.0, 'Area': 35980, 'GDP': 23400.0, 'Literacy': 96.1, 'Phones': 591.03}, 'Tanzania': {'Continent': 'Africa', 'Population': 37445392.0, 'Area': 945087, 'GDP': 600.0, 'Literacy': 78.2, 'Phones': 3.96}, 'Thailand': {'Continent': 'Asia', 'Population': 64631595.0, 'Area': 514000, 'GDP': 7400.0, 'Literacy': 92.6, 'Phones': 108.85}, 'Togo': {'Continent': 'Africa', 'Population': 5548702.0, 'Area': 56785, 'GDP': 1500.0, 'Literacy': 60.9, 'Phones': 10.56}, 'Tonga': {'Continent': 'Oceania', 'Population': 114689.0, 'Area': 748, 'GDP': 2200.0, 'Literacy': 98.5, 'Phones': 97.66}, 'Trinidad & Tobago': {'Continent': 'America', 'Population': 1065842.0, 'Area': 5128, 'GDP': 9500.0, 'Literacy': 98.6, 'Phones': 303.52}, 'Tunisia': {'Continent': 'Africa', 'Population': 10175014.0, 'Area': 163610, 'GDP': 6900.0, 'Literacy': 74.2, 'Phones': 123.59}, 'Turkey': {'Continent': 'Asia', 'Population': 70413958.0, 'Area': 780580, 'GDP': 6700.0, 'Literacy': 86.5, 'Phones': 269.52}, 'Turks & Caicos Is': {'Continent': 'America', 'Population': 21152.0, 'Area': 430, 'GDP': 9600.0, 'Literacy': 98.0, 'Phones': 269.48}, 'Uganda': {'Continent': 'Africa', 'Population': 28195754.0, 'Area': 236040, 'GDP': 1400.0, 'Literacy': 69.9, 'Phones': 3.58}, 'United Arab Emirates': {'Continent': 'Asia', 'Population': 2602713.0, 'Area': 82880, 'GDP': 23200.0, 'Literacy': 77.9, 'Phones': 475.27}, 'United Kingdom': {'Continent': 'Europe', 'Population': 60609153.0, 'Area': 244820, 'GDP': 27700.0, 'Literacy': 99.0, 'Phones': 543.53}, 'United States': {'Continent': 'America', 'Population': 298444215.0, 'Area': 9631420, 'GDP': 37800.0, 'Literacy': 97.0, 'Phones': 897.99}, 'Uruguay': {'Continent': 'America', 'Population': 3431932.0, 'Area': 176220, 'GDP': 12800.0, 'Literacy': 98.0, 'Phones': 291.38}, 'Vanuatu': {'Continent': 'Oceania', 'Population': 208869.0, 'Area': 12200, 'GDP': 2900.0, 'Literacy': 53.0, 'Phones': 32.56}, 'Venezuela': {'Continent': 'America', 'Population': 25730435.0, 'Area': 912050, 'GDP': 4800.0, 'Literacy': 93.4, 'Phones': 140.13}, 'Vietnam': {'Continent': 'Asia', 'Population': 84402966.0, 'Area': 329560, 'GDP': 2500.0, 'Literacy': 90.3, 'Phones': 187.73}, 'Wallis and Futuna': {'Continent': 'Oceania', 'Population': 16025.0, 'Area': 274, 'GDP': 3700.0, 'Literacy': 50.0, 'Phones': 118.56}, 'Yemen': {'Continent': 'Asia', 'Population': 21456188.0, 'Area': 527970, 'GDP': 800.0, 'Literacy': 50.2, 'Phones': 37.2}, 'Zambia': {'Continent': 'Africa', 'Population': 11502010.0, 'Area': 752614, 'GDP': 800.0, 'Literacy': 80.6, 'Phones': 8.23}, 'Zimbabwe': {'Continent': 'Africa', 'Population': 12236805.0, 'Area': 390580, 'GDP': 1900.0, 'Literacy': 90.7, 'Phones': 26.8}}\n"
     ]
    }
   ],
   "source": [
    "print(countries)"
   ]
  },
  {
   "cell_type": "code",
   "execution_count": 8,
   "id": "b1ec820e",
   "metadata": {},
   "outputs": [
    {
     "data": {
      "text/plain": [
       "\"for country, info in countries.items():\\n    for key in info:\\n        info['Population'] = int(info['Population'])\\n        \\nprint(countries\""
      ]
     },
     "execution_count": 8,
     "metadata": {},
     "output_type": "execute_result"
    }
   ],
   "source": [
    "'''for country, info in countries.items():\n",
    "    for key in info:\n",
    "        info['Population'] = int(info['Population'])\n",
    "        \n",
    "print(countries'''"
   ]
  },
  {
   "cell_type": "code",
   "execution_count": 9,
   "id": "a00882fc",
   "metadata": {
    "deletable": false,
    "nbgrader": {
     "grade": false,
     "grade_id": "cell-28d89deeef261406",
     "locked": false,
     "schema_version": 3,
     "solution": true,
     "task": false
    }
   },
   "outputs": [],
   "source": [
    "def convert_population_to_int(countries):\n",
    "    # YOUR CODE HERE\n",
    "    for country, info in countries.items():\n",
    "        for key in info:\n",
    "            info['Population'] = int(info['Population'])\n",
    "    return countries"
   ]
  },
  {
   "cell_type": "code",
   "execution_count": 10,
   "id": "1c1ae986",
   "metadata": {},
   "outputs": [],
   "source": [
    "x = convert_population_to_int(countries)"
   ]
  },
  {
   "cell_type": "code",
   "execution_count": 11,
   "id": "596f513a",
   "metadata": {},
   "outputs": [
    {
     "name": "stdout",
     "output_type": "stream",
     "text": [
      "{'Afghanistan': {'Continent': 'Asia', 'Population': 31056997, 'Area': 647500, 'GDP': 700.0, 'Literacy': 36.0, 'Phones': 3.22}, 'Albania': {'Continent': 'Europe', 'Population': 3581655, 'Area': 28748, 'GDP': 4500.0, 'Literacy': 86.5, 'Phones': 71.2}, 'Algeria': {'Continent': 'Africa', 'Population': 32930091, 'Area': 2381740, 'GDP': 6000.0, 'Literacy': 70.0, 'Phones': 78.1}, 'American Samoa': {'Continent': 'Oceania', 'Population': 57794, 'Area': 199, 'GDP': 8000.0, 'Literacy': 97.0, 'Phones': 259.54}, 'Andorra': {'Continent': 'Europe', 'Population': 71201, 'Area': 468, 'GDP': 19000.0, 'Literacy': 100.0, 'Phones': 497.18}, 'Angola': {'Continent': 'Africa', 'Population': 12127071, 'Area': 1246700, 'GDP': 1900.0, 'Literacy': 42.0, 'Phones': 7.78}, 'Anguilla': {'Continent': 'America', 'Population': 13477, 'Area': 102, 'GDP': 8600.0, 'Literacy': 95.0, 'Phones': 460.04}, 'Antigua & Barbuda': {'Continent': 'America', 'Population': 69108, 'Area': 443, 'GDP': 11000.0, 'Literacy': 89.0, 'Phones': 549.86}, 'Argentina': {'Continent': 'America', 'Population': 39921833, 'Area': 2766890, 'GDP': 11200.0, 'Literacy': 97.1, 'Phones': 220.43}, 'Aruba': {'Continent': 'America', 'Population': 71891, 'Area': 193, 'GDP': 28000.0, 'Literacy': 97.0, 'Phones': 516.06}, 'Australia': {'Continent': 'Oceania', 'Population': 20264082, 'Area': 7686850, 'GDP': 29000.0, 'Literacy': 100.0, 'Phones': 565.53}, 'Austria': {'Continent': 'Europe', 'Population': 8192880, 'Area': 83870, 'GDP': 30000.0, 'Literacy': 98.0, 'Phones': 452.22}, 'Bahamas, The': {'Continent': 'America', 'Population': 303770, 'Area': 13940, 'GDP': 16700.0, 'Literacy': 95.6, 'Phones': 460.55}, 'Bahrain': {'Continent': 'Asia', 'Population': 698585, 'Area': 665, 'GDP': 16900.0, 'Literacy': 89.1, 'Phones': 281.28}, 'Bangladesh': {'Continent': 'Asia', 'Population': 147365352, 'Area': 144000, 'GDP': 1900.0, 'Literacy': 43.1, 'Phones': 7.26}, 'Barbados': {'Continent': 'America', 'Population': 279912, 'Area': 431, 'GDP': 15700.0, 'Literacy': 97.4, 'Phones': 481.94}, 'Belgium': {'Continent': 'Europe', 'Population': 10379067, 'Area': 30528, 'GDP': 29100.0, 'Literacy': 98.0, 'Phones': 462.57}, 'Belize': {'Continent': 'America', 'Population': 287730, 'Area': 22966, 'GDP': 4900.0, 'Literacy': 94.1, 'Phones': 115.73}, 'Benin': {'Continent': 'Africa', 'Population': 7862944, 'Area': 112620, 'GDP': 1100.0, 'Literacy': 40.9, 'Phones': 9.7}, 'Bermuda': {'Continent': 'America', 'Population': 65773, 'Area': 53, 'GDP': 36000.0, 'Literacy': 98.0, 'Phones': 851.41}, 'Bhutan': {'Continent': 'Asia', 'Population': 2279723, 'Area': 47000, 'GDP': 1300.0, 'Literacy': 42.2, 'Phones': 14.34}, 'Bolivia': {'Continent': 'America', 'Population': 8989046, 'Area': 1098580, 'GDP': 2400.0, 'Literacy': 87.2, 'Phones': 71.9}, 'Botswana': {'Continent': 'Africa', 'Population': 1639833, 'Area': 600370, 'GDP': 9000.0, 'Literacy': 79.8, 'Phones': 80.5}, 'Brazil': {'Continent': 'America', 'Population': 188078227, 'Area': 8511965, 'GDP': 7600.0, 'Literacy': 86.4, 'Phones': 225.34}, 'British Virgin Is.': {'Continent': 'America', 'Population': 23098, 'Area': 153, 'GDP': 16000.0, 'Literacy': 97.8, 'Phones': 506.54}, 'Brunei': {'Continent': 'Asia', 'Population': 379444, 'Area': 5770, 'GDP': 18600.0, 'Literacy': 93.9, 'Phones': 237.19}, 'Bulgaria': {'Continent': 'Europe', 'Population': 7385367, 'Area': 110910, 'GDP': 7600.0, 'Literacy': 98.6, 'Phones': 336.27}, 'Burkina Faso': {'Continent': 'Africa', 'Population': 13902972, 'Area': 274200, 'GDP': 1100.0, 'Literacy': 26.6, 'Phones': 7.01}, 'Burma': {'Continent': 'Asia', 'Population': 47382633, 'Area': 678500, 'GDP': 1800.0, 'Literacy': 85.3, 'Phones': 10.05}, 'Burundi': {'Continent': 'Africa', 'Population': 8090068, 'Area': 27830, 'GDP': 600.0, 'Literacy': 51.6, 'Phones': 3.42}, 'Cambodia': {'Continent': 'Asia', 'Population': 13881427, 'Area': 181040, 'GDP': 1900.0, 'Literacy': 69.4, 'Phones': 2.62}, 'Cameroon': {'Continent': 'Africa', 'Population': 17340702, 'Area': 475440, 'GDP': 1800.0, 'Literacy': 79.0, 'Phones': 5.73}, 'Canada': {'Continent': 'America', 'Population': 33098932, 'Area': 9984670, 'GDP': 29800.0, 'Literacy': 97.0, 'Phones': 552.16}, 'Cape Verde': {'Continent': 'Africa', 'Population': 420979, 'Area': 4033, 'GDP': 1400.0, 'Literacy': 76.6, 'Phones': 169.6}, 'Cayman Islands': {'Continent': 'America', 'Population': 45436, 'Area': 262, 'GDP': 35000.0, 'Literacy': 98.0, 'Phones': 836.34}, 'Central African Rep.': {'Continent': 'Africa', 'Population': 4303356, 'Area': 622984, 'GDP': 1100.0, 'Literacy': 51.0, 'Phones': 2.32}, 'Chad': {'Continent': 'Africa', 'Population': 9944201, 'Area': 1284000, 'GDP': 1200.0, 'Literacy': 47.5, 'Phones': 1.31}, 'Chile': {'Continent': 'America', 'Population': 16134219, 'Area': 756950, 'GDP': 9900.0, 'Literacy': 96.2, 'Phones': 212.96}, 'China': {'Continent': 'Asia', 'Population': 1313973713, 'Area': 9596960, 'GDP': 5000.0, 'Literacy': 90.9, 'Phones': 266.7}, 'Colombia': {'Continent': 'America', 'Population': 43593035, 'Area': 1138910, 'GDP': 6300.0, 'Literacy': 92.5, 'Phones': 176.15}, 'Comoros': {'Continent': 'Africa', 'Population': 690948, 'Area': 2170, 'GDP': 700.0, 'Literacy': 56.5, 'Phones': 24.46}, 'Congo, Dem. Rep.': {'Continent': 'Africa', 'Population': 62660551, 'Area': 2345410, 'GDP': 700.0, 'Literacy': 65.5, 'Phones': 0.17}, 'Congo, Repub. of the': {'Continent': 'Africa', 'Population': 3702314, 'Area': 342000, 'GDP': 700.0, 'Literacy': 83.8, 'Phones': 3.73}, 'Cook Islands': {'Continent': 'Oceania', 'Population': 21388, 'Area': 240, 'GDP': 5000.0, 'Literacy': 95.0, 'Phones': 289.88}, 'Costa Rica': {'Continent': 'America', 'Population': 4075261, 'Area': 51100, 'GDP': 9100.0, 'Literacy': 96.0, 'Phones': 340.71}, \"Cote d'Ivoire\": {'Continent': 'Africa', 'Population': 17654843, 'Area': 322460, 'GDP': 1400.0, 'Literacy': 50.9, 'Phones': 14.61}, 'Croatia': {'Continent': 'Europe', 'Population': 4494749, 'Area': 56542, 'GDP': 10600.0, 'Literacy': 98.5, 'Phones': 420.38}, 'Cuba': {'Continent': 'America', 'Population': 11382820, 'Area': 110860, 'GDP': 2900.0, 'Literacy': 97.0, 'Phones': 74.67}, 'Czech Republic': {'Continent': 'Europe', 'Population': 10235455, 'Area': 78866, 'GDP': 15700.0, 'Literacy': 99.9, 'Phones': 314.33}, 'Denmark': {'Continent': 'Europe', 'Population': 5450661, 'Area': 43094, 'GDP': 31100.0, 'Literacy': 100.0, 'Phones': 614.6}, 'Djibouti': {'Continent': 'Africa', 'Population': 486530, 'Area': 23000, 'GDP': 1300.0, 'Literacy': 67.9, 'Phones': 22.81}, 'Dominica': {'Continent': 'America', 'Population': 68910, 'Area': 754, 'GDP': 5400.0, 'Literacy': 94.0, 'Phones': 304.75}, 'Dominican Republic': {'Continent': 'America', 'Population': 9183984, 'Area': 48730, 'GDP': 6000.0, 'Literacy': 84.7, 'Phones': 97.4}, 'Ecuador': {'Continent': 'America', 'Population': 13547510, 'Area': 283560, 'GDP': 3300.0, 'Literacy': 92.5, 'Phones': 125.6}, 'Egypt': {'Continent': 'Africa', 'Population': 78887007, 'Area': 1001450, 'GDP': 4000.0, 'Literacy': 57.7, 'Phones': 131.78}, 'El Salvador': {'Continent': 'America', 'Population': 6822378, 'Area': 21040, 'GDP': 4800.0, 'Literacy': 80.2, 'Phones': 142.4}, 'Equatorial Guinea': {'Continent': 'Africa', 'Population': 540109, 'Area': 28051, 'GDP': 2700.0, 'Literacy': 85.7, 'Phones': 18.51}, 'Eritrea': {'Continent': 'Africa', 'Population': 4786994, 'Area': 121320, 'GDP': 700.0, 'Literacy': 58.6, 'Phones': 7.88}, 'Estonia': {'Continent': 'Europe', 'Population': 1324333, 'Area': 45226, 'GDP': 12300.0, 'Literacy': 99.8, 'Phones': 333.75}, 'Ethiopia': {'Continent': 'Africa', 'Population': 74777981, 'Area': 1127127, 'GDP': 700.0, 'Literacy': 42.7, 'Phones': 8.16}, 'Fiji': {'Continent': 'Oceania', 'Population': 905949, 'Area': 18270, 'GDP': 5800.0, 'Literacy': 93.7, 'Phones': 112.59}, 'Finland': {'Continent': 'Europe', 'Population': 5231372, 'Area': 338145, 'GDP': 27400.0, 'Literacy': 100.0, 'Phones': 405.25}, 'France': {'Continent': 'Europe', 'Population': 60876136, 'Area': 547030, 'GDP': 27600.0, 'Literacy': 99.0, 'Phones': 586.44}, 'French Guiana': {'Continent': 'America', 'Population': 199509, 'Area': 91000, 'GDP': 8300.0, 'Literacy': 83.0, 'Phones': 255.63}, 'French Polynesia': {'Continent': 'Oceania', 'Population': 274578, 'Area': 4167, 'GDP': 17500.0, 'Literacy': 98.0, 'Phones': 194.48}, 'Gabon': {'Continent': 'Africa', 'Population': 1424906, 'Area': 267667, 'GDP': 5500.0, 'Literacy': 63.2, 'Phones': 27.44}, 'Gambia, The': {'Continent': 'Africa', 'Population': 1641564, 'Area': 11300, 'GDP': 1700.0, 'Literacy': 40.1, 'Phones': 26.8}, 'Germany': {'Continent': 'Europe', 'Population': 82422299, 'Area': 357021, 'GDP': 27600.0, 'Literacy': 99.0, 'Phones': 667.85}, 'Ghana': {'Continent': 'Africa', 'Population': 22409572, 'Area': 239460, 'GDP': 2200.0, 'Literacy': 74.8, 'Phones': 14.35}, 'Greece': {'Continent': 'Europe', 'Population': 10688058, 'Area': 131940, 'GDP': 20000.0, 'Literacy': 97.5, 'Phones': 589.72}, 'Grenada': {'Continent': 'America', 'Population': 89703, 'Area': 344, 'GDP': 5000.0, 'Literacy': 98.0, 'Phones': 364.54}, 'Guadeloupe': {'Continent': 'America', 'Population': 452776, 'Area': 1780, 'GDP': 8000.0, 'Literacy': 90.0, 'Phones': 463.81}, 'Guam': {'Continent': 'Oceania', 'Population': 171019, 'Area': 541, 'GDP': 21000.0, 'Literacy': 99.0, 'Phones': 491.96}, 'Guatemala': {'Continent': 'America', 'Population': 12293545, 'Area': 108890, 'GDP': 4100.0, 'Literacy': 70.6, 'Phones': 92.09}, 'Guinea': {'Continent': 'Africa', 'Population': 9690222, 'Area': 245857, 'GDP': 2100.0, 'Literacy': 35.9, 'Phones': 2.7}, 'Guinea-Bissau': {'Continent': 'Africa', 'Population': 1442029, 'Area': 36120, 'GDP': 800.0, 'Literacy': 42.4, 'Phones': 7.35}, 'Guyana': {'Continent': 'America', 'Population': 767245, 'Area': 214970, 'GDP': 4000.0, 'Literacy': 98.8, 'Phones': 143.5}, 'Haiti': {'Continent': 'America', 'Population': 8308504, 'Area': 27750, 'GDP': 1600.0, 'Literacy': 52.9, 'Phones': 16.85}, 'Honduras': {'Continent': 'America', 'Population': 7326496, 'Area': 112090, 'GDP': 2600.0, 'Literacy': 76.2, 'Phones': 67.48}, 'Hong Kong': {'Continent': 'Asia', 'Population': 6940432, 'Area': 1092, 'GDP': 28800.0, 'Literacy': 93.5, 'Phones': 546.74}, 'Hungary': {'Continent': 'Europe', 'Population': 9981334, 'Area': 93030, 'GDP': 13900.0, 'Literacy': 99.4, 'Phones': 336.23}, 'Iceland': {'Continent': 'Europe', 'Population': 299388, 'Area': 103000, 'GDP': 30900.0, 'Literacy': 99.9, 'Phones': 647.65}, 'India': {'Continent': 'Asia', 'Population': 1095351995, 'Area': 3287590, 'GDP': 2900.0, 'Literacy': 59.5, 'Phones': 45.42}, 'Indonesia': {'Continent': 'Asia', 'Population': 245452739, 'Area': 1919440, 'GDP': 3200.0, 'Literacy': 87.9, 'Phones': 52.03}, 'Iran': {'Continent': 'Asia', 'Population': 68688433, 'Area': 1648000, 'GDP': 7000.0, 'Literacy': 79.4, 'Phones': 276.41}, 'Iraq': {'Continent': 'Asia', 'Population': 26783383, 'Area': 437072, 'GDP': 1500.0, 'Literacy': 40.4, 'Phones': 38.61}, 'Ireland': {'Continent': 'Europe', 'Population': 4062235, 'Area': 70280, 'GDP': 29600.0, 'Literacy': 98.0, 'Phones': 500.46}, 'Israel': {'Continent': 'Asia', 'Population': 6352117, 'Area': 20770, 'GDP': 19800.0, 'Literacy': 95.4, 'Phones': 462.26}, 'Italy': {'Continent': 'Europe', 'Population': 58133509, 'Area': 301230, 'GDP': 26700.0, 'Literacy': 98.6, 'Phones': 430.89}, 'Jamaica': {'Continent': 'America', 'Population': 2758124, 'Area': 10991, 'GDP': 3900.0, 'Literacy': 87.9, 'Phones': 124.0}, 'Japan': {'Continent': 'Asia', 'Population': 127463611, 'Area': 377835, 'GDP': 28200.0, 'Literacy': 99.0, 'Phones': 461.15}, 'Jordan': {'Continent': 'Asia', 'Population': 5906760, 'Area': 92300, 'GDP': 4300.0, 'Literacy': 91.3, 'Phones': 104.51}, 'Kenya': {'Continent': 'Africa', 'Population': 34707817, 'Area': 582650, 'GDP': 1000.0, 'Literacy': 85.1, 'Phones': 8.12}, 'Korea, North': {'Continent': 'Asia', 'Population': 23113019, 'Area': 120540, 'GDP': 1300.0, 'Literacy': 99.0, 'Phones': 42.4}, 'Korea, South': {'Continent': 'Asia', 'Population': 48846823, 'Area': 98480, 'GDP': 17800.0, 'Literacy': 97.9, 'Phones': 486.11}, 'Kuwait': {'Continent': 'Asia', 'Population': 2418393, 'Area': 17820, 'GDP': 19000.0, 'Literacy': 83.5, 'Phones': 211.01}, 'Laos': {'Continent': 'Asia', 'Population': 6368481, 'Area': 236800, 'GDP': 1700.0, 'Literacy': 66.4, 'Phones': 14.14}, 'Latvia': {'Continent': 'Europe', 'Population': 2274735, 'Area': 64589, 'GDP': 10200.0, 'Literacy': 99.8, 'Phones': 321.36}, 'Lebanon': {'Continent': 'Asia', 'Population': 3874050, 'Area': 10400, 'GDP': 4800.0, 'Literacy': 87.4, 'Phones': 255.55}, 'Lesotho': {'Continent': 'Africa', 'Population': 2022331, 'Area': 30355, 'GDP': 3000.0, 'Literacy': 84.8, 'Phones': 23.73}, 'Liberia': {'Continent': 'Africa', 'Population': 3042004, 'Area': 111370, 'GDP': 1000.0, 'Literacy': 57.5, 'Phones': 2.27}, 'Libya': {'Continent': 'Africa', 'Population': 5900754, 'Area': 1759540, 'GDP': 6400.0, 'Literacy': 82.6, 'Phones': 127.1}, 'Liechtenstein': {'Continent': 'Europe', 'Population': 33987, 'Area': 160, 'GDP': 25000.0, 'Literacy': 100.0, 'Phones': 585.52}, 'Lithuania': {'Continent': 'Europe', 'Population': 3585906, 'Area': 65200, 'GDP': 11400.0, 'Literacy': 99.6, 'Phones': 223.4}, 'Luxembourg': {'Continent': 'Europe', 'Population': 474413, 'Area': 2586, 'GDP': 55100.0, 'Literacy': 100.0, 'Phones': 515.37}, 'Macau': {'Continent': 'Asia', 'Population': 453125, 'Area': 28, 'GDP': 19400.0, 'Literacy': 94.5, 'Phones': 384.88}, 'Madagascar': {'Continent': 'Africa', 'Population': 18595469, 'Area': 587040, 'GDP': 800.0, 'Literacy': 68.9, 'Phones': 3.6}, 'Malawi': {'Continent': 'Africa', 'Population': 13013926, 'Area': 118480, 'GDP': 600.0, 'Literacy': 62.7, 'Phones': 7.89}, 'Malaysia': {'Continent': 'Asia', 'Population': 24385858, 'Area': 329750, 'GDP': 9000.0, 'Literacy': 88.7, 'Phones': 179.04}, 'Maldives': {'Continent': 'Asia', 'Population': 359008, 'Area': 300, 'GDP': 3900.0, 'Literacy': 97.2, 'Phones': 89.97}, 'Mali': {'Continent': 'Africa', 'Population': 11716829, 'Area': 1240000, 'GDP': 900.0, 'Literacy': 46.4, 'Phones': 6.4}, 'Malta': {'Continent': 'Europe', 'Population': 400214, 'Area': 316, 'GDP': 17700.0, 'Literacy': 92.8, 'Phones': 504.98}, 'Marshall Islands': {'Continent': 'Oceania', 'Population': 60422, 'Area': 11854, 'GDP': 1600.0, 'Literacy': 93.7, 'Phones': 91.19}, 'Martinique': {'Continent': 'America', 'Population': 436131, 'Area': 1100, 'GDP': 14400.0, 'Literacy': 97.7, 'Phones': 394.38}, 'Mauritania': {'Continent': 'Africa', 'Population': 3177388, 'Area': 1030700, 'GDP': 1800.0, 'Literacy': 41.7, 'Phones': 12.9}, 'Mauritius': {'Continent': 'Africa', 'Population': 1240827, 'Area': 2040, 'GDP': 11400.0, 'Literacy': 85.6, 'Phones': 289.32}, 'Mexico': {'Continent': 'America', 'Population': 107449525, 'Area': 1972550, 'GDP': 9000.0, 'Literacy': 92.2, 'Phones': 181.59}, 'Micronesia, Fed. St.': {'Continent': 'Oceania', 'Population': 108004, 'Area': 702, 'GDP': 2000.0, 'Literacy': 89.0, 'Phones': 114.81}, 'Monaco': {'Continent': 'Europe', 'Population': 32543, 'Area': 2, 'GDP': 27000.0, 'Literacy': 99.0, 'Phones': 1035.55}, 'Mongolia': {'Continent': 'Asia', 'Population': 2832224, 'Area': 1564116, 'GDP': 1800.0, 'Literacy': 97.8, 'Phones': 55.08}, 'Morocco': {'Continent': 'Africa', 'Population': 33241259, 'Area': 446550, 'GDP': 4000.0, 'Literacy': 51.7, 'Phones': 40.35}, 'Mozambique': {'Continent': 'Africa', 'Population': 19686505, 'Area': 801590, 'GDP': 1200.0, 'Literacy': 47.8, 'Phones': 3.54}, 'Namibia': {'Continent': 'Africa', 'Population': 2044147, 'Area': 825418, 'GDP': 7200.0, 'Literacy': 84.0, 'Phones': 62.57}, 'Nepal': {'Continent': 'Asia', 'Population': 28287147, 'Area': 147181, 'GDP': 1400.0, 'Literacy': 45.2, 'Phones': 15.86}, 'Netherlands': {'Continent': 'Europe', 'Population': 16491461, 'Area': 41526, 'GDP': 28600.0, 'Literacy': 99.0, 'Phones': 460.84}, 'Netherlands Antilles': {'Continent': 'America', 'Population': 221736, 'Area': 960, 'GDP': 11400.0, 'Literacy': 96.7, 'Phones': 365.3}, 'New Caledonia': {'Continent': 'Oceania', 'Population': 219246, 'Area': 19060, 'GDP': 15000.0, 'Literacy': 91.0, 'Phones': 252.23}, 'New Zealand': {'Continent': 'Oceania', 'Population': 4076140, 'Area': 268680, 'GDP': 21600.0, 'Literacy': 99.0, 'Phones': 441.72}, 'Nicaragua': {'Continent': 'America', 'Population': 5570129, 'Area': 129494, 'GDP': 2300.0, 'Literacy': 67.5, 'Phones': 39.66}, 'Niger': {'Continent': 'Africa', 'Population': 12525094, 'Area': 1267000, 'GDP': 800.0, 'Literacy': 17.6, 'Phones': 1.92}, 'Nigeria': {'Continent': 'Africa', 'Population': 131859731, 'Area': 923768, 'GDP': 900.0, 'Literacy': 68.0, 'Phones': 9.28}, 'N. Mariana Islands': {'Continent': 'Oceania', 'Population': 82459, 'Area': 477, 'GDP': 12500.0, 'Literacy': 97.0, 'Phones': 254.67}, 'Norway': {'Continent': 'Europe', 'Population': 4610820, 'Area': 323802, 'GDP': 37800.0, 'Literacy': 100.0, 'Phones': 461.74}, 'Oman': {'Continent': 'Asia', 'Population': 3102229, 'Area': 212460, 'GDP': 13100.0, 'Literacy': 75.8, 'Phones': 85.49}, 'Pakistan': {'Continent': 'Asia', 'Population': 165803560, 'Area': 803940, 'GDP': 2100.0, 'Literacy': 45.7, 'Phones': 31.83}, 'Palau': {'Continent': 'Oceania', 'Population': 20579, 'Area': 458, 'GDP': 9000.0, 'Literacy': 92.0, 'Phones': 325.57}, 'Panama': {'Continent': 'America', 'Population': 3191319, 'Area': 78200, 'GDP': 6300.0, 'Literacy': 92.6, 'Phones': 137.91}, 'Papua New Guinea': {'Continent': 'Oceania', 'Population': 5670544, 'Area': 462840, 'GDP': 2200.0, 'Literacy': 64.6, 'Phones': 10.93}, 'Paraguay': {'Continent': 'America', 'Population': 6506464, 'Area': 406750, 'GDP': 4700.0, 'Literacy': 94.0, 'Phones': 49.23}, 'Peru': {'Continent': 'America', 'Population': 28302603, 'Area': 1285220, 'GDP': 5100.0, 'Literacy': 90.9, 'Phones': 79.52}, 'Philippines': {'Continent': 'Asia', 'Population': 89468677, 'Area': 300000, 'GDP': 4600.0, 'Literacy': 92.6, 'Phones': 38.42}, 'Poland': {'Continent': 'Europe', 'Population': 38536869, 'Area': 312685, 'GDP': 11100.0, 'Literacy': 99.8, 'Phones': 306.28}, 'Portugal': {'Continent': 'Europe', 'Population': 10605870, 'Area': 92391, 'GDP': 18000.0, 'Literacy': 93.3, 'Phones': 399.21}, 'Puerto Rico': {'Continent': 'America', 'Population': 3927188, 'Area': 13790, 'GDP': 16800.0, 'Literacy': 94.1, 'Phones': 283.13}, 'Qatar': {'Continent': 'Asia', 'Population': 885359, 'Area': 11437, 'GDP': 21500.0, 'Literacy': 82.5, 'Phones': 232.0}, 'Reunion': {'Continent': 'Africa', 'Population': 787584, 'Area': 2517, 'GDP': 5800.0, 'Literacy': 88.9, 'Phones': 380.91}, 'Romania': {'Continent': 'Europe', 'Population': 22303552, 'Area': 237500, 'GDP': 7000.0, 'Literacy': 98.4, 'Phones': 196.87}, 'Rwanda': {'Continent': 'Africa', 'Population': 8648248, 'Area': 26338, 'GDP': 1300.0, 'Literacy': 70.4, 'Phones': 2.66}, 'Saint Helena': {'Continent': 'Africa', 'Population': 7502, 'Area': 413, 'GDP': 2500.0, 'Literacy': 97.0, 'Phones': 293.26}, 'Saint Kitts & Nevis': {'Continent': 'America', 'Population': 39129, 'Area': 261, 'GDP': 8800.0, 'Literacy': 97.0, 'Phones': 638.91}, 'Saint Lucia': {'Continent': 'America', 'Population': 168458, 'Area': 616, 'GDP': 5400.0, 'Literacy': 67.0, 'Phones': 303.34}, 'St Pierre & Miquelon': {'Continent': 'America', 'Population': 7026, 'Area': 242, 'GDP': 6900.0, 'Literacy': 99.0, 'Phones': 683.18}, 'Saint Vincent and the Grenadines': {'Continent': 'America', 'Population': 117848, 'Area': 389, 'GDP': 2900.0, 'Literacy': 96.0, 'Phones': 190.92}, 'Samoa': {'Continent': 'Oceania', 'Population': 176908, 'Area': 2944, 'GDP': 5600.0, 'Literacy': 99.7, 'Phones': 75.18}, 'San Marino': {'Continent': 'Europe', 'Population': 29251, 'Area': 61, 'GDP': 34600.0, 'Literacy': 96.0, 'Phones': 704.25}, 'Sao Tome & Principe': {'Continent': 'Africa', 'Population': 193413, 'Area': 1001, 'GDP': 1200.0, 'Literacy': 79.3, 'Phones': 36.19}, 'Saudi Arabia': {'Continent': 'Asia', 'Population': 27019731, 'Area': 1960582, 'GDP': 11800.0, 'Literacy': 78.8, 'Phones': 140.64}, 'Senegal': {'Continent': 'Africa', 'Population': 11987121, 'Area': 196190, 'GDP': 1600.0, 'Literacy': 40.2, 'Phones': 22.24}, 'Serbia': {'Continent': 'Europe', 'Population': 9396411, 'Area': 88361, 'GDP': 2200.0, 'Literacy': 93.0, 'Phones': 285.79}, 'Seychelles': {'Continent': 'Africa', 'Population': 81541, 'Area': 455, 'GDP': 7800.0, 'Literacy': 58.0, 'Phones': 262.44}, 'Sierra Leone': {'Continent': 'Africa', 'Population': 6005250, 'Area': 71740, 'GDP': 500.0, 'Literacy': 31.4, 'Phones': 4.0}, 'Singapore': {'Continent': 'Asia', 'Population': 4492150, 'Area': 693, 'GDP': 23700.0, 'Literacy': 92.5, 'Phones': 411.38}, 'Slovenia': {'Continent': 'Europe', 'Population': 2010347, 'Area': 20273, 'GDP': 19000.0, 'Literacy': 99.7, 'Phones': 406.1}, 'Somalia': {'Continent': 'Africa', 'Population': 8863338, 'Area': 637657, 'GDP': 500.0, 'Literacy': 37.8, 'Phones': 11.28}, 'South Africa': {'Continent': 'Africa', 'Population': 44187637, 'Area': 1219912, 'GDP': 10700.0, 'Literacy': 86.4, 'Phones': 107.02}, 'Spain': {'Continent': 'Europe', 'Population': 40397842, 'Area': 504782, 'GDP': 22000.0, 'Literacy': 97.9, 'Phones': 453.54}, 'Sri Lanka': {'Continent': 'Asia', 'Population': 20222240, 'Area': 65610, 'GDP': 3700.0, 'Literacy': 92.3, 'Phones': 61.52}, 'Sudan': {'Continent': 'Africa', 'Population': 41236378, 'Area': 2505810, 'GDP': 1900.0, 'Literacy': 61.1, 'Phones': 16.25}, 'Suriname': {'Continent': 'America', 'Population': 439117, 'Area': 163270, 'GDP': 4000.0, 'Literacy': 93.0, 'Phones': 184.69}, 'Swaziland': {'Continent': 'Africa', 'Population': 1136334, 'Area': 17363, 'GDP': 4900.0, 'Literacy': 81.6, 'Phones': 30.8}, 'Sweden': {'Continent': 'Europe', 'Population': 9016596, 'Area': 449964, 'GDP': 26800.0, 'Literacy': 99.0, 'Phones': 715.01}, 'Switzerland': {'Continent': 'Europe', 'Population': 7523934, 'Area': 41290, 'GDP': 32700.0, 'Literacy': 99.0, 'Phones': 680.89}, 'Syria': {'Continent': 'Asia', 'Population': 18881361, 'Area': 185180, 'GDP': 3300.0, 'Literacy': 76.9, 'Phones': 153.75}, 'Taiwan': {'Continent': 'Asia', 'Population': 23036087, 'Area': 35980, 'GDP': 23400.0, 'Literacy': 96.1, 'Phones': 591.03}, 'Tanzania': {'Continent': 'Africa', 'Population': 37445392, 'Area': 945087, 'GDP': 600.0, 'Literacy': 78.2, 'Phones': 3.96}, 'Thailand': {'Continent': 'Asia', 'Population': 64631595, 'Area': 514000, 'GDP': 7400.0, 'Literacy': 92.6, 'Phones': 108.85}, 'Togo': {'Continent': 'Africa', 'Population': 5548702, 'Area': 56785, 'GDP': 1500.0, 'Literacy': 60.9, 'Phones': 10.56}, 'Tonga': {'Continent': 'Oceania', 'Population': 114689, 'Area': 748, 'GDP': 2200.0, 'Literacy': 98.5, 'Phones': 97.66}, 'Trinidad & Tobago': {'Continent': 'America', 'Population': 1065842, 'Area': 5128, 'GDP': 9500.0, 'Literacy': 98.6, 'Phones': 303.52}, 'Tunisia': {'Continent': 'Africa', 'Population': 10175014, 'Area': 163610, 'GDP': 6900.0, 'Literacy': 74.2, 'Phones': 123.59}, 'Turkey': {'Continent': 'Asia', 'Population': 70413958, 'Area': 780580, 'GDP': 6700.0, 'Literacy': 86.5, 'Phones': 269.52}, 'Turks & Caicos Is': {'Continent': 'America', 'Population': 21152, 'Area': 430, 'GDP': 9600.0, 'Literacy': 98.0, 'Phones': 269.48}, 'Uganda': {'Continent': 'Africa', 'Population': 28195754, 'Area': 236040, 'GDP': 1400.0, 'Literacy': 69.9, 'Phones': 3.58}, 'United Arab Emirates': {'Continent': 'Asia', 'Population': 2602713, 'Area': 82880, 'GDP': 23200.0, 'Literacy': 77.9, 'Phones': 475.27}, 'United Kingdom': {'Continent': 'Europe', 'Population': 60609153, 'Area': 244820, 'GDP': 27700.0, 'Literacy': 99.0, 'Phones': 543.53}, 'United States': {'Continent': 'America', 'Population': 298444215, 'Area': 9631420, 'GDP': 37800.0, 'Literacy': 97.0, 'Phones': 897.99}, 'Uruguay': {'Continent': 'America', 'Population': 3431932, 'Area': 176220, 'GDP': 12800.0, 'Literacy': 98.0, 'Phones': 291.38}, 'Vanuatu': {'Continent': 'Oceania', 'Population': 208869, 'Area': 12200, 'GDP': 2900.0, 'Literacy': 53.0, 'Phones': 32.56}, 'Venezuela': {'Continent': 'America', 'Population': 25730435, 'Area': 912050, 'GDP': 4800.0, 'Literacy': 93.4, 'Phones': 140.13}, 'Vietnam': {'Continent': 'Asia', 'Population': 84402966, 'Area': 329560, 'GDP': 2500.0, 'Literacy': 90.3, 'Phones': 187.73}, 'Wallis and Futuna': {'Continent': 'Oceania', 'Population': 16025, 'Area': 274, 'GDP': 3700.0, 'Literacy': 50.0, 'Phones': 118.56}, 'Yemen': {'Continent': 'Asia', 'Population': 21456188, 'Area': 527970, 'GDP': 800.0, 'Literacy': 50.2, 'Phones': 37.2}, 'Zambia': {'Continent': 'Africa', 'Population': 11502010, 'Area': 752614, 'GDP': 800.0, 'Literacy': 80.6, 'Phones': 8.23}, 'Zimbabwe': {'Continent': 'Africa', 'Population': 12236805, 'Area': 390580, 'GDP': 1900.0, 'Literacy': 90.7, 'Phones': 26.8}}\n"
     ]
    }
   ],
   "source": [
    "print(x)"
   ]
  },
  {
   "cell_type": "code",
   "execution_count": 12,
   "id": "64a78f44",
   "metadata": {
    "deletable": false,
    "editable": false,
    "nbgrader": {
     "grade": true,
     "grade_id": "cell-33b501c79f675ab0",
     "locked": true,
     "points": 2,
     "schema_version": 3,
     "solution": false,
     "task": false
    }
   },
   "outputs": [
    {
     "name": "stdout",
     "output_type": "stream",
     "text": [
      "---- All asserts passed ---- \n"
     ]
    }
   ],
   "source": [
    "countries = convert_population_to_int(countries)\n",
    "assert len(countries) == 194, \"Not correct. Keep trying.\"\n",
    "source = inspect.getsource(convert_population_to_int)\n",
    "assert \"for\" in source, \"Not correct. Keep trying.\"\n",
    "assert _hash(str(countries)) == \"4e2563f26e\", \"Not correct. Keep trying.\"\n",
    "print(\"---- All asserts passed ---- \")\n",
    "countries = countries_backup"
   ]
  },
  {
   "cell_type": "markdown",
   "id": "968efa0d",
   "metadata": {
    "deletable": false,
    "editable": false,
    "nbgrader": {
     "grade": false,
     "grade_id": "cell-5dcf6b443246a302",
     "locked": true,
     "schema_version": 3,
     "solution": false,
     "task": false
    }
   },
   "source": [
    "## Question 3\n",
    "\n",
    "In the countries dictionary, each country has a field called `Area`. This is the area of the country given in square miles.\n",
    "\n",
    "Complete the function `convert_area_to_sq_km`. This function should:\n",
    "- Receive the `countries` dictionary as argument;\n",
    "- Convert the `Area` field from square miles to square kilometres;\n",
    " - Use the following conversion: 1 sq mi = 2.58999 sq km;\n",
    " - Round the result to 1 decimal digit;\n",
    "- Return the updated `countries` dictionary;"
   ]
  },
  {
   "cell_type": "code",
   "execution_count": 13,
   "id": "280d6b1c",
   "metadata": {},
   "outputs": [
    {
     "data": {
      "text/plain": [
       "\"for country, info in countries.items():\\n    for key in info:\\n        #info['Area'] = float(info['Area'])\\n        print(country,':',key, ':', info[key]\""
      ]
     },
     "execution_count": 13,
     "metadata": {},
     "output_type": "execute_result"
    }
   ],
   "source": [
    "'''for country, info in countries.items():\n",
    "    for key in info:\n",
    "        #info['Area'] = float(info['Area'])\n",
    "        print(country,':',key, ':', info[key]'''"
   ]
  },
  {
   "cell_type": "code",
   "execution_count": 14,
   "id": "e35a40ef",
   "metadata": {},
   "outputs": [
    {
     "data": {
      "text/plain": [
       "\"for country, info in countries.items():\\n    info['Area'] = round((info['Area'] * 2.58999),1\""
      ]
     },
     "execution_count": 14,
     "metadata": {},
     "output_type": "execute_result"
    }
   ],
   "source": [
    "'''for country, info in countries.items():\n",
    "    info['Area'] = round((info['Area'] * 2.58999),1'''\n",
    "   \n",
    "        \n",
    "        "
   ]
  },
  {
   "cell_type": "code",
   "execution_count": null,
   "id": "7964efce",
   "metadata": {},
   "outputs": [],
   "source": []
  },
  {
   "cell_type": "code",
   "execution_count": 15,
   "id": "f6f51957",
   "metadata": {},
   "outputs": [
    {
     "name": "stdout",
     "output_type": "stream",
     "text": [
      "{'Afghanistan': {'Continent': 'Asia', 'Population': 31056997.0, 'Area': 647500, 'GDP': 700.0, 'Literacy': 36.0, 'Phones': 3.22}, 'Albania': {'Continent': 'Europe', 'Population': 3581655.0, 'Area': 28748, 'GDP': 4500.0, 'Literacy': 86.5, 'Phones': 71.2}, 'Algeria': {'Continent': 'Africa', 'Population': 32930091.0, 'Area': 2381740, 'GDP': 6000.0, 'Literacy': 70.0, 'Phones': 78.1}, 'American Samoa': {'Continent': 'Oceania', 'Population': 57794.0, 'Area': 199, 'GDP': 8000.0, 'Literacy': 97.0, 'Phones': 259.54}, 'Andorra': {'Continent': 'Europe', 'Population': 71201.0, 'Area': 468, 'GDP': 19000.0, 'Literacy': 100.0, 'Phones': 497.18}, 'Angola': {'Continent': 'Africa', 'Population': 12127071.0, 'Area': 1246700, 'GDP': 1900.0, 'Literacy': 42.0, 'Phones': 7.78}, 'Anguilla': {'Continent': 'America', 'Population': 13477.0, 'Area': 102, 'GDP': 8600.0, 'Literacy': 95.0, 'Phones': 460.04}, 'Antigua & Barbuda': {'Continent': 'America', 'Population': 69108.0, 'Area': 443, 'GDP': 11000.0, 'Literacy': 89.0, 'Phones': 549.86}, 'Argentina': {'Continent': 'America', 'Population': 39921833.0, 'Area': 2766890, 'GDP': 11200.0, 'Literacy': 97.1, 'Phones': 220.43}, 'Aruba': {'Continent': 'America', 'Population': 71891.0, 'Area': 193, 'GDP': 28000.0, 'Literacy': 97.0, 'Phones': 516.06}, 'Australia': {'Continent': 'Oceania', 'Population': 20264082.0, 'Area': 7686850, 'GDP': 29000.0, 'Literacy': 100.0, 'Phones': 565.53}, 'Austria': {'Continent': 'Europe', 'Population': 8192880.0, 'Area': 83870, 'GDP': 30000.0, 'Literacy': 98.0, 'Phones': 452.22}, 'Bahamas, The': {'Continent': 'America', 'Population': 303770.0, 'Area': 13940, 'GDP': 16700.0, 'Literacy': 95.6, 'Phones': 460.55}, 'Bahrain': {'Continent': 'Asia', 'Population': 698585.0, 'Area': 665, 'GDP': 16900.0, 'Literacy': 89.1, 'Phones': 281.28}, 'Bangladesh': {'Continent': 'Asia', 'Population': 147365352.0, 'Area': 144000, 'GDP': 1900.0, 'Literacy': 43.1, 'Phones': 7.26}, 'Barbados': {'Continent': 'America', 'Population': 279912.0, 'Area': 431, 'GDP': 15700.0, 'Literacy': 97.4, 'Phones': 481.94}, 'Belgium': {'Continent': 'Europe', 'Population': 10379067.0, 'Area': 30528, 'GDP': 29100.0, 'Literacy': 98.0, 'Phones': 462.57}, 'Belize': {'Continent': 'America', 'Population': 287730.0, 'Area': 22966, 'GDP': 4900.0, 'Literacy': 94.1, 'Phones': 115.73}, 'Benin': {'Continent': 'Africa', 'Population': 7862944.0, 'Area': 112620, 'GDP': 1100.0, 'Literacy': 40.9, 'Phones': 9.7}, 'Bermuda': {'Continent': 'America', 'Population': 65773.0, 'Area': 53, 'GDP': 36000.0, 'Literacy': 98.0, 'Phones': 851.41}, 'Bhutan': {'Continent': 'Asia', 'Population': 2279723.0, 'Area': 47000, 'GDP': 1300.0, 'Literacy': 42.2, 'Phones': 14.34}, 'Bolivia': {'Continent': 'America', 'Population': 8989046.0, 'Area': 1098580, 'GDP': 2400.0, 'Literacy': 87.2, 'Phones': 71.9}, 'Botswana': {'Continent': 'Africa', 'Population': 1639833.0, 'Area': 600370, 'GDP': 9000.0, 'Literacy': 79.8, 'Phones': 80.5}, 'Brazil': {'Continent': 'America', 'Population': 188078227.0, 'Area': 8511965, 'GDP': 7600.0, 'Literacy': 86.4, 'Phones': 225.34}, 'British Virgin Is.': {'Continent': 'America', 'Population': 23098.0, 'Area': 153, 'GDP': 16000.0, 'Literacy': 97.8, 'Phones': 506.54}, 'Brunei': {'Continent': 'Asia', 'Population': 379444.0, 'Area': 5770, 'GDP': 18600.0, 'Literacy': 93.9, 'Phones': 237.19}, 'Bulgaria': {'Continent': 'Europe', 'Population': 7385367.0, 'Area': 110910, 'GDP': 7600.0, 'Literacy': 98.6, 'Phones': 336.27}, 'Burkina Faso': {'Continent': 'Africa', 'Population': 13902972.0, 'Area': 274200, 'GDP': 1100.0, 'Literacy': 26.6, 'Phones': 7.01}, 'Burma': {'Continent': 'Asia', 'Population': 47382633.0, 'Area': 678500, 'GDP': 1800.0, 'Literacy': 85.3, 'Phones': 10.05}, 'Burundi': {'Continent': 'Africa', 'Population': 8090068.0, 'Area': 27830, 'GDP': 600.0, 'Literacy': 51.6, 'Phones': 3.42}, 'Cambodia': {'Continent': 'Asia', 'Population': 13881427.0, 'Area': 181040, 'GDP': 1900.0, 'Literacy': 69.4, 'Phones': 2.62}, 'Cameroon': {'Continent': 'Africa', 'Population': 17340702.0, 'Area': 475440, 'GDP': 1800.0, 'Literacy': 79.0, 'Phones': 5.73}, 'Canada': {'Continent': 'America', 'Population': 33098932.0, 'Area': 9984670, 'GDP': 29800.0, 'Literacy': 97.0, 'Phones': 552.16}, 'Cape Verde': {'Continent': 'Africa', 'Population': 420979.0, 'Area': 4033, 'GDP': 1400.0, 'Literacy': 76.6, 'Phones': 169.6}, 'Cayman Islands': {'Continent': 'America', 'Population': 45436.0, 'Area': 262, 'GDP': 35000.0, 'Literacy': 98.0, 'Phones': 836.34}, 'Central African Rep.': {'Continent': 'Africa', 'Population': 4303356.0, 'Area': 622984, 'GDP': 1100.0, 'Literacy': 51.0, 'Phones': 2.32}, 'Chad': {'Continent': 'Africa', 'Population': 9944201.0, 'Area': 1284000, 'GDP': 1200.0, 'Literacy': 47.5, 'Phones': 1.31}, 'Chile': {'Continent': 'America', 'Population': 16134219.0, 'Area': 756950, 'GDP': 9900.0, 'Literacy': 96.2, 'Phones': 212.96}, 'China': {'Continent': 'Asia', 'Population': 1313973713.0, 'Area': 9596960, 'GDP': 5000.0, 'Literacy': 90.9, 'Phones': 266.7}, 'Colombia': {'Continent': 'America', 'Population': 43593035.0, 'Area': 1138910, 'GDP': 6300.0, 'Literacy': 92.5, 'Phones': 176.15}, 'Comoros': {'Continent': 'Africa', 'Population': 690948.0, 'Area': 2170, 'GDP': 700.0, 'Literacy': 56.5, 'Phones': 24.46}, 'Congo, Dem. Rep.': {'Continent': 'Africa', 'Population': 62660551.0, 'Area': 2345410, 'GDP': 700.0, 'Literacy': 65.5, 'Phones': 0.17}, 'Congo, Repub. of the': {'Continent': 'Africa', 'Population': 3702314.0, 'Area': 342000, 'GDP': 700.0, 'Literacy': 83.8, 'Phones': 3.73}, 'Cook Islands': {'Continent': 'Oceania', 'Population': 21388.0, 'Area': 240, 'GDP': 5000.0, 'Literacy': 95.0, 'Phones': 289.88}, 'Costa Rica': {'Continent': 'America', 'Population': 4075261.0, 'Area': 51100, 'GDP': 9100.0, 'Literacy': 96.0, 'Phones': 340.71}, \"Cote d'Ivoire\": {'Continent': 'Africa', 'Population': 17654843.0, 'Area': 322460, 'GDP': 1400.0, 'Literacy': 50.9, 'Phones': 14.61}, 'Croatia': {'Continent': 'Europe', 'Population': 4494749.0, 'Area': 56542, 'GDP': 10600.0, 'Literacy': 98.5, 'Phones': 420.38}, 'Cuba': {'Continent': 'America', 'Population': 11382820.0, 'Area': 110860, 'GDP': 2900.0, 'Literacy': 97.0, 'Phones': 74.67}, 'Czech Republic': {'Continent': 'Europe', 'Population': 10235455.0, 'Area': 78866, 'GDP': 15700.0, 'Literacy': 99.9, 'Phones': 314.33}, 'Denmark': {'Continent': 'Europe', 'Population': 5450661.0, 'Area': 43094, 'GDP': 31100.0, 'Literacy': 100.0, 'Phones': 614.6}, 'Djibouti': {'Continent': 'Africa', 'Population': 486530.0, 'Area': 23000, 'GDP': 1300.0, 'Literacy': 67.9, 'Phones': 22.81}, 'Dominica': {'Continent': 'America', 'Population': 68910.0, 'Area': 754, 'GDP': 5400.0, 'Literacy': 94.0, 'Phones': 304.75}, 'Dominican Republic': {'Continent': 'America', 'Population': 9183984.0, 'Area': 48730, 'GDP': 6000.0, 'Literacy': 84.7, 'Phones': 97.4}, 'Ecuador': {'Continent': 'America', 'Population': 13547510.0, 'Area': 283560, 'GDP': 3300.0, 'Literacy': 92.5, 'Phones': 125.6}, 'Egypt': {'Continent': 'Africa', 'Population': 78887007.0, 'Area': 1001450, 'GDP': 4000.0, 'Literacy': 57.7, 'Phones': 131.78}, 'El Salvador': {'Continent': 'America', 'Population': 6822378.0, 'Area': 21040, 'GDP': 4800.0, 'Literacy': 80.2, 'Phones': 142.4}, 'Equatorial Guinea': {'Continent': 'Africa', 'Population': 540109.0, 'Area': 28051, 'GDP': 2700.0, 'Literacy': 85.7, 'Phones': 18.51}, 'Eritrea': {'Continent': 'Africa', 'Population': 4786994.0, 'Area': 121320, 'GDP': 700.0, 'Literacy': 58.6, 'Phones': 7.88}, 'Estonia': {'Continent': 'Europe', 'Population': 1324333.0, 'Area': 45226, 'GDP': 12300.0, 'Literacy': 99.8, 'Phones': 333.75}, 'Ethiopia': {'Continent': 'Africa', 'Population': 74777981.0, 'Area': 1127127, 'GDP': 700.0, 'Literacy': 42.7, 'Phones': 8.16}, 'Fiji': {'Continent': 'Oceania', 'Population': 905949.0, 'Area': 18270, 'GDP': 5800.0, 'Literacy': 93.7, 'Phones': 112.59}, 'Finland': {'Continent': 'Europe', 'Population': 5231372.0, 'Area': 338145, 'GDP': 27400.0, 'Literacy': 100.0, 'Phones': 405.25}, 'France': {'Continent': 'Europe', 'Population': 60876136.0, 'Area': 547030, 'GDP': 27600.0, 'Literacy': 99.0, 'Phones': 586.44}, 'French Guiana': {'Continent': 'America', 'Population': 199509.0, 'Area': 91000, 'GDP': 8300.0, 'Literacy': 83.0, 'Phones': 255.63}, 'French Polynesia': {'Continent': 'Oceania', 'Population': 274578.0, 'Area': 4167, 'GDP': 17500.0, 'Literacy': 98.0, 'Phones': 194.48}, 'Gabon': {'Continent': 'Africa', 'Population': 1424906.0, 'Area': 267667, 'GDP': 5500.0, 'Literacy': 63.2, 'Phones': 27.44}, 'Gambia, The': {'Continent': 'Africa', 'Population': 1641564.0, 'Area': 11300, 'GDP': 1700.0, 'Literacy': 40.1, 'Phones': 26.8}, 'Germany': {'Continent': 'Europe', 'Population': 82422299.0, 'Area': 357021, 'GDP': 27600.0, 'Literacy': 99.0, 'Phones': 667.85}, 'Ghana': {'Continent': 'Africa', 'Population': 22409572.0, 'Area': 239460, 'GDP': 2200.0, 'Literacy': 74.8, 'Phones': 14.35}, 'Greece': {'Continent': 'Europe', 'Population': 10688058.0, 'Area': 131940, 'GDP': 20000.0, 'Literacy': 97.5, 'Phones': 589.72}, 'Grenada': {'Continent': 'America', 'Population': 89703.0, 'Area': 344, 'GDP': 5000.0, 'Literacy': 98.0, 'Phones': 364.54}, 'Guadeloupe': {'Continent': 'America', 'Population': 452776.0, 'Area': 1780, 'GDP': 8000.0, 'Literacy': 90.0, 'Phones': 463.81}, 'Guam': {'Continent': 'Oceania', 'Population': 171019.0, 'Area': 541, 'GDP': 21000.0, 'Literacy': 99.0, 'Phones': 491.96}, 'Guatemala': {'Continent': 'America', 'Population': 12293545.0, 'Area': 108890, 'GDP': 4100.0, 'Literacy': 70.6, 'Phones': 92.09}, 'Guinea': {'Continent': 'Africa', 'Population': 9690222.0, 'Area': 245857, 'GDP': 2100.0, 'Literacy': 35.9, 'Phones': 2.7}, 'Guinea-Bissau': {'Continent': 'Africa', 'Population': 1442029.0, 'Area': 36120, 'GDP': 800.0, 'Literacy': 42.4, 'Phones': 7.35}, 'Guyana': {'Continent': 'America', 'Population': 767245.0, 'Area': 214970, 'GDP': 4000.0, 'Literacy': 98.8, 'Phones': 143.5}, 'Haiti': {'Continent': 'America', 'Population': 8308504.0, 'Area': 27750, 'GDP': 1600.0, 'Literacy': 52.9, 'Phones': 16.85}, 'Honduras': {'Continent': 'America', 'Population': 7326496.0, 'Area': 112090, 'GDP': 2600.0, 'Literacy': 76.2, 'Phones': 67.48}, 'Hong Kong': {'Continent': 'Asia', 'Population': 6940432.0, 'Area': 1092, 'GDP': 28800.0, 'Literacy': 93.5, 'Phones': 546.74}, 'Hungary': {'Continent': 'Europe', 'Population': 9981334.0, 'Area': 93030, 'GDP': 13900.0, 'Literacy': 99.4, 'Phones': 336.23}, 'Iceland': {'Continent': 'Europe', 'Population': 299388.0, 'Area': 103000, 'GDP': 30900.0, 'Literacy': 99.9, 'Phones': 647.65}, 'India': {'Continent': 'Asia', 'Population': 1095351995.0, 'Area': 3287590, 'GDP': 2900.0, 'Literacy': 59.5, 'Phones': 45.42}, 'Indonesia': {'Continent': 'Asia', 'Population': 245452739.0, 'Area': 1919440, 'GDP': 3200.0, 'Literacy': 87.9, 'Phones': 52.03}, 'Iran': {'Continent': 'Asia', 'Population': 68688433.0, 'Area': 1648000, 'GDP': 7000.0, 'Literacy': 79.4, 'Phones': 276.41}, 'Iraq': {'Continent': 'Asia', 'Population': 26783383.0, 'Area': 437072, 'GDP': 1500.0, 'Literacy': 40.4, 'Phones': 38.61}, 'Ireland': {'Continent': 'Europe', 'Population': 4062235.0, 'Area': 70280, 'GDP': 29600.0, 'Literacy': 98.0, 'Phones': 500.46}, 'Israel': {'Continent': 'Asia', 'Population': 6352117.0, 'Area': 20770, 'GDP': 19800.0, 'Literacy': 95.4, 'Phones': 462.26}, 'Italy': {'Continent': 'Europe', 'Population': 58133509.0, 'Area': 301230, 'GDP': 26700.0, 'Literacy': 98.6, 'Phones': 430.89}, 'Jamaica': {'Continent': 'America', 'Population': 2758124.0, 'Area': 10991, 'GDP': 3900.0, 'Literacy': 87.9, 'Phones': 124.0}, 'Japan': {'Continent': 'Asia', 'Population': 127463611.0, 'Area': 377835, 'GDP': 28200.0, 'Literacy': 99.0, 'Phones': 461.15}, 'Jordan': {'Continent': 'Asia', 'Population': 5906760.0, 'Area': 92300, 'GDP': 4300.0, 'Literacy': 91.3, 'Phones': 104.51}, 'Kenya': {'Continent': 'Africa', 'Population': 34707817.0, 'Area': 582650, 'GDP': 1000.0, 'Literacy': 85.1, 'Phones': 8.12}, 'Korea, North': {'Continent': 'Asia', 'Population': 23113019.0, 'Area': 120540, 'GDP': 1300.0, 'Literacy': 99.0, 'Phones': 42.4}, 'Korea, South': {'Continent': 'Asia', 'Population': 48846823.0, 'Area': 98480, 'GDP': 17800.0, 'Literacy': 97.9, 'Phones': 486.11}, 'Kuwait': {'Continent': 'Asia', 'Population': 2418393.0, 'Area': 17820, 'GDP': 19000.0, 'Literacy': 83.5, 'Phones': 211.01}, 'Laos': {'Continent': 'Asia', 'Population': 6368481.0, 'Area': 236800, 'GDP': 1700.0, 'Literacy': 66.4, 'Phones': 14.14}, 'Latvia': {'Continent': 'Europe', 'Population': 2274735.0, 'Area': 64589, 'GDP': 10200.0, 'Literacy': 99.8, 'Phones': 321.36}, 'Lebanon': {'Continent': 'Asia', 'Population': 3874050.0, 'Area': 10400, 'GDP': 4800.0, 'Literacy': 87.4, 'Phones': 255.55}, 'Lesotho': {'Continent': 'Africa', 'Population': 2022331.0, 'Area': 30355, 'GDP': 3000.0, 'Literacy': 84.8, 'Phones': 23.73}, 'Liberia': {'Continent': 'Africa', 'Population': 3042004.0, 'Area': 111370, 'GDP': 1000.0, 'Literacy': 57.5, 'Phones': 2.27}, 'Libya': {'Continent': 'Africa', 'Population': 5900754.0, 'Area': 1759540, 'GDP': 6400.0, 'Literacy': 82.6, 'Phones': 127.1}, 'Liechtenstein': {'Continent': 'Europe', 'Population': 33987.0, 'Area': 160, 'GDP': 25000.0, 'Literacy': 100.0, 'Phones': 585.52}, 'Lithuania': {'Continent': 'Europe', 'Population': 3585906.0, 'Area': 65200, 'GDP': 11400.0, 'Literacy': 99.6, 'Phones': 223.4}, 'Luxembourg': {'Continent': 'Europe', 'Population': 474413.0, 'Area': 2586, 'GDP': 55100.0, 'Literacy': 100.0, 'Phones': 515.37}, 'Macau': {'Continent': 'Asia', 'Population': 453125.0, 'Area': 28, 'GDP': 19400.0, 'Literacy': 94.5, 'Phones': 384.88}, 'Madagascar': {'Continent': 'Africa', 'Population': 18595469.0, 'Area': 587040, 'GDP': 800.0, 'Literacy': 68.9, 'Phones': 3.6}, 'Malawi': {'Continent': 'Africa', 'Population': 13013926.0, 'Area': 118480, 'GDP': 600.0, 'Literacy': 62.7, 'Phones': 7.89}, 'Malaysia': {'Continent': 'Asia', 'Population': 24385858.0, 'Area': 329750, 'GDP': 9000.0, 'Literacy': 88.7, 'Phones': 179.04}, 'Maldives': {'Continent': 'Asia', 'Population': 359008.0, 'Area': 300, 'GDP': 3900.0, 'Literacy': 97.2, 'Phones': 89.97}, 'Mali': {'Continent': 'Africa', 'Population': 11716829.0, 'Area': 1240000, 'GDP': 900.0, 'Literacy': 46.4, 'Phones': 6.4}, 'Malta': {'Continent': 'Europe', 'Population': 400214.0, 'Area': 316, 'GDP': 17700.0, 'Literacy': 92.8, 'Phones': 504.98}, 'Marshall Islands': {'Continent': 'Oceania', 'Population': 60422.0, 'Area': 11854, 'GDP': 1600.0, 'Literacy': 93.7, 'Phones': 91.19}, 'Martinique': {'Continent': 'America', 'Population': 436131.0, 'Area': 1100, 'GDP': 14400.0, 'Literacy': 97.7, 'Phones': 394.38}, 'Mauritania': {'Continent': 'Africa', 'Population': 3177388.0, 'Area': 1030700, 'GDP': 1800.0, 'Literacy': 41.7, 'Phones': 12.9}, 'Mauritius': {'Continent': 'Africa', 'Population': 1240827.0, 'Area': 2040, 'GDP': 11400.0, 'Literacy': 85.6, 'Phones': 289.32}, 'Mexico': {'Continent': 'America', 'Population': 107449525.0, 'Area': 1972550, 'GDP': 9000.0, 'Literacy': 92.2, 'Phones': 181.59}, 'Micronesia, Fed. St.': {'Continent': 'Oceania', 'Population': 108004.0, 'Area': 702, 'GDP': 2000.0, 'Literacy': 89.0, 'Phones': 114.81}, 'Monaco': {'Continent': 'Europe', 'Population': 32543.0, 'Area': 2, 'GDP': 27000.0, 'Literacy': 99.0, 'Phones': 1035.55}, 'Mongolia': {'Continent': 'Asia', 'Population': 2832224.0, 'Area': 1564116, 'GDP': 1800.0, 'Literacy': 97.8, 'Phones': 55.08}, 'Morocco': {'Continent': 'Africa', 'Population': 33241259.0, 'Area': 446550, 'GDP': 4000.0, 'Literacy': 51.7, 'Phones': 40.35}, 'Mozambique': {'Continent': 'Africa', 'Population': 19686505.0, 'Area': 801590, 'GDP': 1200.0, 'Literacy': 47.8, 'Phones': 3.54}, 'Namibia': {'Continent': 'Africa', 'Population': 2044147.0, 'Area': 825418, 'GDP': 7200.0, 'Literacy': 84.0, 'Phones': 62.57}, 'Nepal': {'Continent': 'Asia', 'Population': 28287147.0, 'Area': 147181, 'GDP': 1400.0, 'Literacy': 45.2, 'Phones': 15.86}, 'Netherlands': {'Continent': 'Europe', 'Population': 16491461.0, 'Area': 41526, 'GDP': 28600.0, 'Literacy': 99.0, 'Phones': 460.84}, 'Netherlands Antilles': {'Continent': 'America', 'Population': 221736.0, 'Area': 960, 'GDP': 11400.0, 'Literacy': 96.7, 'Phones': 365.3}, 'New Caledonia': {'Continent': 'Oceania', 'Population': 219246.0, 'Area': 19060, 'GDP': 15000.0, 'Literacy': 91.0, 'Phones': 252.23}, 'New Zealand': {'Continent': 'Oceania', 'Population': 4076140.0, 'Area': 268680, 'GDP': 21600.0, 'Literacy': 99.0, 'Phones': 441.72}, 'Nicaragua': {'Continent': 'America', 'Population': 5570129.0, 'Area': 129494, 'GDP': 2300.0, 'Literacy': 67.5, 'Phones': 39.66}, 'Niger': {'Continent': 'Africa', 'Population': 12525094.0, 'Area': 1267000, 'GDP': 800.0, 'Literacy': 17.6, 'Phones': 1.92}, 'Nigeria': {'Continent': 'Africa', 'Population': 131859731.0, 'Area': 923768, 'GDP': 900.0, 'Literacy': 68.0, 'Phones': 9.28}, 'N. Mariana Islands': {'Continent': 'Oceania', 'Population': 82459.0, 'Area': 477, 'GDP': 12500.0, 'Literacy': 97.0, 'Phones': 254.67}, 'Norway': {'Continent': 'Europe', 'Population': 4610820.0, 'Area': 323802, 'GDP': 37800.0, 'Literacy': 100.0, 'Phones': 461.74}, 'Oman': {'Continent': 'Asia', 'Population': 3102229.0, 'Area': 212460, 'GDP': 13100.0, 'Literacy': 75.8, 'Phones': 85.49}, 'Pakistan': {'Continent': 'Asia', 'Population': 165803560.0, 'Area': 803940, 'GDP': 2100.0, 'Literacy': 45.7, 'Phones': 31.83}, 'Palau': {'Continent': 'Oceania', 'Population': 20579.0, 'Area': 458, 'GDP': 9000.0, 'Literacy': 92.0, 'Phones': 325.57}, 'Panama': {'Continent': 'America', 'Population': 3191319.0, 'Area': 78200, 'GDP': 6300.0, 'Literacy': 92.6, 'Phones': 137.91}, 'Papua New Guinea': {'Continent': 'Oceania', 'Population': 5670544.0, 'Area': 462840, 'GDP': 2200.0, 'Literacy': 64.6, 'Phones': 10.93}, 'Paraguay': {'Continent': 'America', 'Population': 6506464.0, 'Area': 406750, 'GDP': 4700.0, 'Literacy': 94.0, 'Phones': 49.23}, 'Peru': {'Continent': 'America', 'Population': 28302603.0, 'Area': 1285220, 'GDP': 5100.0, 'Literacy': 90.9, 'Phones': 79.52}, 'Philippines': {'Continent': 'Asia', 'Population': 89468677.0, 'Area': 300000, 'GDP': 4600.0, 'Literacy': 92.6, 'Phones': 38.42}, 'Poland': {'Continent': 'Europe', 'Population': 38536869.0, 'Area': 312685, 'GDP': 11100.0, 'Literacy': 99.8, 'Phones': 306.28}, 'Portugal': {'Continent': 'Europe', 'Population': 10605870.0, 'Area': 92391, 'GDP': 18000.0, 'Literacy': 93.3, 'Phones': 399.21}, 'Puerto Rico': {'Continent': 'America', 'Population': 3927188.0, 'Area': 13790, 'GDP': 16800.0, 'Literacy': 94.1, 'Phones': 283.13}, 'Qatar': {'Continent': 'Asia', 'Population': 885359.0, 'Area': 11437, 'GDP': 21500.0, 'Literacy': 82.5, 'Phones': 232.0}, 'Reunion': {'Continent': 'Africa', 'Population': 787584.0, 'Area': 2517, 'GDP': 5800.0, 'Literacy': 88.9, 'Phones': 380.91}, 'Romania': {'Continent': 'Europe', 'Population': 22303552.0, 'Area': 237500, 'GDP': 7000.0, 'Literacy': 98.4, 'Phones': 196.87}, 'Rwanda': {'Continent': 'Africa', 'Population': 8648248.0, 'Area': 26338, 'GDP': 1300.0, 'Literacy': 70.4, 'Phones': 2.66}, 'Saint Helena': {'Continent': 'Africa', 'Population': 7502.0, 'Area': 413, 'GDP': 2500.0, 'Literacy': 97.0, 'Phones': 293.26}, 'Saint Kitts & Nevis': {'Continent': 'America', 'Population': 39129.0, 'Area': 261, 'GDP': 8800.0, 'Literacy': 97.0, 'Phones': 638.91}, 'Saint Lucia': {'Continent': 'America', 'Population': 168458.0, 'Area': 616, 'GDP': 5400.0, 'Literacy': 67.0, 'Phones': 303.34}, 'St Pierre & Miquelon': {'Continent': 'America', 'Population': 7026.0, 'Area': 242, 'GDP': 6900.0, 'Literacy': 99.0, 'Phones': 683.18}, 'Saint Vincent and the Grenadines': {'Continent': 'America', 'Population': 117848.0, 'Area': 389, 'GDP': 2900.0, 'Literacy': 96.0, 'Phones': 190.92}, 'Samoa': {'Continent': 'Oceania', 'Population': 176908.0, 'Area': 2944, 'GDP': 5600.0, 'Literacy': 99.7, 'Phones': 75.18}, 'San Marino': {'Continent': 'Europe', 'Population': 29251.0, 'Area': 61, 'GDP': 34600.0, 'Literacy': 96.0, 'Phones': 704.25}, 'Sao Tome & Principe': {'Continent': 'Africa', 'Population': 193413.0, 'Area': 1001, 'GDP': 1200.0, 'Literacy': 79.3, 'Phones': 36.19}, 'Saudi Arabia': {'Continent': 'Asia', 'Population': 27019731.0, 'Area': 1960582, 'GDP': 11800.0, 'Literacy': 78.8, 'Phones': 140.64}, 'Senegal': {'Continent': 'Africa', 'Population': 11987121.0, 'Area': 196190, 'GDP': 1600.0, 'Literacy': 40.2, 'Phones': 22.24}, 'Serbia': {'Continent': 'Europe', 'Population': 9396411.0, 'Area': 88361, 'GDP': 2200.0, 'Literacy': 93.0, 'Phones': 285.79}, 'Seychelles': {'Continent': 'Africa', 'Population': 81541.0, 'Area': 455, 'GDP': 7800.0, 'Literacy': 58.0, 'Phones': 262.44}, 'Sierra Leone': {'Continent': 'Africa', 'Population': 6005250.0, 'Area': 71740, 'GDP': 500.0, 'Literacy': 31.4, 'Phones': 4.0}, 'Singapore': {'Continent': 'Asia', 'Population': 4492150.0, 'Area': 693, 'GDP': 23700.0, 'Literacy': 92.5, 'Phones': 411.38}, 'Slovenia': {'Continent': 'Europe', 'Population': 2010347.0, 'Area': 20273, 'GDP': 19000.0, 'Literacy': 99.7, 'Phones': 406.1}, 'Somalia': {'Continent': 'Africa', 'Population': 8863338.0, 'Area': 637657, 'GDP': 500.0, 'Literacy': 37.8, 'Phones': 11.28}, 'South Africa': {'Continent': 'Africa', 'Population': 44187637.0, 'Area': 1219912, 'GDP': 10700.0, 'Literacy': 86.4, 'Phones': 107.02}, 'Spain': {'Continent': 'Europe', 'Population': 40397842.0, 'Area': 504782, 'GDP': 22000.0, 'Literacy': 97.9, 'Phones': 453.54}, 'Sri Lanka': {'Continent': 'Asia', 'Population': 20222240.0, 'Area': 65610, 'GDP': 3700.0, 'Literacy': 92.3, 'Phones': 61.52}, 'Sudan': {'Continent': 'Africa', 'Population': 41236378.0, 'Area': 2505810, 'GDP': 1900.0, 'Literacy': 61.1, 'Phones': 16.25}, 'Suriname': {'Continent': 'America', 'Population': 439117.0, 'Area': 163270, 'GDP': 4000.0, 'Literacy': 93.0, 'Phones': 184.69}, 'Swaziland': {'Continent': 'Africa', 'Population': 1136334.0, 'Area': 17363, 'GDP': 4900.0, 'Literacy': 81.6, 'Phones': 30.8}, 'Sweden': {'Continent': 'Europe', 'Population': 9016596.0, 'Area': 449964, 'GDP': 26800.0, 'Literacy': 99.0, 'Phones': 715.01}, 'Switzerland': {'Continent': 'Europe', 'Population': 7523934.0, 'Area': 41290, 'GDP': 32700.0, 'Literacy': 99.0, 'Phones': 680.89}, 'Syria': {'Continent': 'Asia', 'Population': 18881361.0, 'Area': 185180, 'GDP': 3300.0, 'Literacy': 76.9, 'Phones': 153.75}, 'Taiwan': {'Continent': 'Asia', 'Population': 23036087.0, 'Area': 35980, 'GDP': 23400.0, 'Literacy': 96.1, 'Phones': 591.03}, 'Tanzania': {'Continent': 'Africa', 'Population': 37445392.0, 'Area': 945087, 'GDP': 600.0, 'Literacy': 78.2, 'Phones': 3.96}, 'Thailand': {'Continent': 'Asia', 'Population': 64631595.0, 'Area': 514000, 'GDP': 7400.0, 'Literacy': 92.6, 'Phones': 108.85}, 'Togo': {'Continent': 'Africa', 'Population': 5548702.0, 'Area': 56785, 'GDP': 1500.0, 'Literacy': 60.9, 'Phones': 10.56}, 'Tonga': {'Continent': 'Oceania', 'Population': 114689.0, 'Area': 748, 'GDP': 2200.0, 'Literacy': 98.5, 'Phones': 97.66}, 'Trinidad & Tobago': {'Continent': 'America', 'Population': 1065842.0, 'Area': 5128, 'GDP': 9500.0, 'Literacy': 98.6, 'Phones': 303.52}, 'Tunisia': {'Continent': 'Africa', 'Population': 10175014.0, 'Area': 163610, 'GDP': 6900.0, 'Literacy': 74.2, 'Phones': 123.59}, 'Turkey': {'Continent': 'Asia', 'Population': 70413958.0, 'Area': 780580, 'GDP': 6700.0, 'Literacy': 86.5, 'Phones': 269.52}, 'Turks & Caicos Is': {'Continent': 'America', 'Population': 21152.0, 'Area': 430, 'GDP': 9600.0, 'Literacy': 98.0, 'Phones': 269.48}, 'Uganda': {'Continent': 'Africa', 'Population': 28195754.0, 'Area': 236040, 'GDP': 1400.0, 'Literacy': 69.9, 'Phones': 3.58}, 'United Arab Emirates': {'Continent': 'Asia', 'Population': 2602713.0, 'Area': 82880, 'GDP': 23200.0, 'Literacy': 77.9, 'Phones': 475.27}, 'United Kingdom': {'Continent': 'Europe', 'Population': 60609153.0, 'Area': 244820, 'GDP': 27700.0, 'Literacy': 99.0, 'Phones': 543.53}, 'United States': {'Continent': 'America', 'Population': 298444215.0, 'Area': 9631420, 'GDP': 37800.0, 'Literacy': 97.0, 'Phones': 897.99}, 'Uruguay': {'Continent': 'America', 'Population': 3431932.0, 'Area': 176220, 'GDP': 12800.0, 'Literacy': 98.0, 'Phones': 291.38}, 'Vanuatu': {'Continent': 'Oceania', 'Population': 208869.0, 'Area': 12200, 'GDP': 2900.0, 'Literacy': 53.0, 'Phones': 32.56}, 'Venezuela': {'Continent': 'America', 'Population': 25730435.0, 'Area': 912050, 'GDP': 4800.0, 'Literacy': 93.4, 'Phones': 140.13}, 'Vietnam': {'Continent': 'Asia', 'Population': 84402966.0, 'Area': 329560, 'GDP': 2500.0, 'Literacy': 90.3, 'Phones': 187.73}, 'Wallis and Futuna': {'Continent': 'Oceania', 'Population': 16025.0, 'Area': 274, 'GDP': 3700.0, 'Literacy': 50.0, 'Phones': 118.56}, 'Yemen': {'Continent': 'Asia', 'Population': 21456188.0, 'Area': 527970, 'GDP': 800.0, 'Literacy': 50.2, 'Phones': 37.2}, 'Zambia': {'Continent': 'Africa', 'Population': 11502010.0, 'Area': 752614, 'GDP': 800.0, 'Literacy': 80.6, 'Phones': 8.23}, 'Zimbabwe': {'Continent': 'Africa', 'Population': 12236805.0, 'Area': 390580, 'GDP': 1900.0, 'Literacy': 90.7, 'Phones': 26.8}}\n"
     ]
    }
   ],
   "source": [
    "print(countries)"
   ]
  },
  {
   "cell_type": "code",
   "execution_count": 16,
   "id": "65f7baff",
   "metadata": {
    "deletable": false,
    "nbgrader": {
     "grade": false,
     "grade_id": "cell-3fd27539b41bed5c",
     "locked": false,
     "schema_version": 3,
     "solution": true,
     "task": false
    }
   },
   "outputs": [],
   "source": [
    "def convert_area_to_sq_km(countries):\n",
    "    # YOUR CODE HERE\n",
    "    for country, info in countries.items():\n",
    "        info['Area'] = round((info['Area'] * 2.58999),1)\n",
    "    return countries"
   ]
  },
  {
   "cell_type": "code",
   "execution_count": 17,
   "id": "cfebb13c",
   "metadata": {
    "deletable": false,
    "editable": false,
    "nbgrader": {
     "grade": true,
     "grade_id": "cell-b77708fde98d925a",
     "locked": true,
     "points": 2,
     "schema_version": 3,
     "solution": false,
     "task": false
    }
   },
   "outputs": [
    {
     "name": "stdout",
     "output_type": "stream",
     "text": [
      "---- All asserts passed ---- \n"
     ]
    }
   ],
   "source": [
    "countries = convert_area_to_sq_km(countries)\n",
    "for country in countries.keys():\n",
    "    assert isinstance(countries[country][\"Area\"], float), \\\n",
    "            \"Not correct. Keep trying.\"\n",
    "assert len(countries) == 194, \"Not correct. Keep trying.\"\n",
    "assert math.isclose(countries[\"Haiti\"][\"Area\"], 71872.2, abs_tol=0.1), \\\n",
    "       \"Not correct. Keep trying.\"\n",
    "assert math.isclose(countries[\"Morocco\"][\"Area\"], 1156560.0, abs_tol=0.1), \\\n",
    "       \"Not correct. Keep trying.\"\n",
    "print(\"---- All asserts passed ---- \")\n",
    "countries = countries_backup"
   ]
  },
  {
   "cell_type": "markdown",
   "id": "74d8687d",
   "metadata": {
    "deletable": false,
    "editable": false,
    "nbgrader": {
     "grade": false,
     "grade_id": "cell-54c0c880656a2e9d",
     "locked": true,
     "schema_version": 3,
     "solution": false,
     "task": false
    }
   },
   "source": [
    "## Question 4\n",
    "\n",
    "Complete the function `get_europe_countries`. This function should:\n",
    "- Receive the `countries` dictionary as argument;\n",
    "- Build a list with the names of the countries in Europe sorted by alphabetical order (from A to Z);\n",
    " - Use the field called `Continent`;\n",
    " - Use list comprehension;\n",
    " - Use the sort method from the list data type;\n",
    "- Return the list;"
   ]
  },
  {
   "cell_type": "code",
   "execution_count": 18,
   "id": "372503f9",
   "metadata": {},
   "outputs": [
    {
     "data": {
      "text/plain": [
       "\"list_europe = []\\nfor country, info in countries.items():\\n    if info['Continent'] == 'Europe':\\n        list_europe.append(country\""
      ]
     },
     "execution_count": 18,
     "metadata": {},
     "output_type": "execute_result"
    }
   ],
   "source": [
    "'''list_europe = []\n",
    "for country, info in countries.items():\n",
    "    if info['Continent'] == 'Europe':\n",
    "        list_europe.append(country'''"
   ]
  },
  {
   "cell_type": "code",
   "execution_count": 19,
   "id": "cfd093f9",
   "metadata": {},
   "outputs": [
    {
     "data": {
      "text/plain": [
       "'list_europ'"
      ]
     },
     "execution_count": 19,
     "metadata": {},
     "output_type": "execute_result"
    }
   ],
   "source": [
    "'''list_europ'''"
   ]
  },
  {
   "cell_type": "code",
   "execution_count": null,
   "id": "edd53cf6",
   "metadata": {},
   "outputs": [],
   "source": []
  },
  {
   "cell_type": "code",
   "execution_count": 20,
   "id": "47748397",
   "metadata": {},
   "outputs": [
    {
     "data": {
      "text/plain": [
       "\"list_europe = []\\nlist_europe = [list_europe.append(country) for country, info in countries.items() if info['Continent'] == 'Europe']\\n   \""
      ]
     },
     "execution_count": 20,
     "metadata": {},
     "output_type": "execute_result"
    }
   ],
   "source": [
    "'''list_europe = []\n",
    "list_europe = [list_europe.append(country) for country, info in countries.items() if info['Continent'] == 'Europe']\n",
    "   '''"
   ]
  },
  {
   "cell_type": "code",
   "execution_count": 21,
   "id": "43e4c4f0",
   "metadata": {},
   "outputs": [
    {
     "data": {
      "text/plain": [
       "'list_europ'"
      ]
     },
     "execution_count": 21,
     "metadata": {},
     "output_type": "execute_result"
    }
   ],
   "source": [
    "'''list_europ'''"
   ]
  },
  {
   "cell_type": "code",
   "execution_count": 22,
   "id": "0be217d4",
   "metadata": {
    "deletable": false,
    "nbgrader": {
     "grade": false,
     "grade_id": "cell-ee1f38ef730c2004",
     "locked": false,
     "schema_version": 3,
     "solution": true,
     "task": false
    }
   },
   "outputs": [],
   "source": [
    "def get_europe_countries(countries):\n",
    "    list_europe = []\n",
    "    list_europe = [country for country, info in countries.items() if info['Continent'] == 'Europe']\n",
    "    list_europe.sort()\n",
    "    return list_europe"
   ]
  },
  {
   "cell_type": "code",
   "execution_count": 23,
   "id": "f2924401",
   "metadata": {},
   "outputs": [],
   "source": [
    "contries_europe = get_europe_countries(countries)\n",
    "\n"
   ]
  },
  {
   "cell_type": "code",
   "execution_count": 24,
   "id": "ffaf75d3",
   "metadata": {},
   "outputs": [
    {
     "name": "stdout",
     "output_type": "stream",
     "text": [
      "['Albania', 'Andorra', 'Austria', 'Belgium', 'Bulgaria', 'Croatia', 'Czech Republic', 'Denmark', 'Estonia', 'Finland', 'France', 'Germany', 'Greece', 'Hungary', 'Iceland', 'Ireland', 'Italy', 'Latvia', 'Liechtenstein', 'Lithuania', 'Luxembourg', 'Malta', 'Monaco', 'Netherlands', 'Norway', 'Poland', 'Portugal', 'Romania', 'San Marino', 'Serbia', 'Slovenia', 'Spain', 'Sweden', 'Switzerland', 'United Kingdom']\n"
     ]
    }
   ],
   "source": [
    "print(contries_europe)"
   ]
  },
  {
   "cell_type": "code",
   "execution_count": 25,
   "id": "f4f43942",
   "metadata": {},
   "outputs": [
    {
     "name": "stdout",
     "output_type": "stream",
     "text": [
      "['Albania', 'Andorra', 'Austria', 'Belgium', 'Bulgaria', 'Croatia', 'Czech Republic', 'Denmark', 'Estonia', 'Finland', 'France', 'Germany', 'Greece', 'Hungary', 'Iceland', 'Ireland', 'Italy', 'Latvia', 'Liechtenstein', 'Lithuania', 'Luxembourg', 'Malta', 'Monaco', 'Netherlands', 'Norway', 'Poland', 'Portugal', 'Romania', 'San Marino', 'Serbia', 'Slovenia', 'Spain', 'Sweden', 'Switzerland', 'United Kingdom']\n"
     ]
    }
   ],
   "source": [
    "a = sorted([country for country, info in countries.items() if info['Continent'] == 'Europe'])\n",
    "print(a)"
   ]
  },
  {
   "cell_type": "code",
   "execution_count": 26,
   "id": "dd93b551",
   "metadata": {},
   "outputs": [
    {
     "data": {
      "text/plain": [
       "\"def get_europe_countries(countries):\\n    list_europe = []\\n    list_europe = sorted([country for country, info in countries.items() if info['Continent'] == 'Europe'])\\n    return list_europ\""
      ]
     },
     "execution_count": 26,
     "metadata": {},
     "output_type": "execute_result"
    }
   ],
   "source": [
    "'''def get_europe_countries(countries):\n",
    "    list_europe = []\n",
    "    list_europe = sorted([country for country, info in countries.items() if info['Continent'] == 'Europe'])\n",
    "    return list_europ'''"
   ]
  },
  {
   "cell_type": "code",
   "execution_count": 27,
   "id": "f913e66b",
   "metadata": {
    "deletable": false,
    "editable": false,
    "nbgrader": {
     "grade": true,
     "grade_id": "cell-48bf94a05b056aa0",
     "locked": true,
     "points": 2,
     "schema_version": 3,
     "solution": false,
     "task": false
    }
   },
   "outputs": [
    {
     "name": "stdout",
     "output_type": "stream",
     "text": [
      "---- All asserts passed ---- \n"
     ]
    }
   ],
   "source": [
    "countries_list = get_europe_countries(countries)\n",
    "assert isinstance(countries_list, list), \"Not correct. Keep trying.\"\n",
    "assert len(countries_list) == 35, \"Not correct. Keep trying.\"\n",
    "assert countries_list[0] == \"Albania\", \"Not correct. Keep trying.\"\n",
    "assert countries_list[5] == \"Croatia\", \"Not correct. Keep trying.\"\n",
    "assert countries_list[34] == \"United Kingdom\", \"Not correct. Keep trying.\"\n",
    "source = inspect.getsource(get_europe_countries)\n",
    "assert \"for\" in source, \"Not correct. Keep trying.\"\n",
    "assert \"[\" in source, \"Not correct. Keep trying.\"\n",
    "assert \"in\" in source, \"Not correct. Keep trying.\"\n",
    "assert \".sort(\" in source, \"Not correct. Keep trying.\"\n",
    "print(\"---- All asserts passed ---- \")\n",
    "countries = countries_backup"
   ]
  },
  {
   "cell_type": "markdown",
   "id": "c3ea2c46",
   "metadata": {
    "deletable": false,
    "editable": false,
    "nbgrader": {
     "grade": false,
     "grade_id": "cell-e3c15d108b39d452",
     "locked": true,
     "schema_version": 3,
     "solution": false,
     "task": false
    }
   },
   "source": [
    "## Question 5\n",
    "\n",
    "Complete the function `get_literacy_levels_by_continent`. This function should:\n",
    "- Receive the `countries` dictionary as argument;\n",
    "- Receive a continent name as argument;\n",
    "- For the countries in the continent (received as argument), compute the literacy level as:\n",
    " - literacy in [0, 25[ % - VERY_LOW;\n",
    " - literacy in [25, 50[ % - LOW;\n",
    " - literacy in [50, 70[ % - MEDIUM;\n",
    " - literacy in [70, 90[ % - HIGH;\n",
    " - literacy in [90, 100] % - VERY_HIGH;\n",
    "- Return a list of tuples like: [(country_1, literacy_1, literacy_level_1), ..., (country_n, literacy_n, literacy_level_n), ...];"
   ]
  },
  {
   "cell_type": "code",
   "execution_count": 28,
   "id": "d4988aea",
   "metadata": {},
   "outputs": [
    {
     "data": {
      "text/plain": [
       "{'Afghanistan': {'Continent': 'Asia',\n",
       "  'Population': 31056997.0,\n",
       "  'Area': 1677018.5,\n",
       "  'GDP': 700.0,\n",
       "  'Literacy': 36.0,\n",
       "  'Phones': 3.22},\n",
       " 'Albania': {'Continent': 'Europe',\n",
       "  'Population': 3581655.0,\n",
       "  'Area': 74457.0,\n",
       "  'GDP': 4500.0,\n",
       "  'Literacy': 86.5,\n",
       "  'Phones': 71.2},\n",
       " 'Algeria': {'Continent': 'Africa',\n",
       "  'Population': 32930091.0,\n",
       "  'Area': 6168682.8,\n",
       "  'GDP': 6000.0,\n",
       "  'Literacy': 70.0,\n",
       "  'Phones': 78.1},\n",
       " 'American Samoa': {'Continent': 'Oceania',\n",
       "  'Population': 57794.0,\n",
       "  'Area': 515.4,\n",
       "  'GDP': 8000.0,\n",
       "  'Literacy': 97.0,\n",
       "  'Phones': 259.54},\n",
       " 'Andorra': {'Continent': 'Europe',\n",
       "  'Population': 71201.0,\n",
       "  'Area': 1212.1,\n",
       "  'GDP': 19000.0,\n",
       "  'Literacy': 100.0,\n",
       "  'Phones': 497.18},\n",
       " 'Angola': {'Continent': 'Africa',\n",
       "  'Population': 12127071.0,\n",
       "  'Area': 3228940.5,\n",
       "  'GDP': 1900.0,\n",
       "  'Literacy': 42.0,\n",
       "  'Phones': 7.78},\n",
       " 'Anguilla': {'Continent': 'America',\n",
       "  'Population': 13477.0,\n",
       "  'Area': 264.2,\n",
       "  'GDP': 8600.0,\n",
       "  'Literacy': 95.0,\n",
       "  'Phones': 460.04},\n",
       " 'Antigua & Barbuda': {'Continent': 'America',\n",
       "  'Population': 69108.0,\n",
       "  'Area': 1147.4,\n",
       "  'GDP': 11000.0,\n",
       "  'Literacy': 89.0,\n",
       "  'Phones': 549.86},\n",
       " 'Argentina': {'Continent': 'America',\n",
       "  'Population': 39921833.0,\n",
       "  'Area': 7166217.4,\n",
       "  'GDP': 11200.0,\n",
       "  'Literacy': 97.1,\n",
       "  'Phones': 220.43},\n",
       " 'Aruba': {'Continent': 'America',\n",
       "  'Population': 71891.0,\n",
       "  'Area': 499.9,\n",
       "  'GDP': 28000.0,\n",
       "  'Literacy': 97.0,\n",
       "  'Phones': 516.06},\n",
       " 'Australia': {'Continent': 'Oceania',\n",
       "  'Population': 20264082.0,\n",
       "  'Area': 19908864.6,\n",
       "  'GDP': 29000.0,\n",
       "  'Literacy': 100.0,\n",
       "  'Phones': 565.53},\n",
       " 'Austria': {'Continent': 'Europe',\n",
       "  'Population': 8192880.0,\n",
       "  'Area': 217222.5,\n",
       "  'GDP': 30000.0,\n",
       "  'Literacy': 98.0,\n",
       "  'Phones': 452.22},\n",
       " 'Bahamas, The': {'Continent': 'America',\n",
       "  'Population': 303770.0,\n",
       "  'Area': 36104.5,\n",
       "  'GDP': 16700.0,\n",
       "  'Literacy': 95.6,\n",
       "  'Phones': 460.55},\n",
       " 'Bahrain': {'Continent': 'Asia',\n",
       "  'Population': 698585.0,\n",
       "  'Area': 1722.3,\n",
       "  'GDP': 16900.0,\n",
       "  'Literacy': 89.1,\n",
       "  'Phones': 281.28},\n",
       " 'Bangladesh': {'Continent': 'Asia',\n",
       "  'Population': 147365352.0,\n",
       "  'Area': 372958.6,\n",
       "  'GDP': 1900.0,\n",
       "  'Literacy': 43.1,\n",
       "  'Phones': 7.26},\n",
       " 'Barbados': {'Continent': 'America',\n",
       "  'Population': 279912.0,\n",
       "  'Area': 1116.3,\n",
       "  'GDP': 15700.0,\n",
       "  'Literacy': 97.4,\n",
       "  'Phones': 481.94},\n",
       " 'Belgium': {'Continent': 'Europe',\n",
       "  'Population': 10379067.0,\n",
       "  'Area': 79067.2,\n",
       "  'GDP': 29100.0,\n",
       "  'Literacy': 98.0,\n",
       "  'Phones': 462.57},\n",
       " 'Belize': {'Continent': 'America',\n",
       "  'Population': 287730.0,\n",
       "  'Area': 59481.7,\n",
       "  'GDP': 4900.0,\n",
       "  'Literacy': 94.1,\n",
       "  'Phones': 115.73},\n",
       " 'Benin': {'Continent': 'Africa',\n",
       "  'Population': 7862944.0,\n",
       "  'Area': 291684.7,\n",
       "  'GDP': 1100.0,\n",
       "  'Literacy': 40.9,\n",
       "  'Phones': 9.7},\n",
       " 'Bermuda': {'Continent': 'America',\n",
       "  'Population': 65773.0,\n",
       "  'Area': 137.3,\n",
       "  'GDP': 36000.0,\n",
       "  'Literacy': 98.0,\n",
       "  'Phones': 851.41},\n",
       " 'Bhutan': {'Continent': 'Asia',\n",
       "  'Population': 2279723.0,\n",
       "  'Area': 121729.5,\n",
       "  'GDP': 1300.0,\n",
       "  'Literacy': 42.2,\n",
       "  'Phones': 14.34},\n",
       " 'Bolivia': {'Continent': 'America',\n",
       "  'Population': 8989046.0,\n",
       "  'Area': 2845311.2,\n",
       "  'GDP': 2400.0,\n",
       "  'Literacy': 87.2,\n",
       "  'Phones': 71.9},\n",
       " 'Botswana': {'Continent': 'Africa',\n",
       "  'Population': 1639833.0,\n",
       "  'Area': 1554952.3,\n",
       "  'GDP': 9000.0,\n",
       "  'Literacy': 79.8,\n",
       "  'Phones': 80.5},\n",
       " 'Brazil': {'Continent': 'America',\n",
       "  'Population': 188078227.0,\n",
       "  'Area': 22045904.2,\n",
       "  'GDP': 7600.0,\n",
       "  'Literacy': 86.4,\n",
       "  'Phones': 225.34},\n",
       " 'British Virgin Is.': {'Continent': 'America',\n",
       "  'Population': 23098.0,\n",
       "  'Area': 396.3,\n",
       "  'GDP': 16000.0,\n",
       "  'Literacy': 97.8,\n",
       "  'Phones': 506.54},\n",
       " 'Brunei': {'Continent': 'Asia',\n",
       "  'Population': 379444.0,\n",
       "  'Area': 14944.2,\n",
       "  'GDP': 18600.0,\n",
       "  'Literacy': 93.9,\n",
       "  'Phones': 237.19},\n",
       " 'Bulgaria': {'Continent': 'Europe',\n",
       "  'Population': 7385367.0,\n",
       "  'Area': 287255.8,\n",
       "  'GDP': 7600.0,\n",
       "  'Literacy': 98.6,\n",
       "  'Phones': 336.27},\n",
       " 'Burkina Faso': {'Continent': 'Africa',\n",
       "  'Population': 13902972.0,\n",
       "  'Area': 710175.3,\n",
       "  'GDP': 1100.0,\n",
       "  'Literacy': 26.6,\n",
       "  'Phones': 7.01},\n",
       " 'Burma': {'Continent': 'Asia',\n",
       "  'Population': 47382633.0,\n",
       "  'Area': 1757308.2,\n",
       "  'GDP': 1800.0,\n",
       "  'Literacy': 85.3,\n",
       "  'Phones': 10.05},\n",
       " 'Burundi': {'Continent': 'Africa',\n",
       "  'Population': 8090068.0,\n",
       "  'Area': 72079.4,\n",
       "  'GDP': 600.0,\n",
       "  'Literacy': 51.6,\n",
       "  'Phones': 3.42},\n",
       " 'Cambodia': {'Continent': 'Asia',\n",
       "  'Population': 13881427.0,\n",
       "  'Area': 468891.8,\n",
       "  'GDP': 1900.0,\n",
       "  'Literacy': 69.4,\n",
       "  'Phones': 2.62},\n",
       " 'Cameroon': {'Continent': 'Africa',\n",
       "  'Population': 17340702.0,\n",
       "  'Area': 1231384.8,\n",
       "  'GDP': 1800.0,\n",
       "  'Literacy': 79.0,\n",
       "  'Phones': 5.73},\n",
       " 'Canada': {'Continent': 'America',\n",
       "  'Population': 33098932.0,\n",
       "  'Area': 25860195.5,\n",
       "  'GDP': 29800.0,\n",
       "  'Literacy': 97.0,\n",
       "  'Phones': 552.16},\n",
       " 'Cape Verde': {'Continent': 'Africa',\n",
       "  'Population': 420979.0,\n",
       "  'Area': 10445.4,\n",
       "  'GDP': 1400.0,\n",
       "  'Literacy': 76.6,\n",
       "  'Phones': 169.6},\n",
       " 'Cayman Islands': {'Continent': 'America',\n",
       "  'Population': 45436.0,\n",
       "  'Area': 678.6,\n",
       "  'GDP': 35000.0,\n",
       "  'Literacy': 98.0,\n",
       "  'Phones': 836.34},\n",
       " 'Central African Rep.': {'Continent': 'Africa',\n",
       "  'Population': 4303356.0,\n",
       "  'Area': 1613522.3,\n",
       "  'GDP': 1100.0,\n",
       "  'Literacy': 51.0,\n",
       "  'Phones': 2.32},\n",
       " 'Chad': {'Continent': 'Africa',\n",
       "  'Population': 9944201.0,\n",
       "  'Area': 3325547.2,\n",
       "  'GDP': 1200.0,\n",
       "  'Literacy': 47.5,\n",
       "  'Phones': 1.31},\n",
       " 'Chile': {'Continent': 'America',\n",
       "  'Population': 16134219.0,\n",
       "  'Area': 1960492.9,\n",
       "  'GDP': 9900.0,\n",
       "  'Literacy': 96.2,\n",
       "  'Phones': 212.96},\n",
       " 'China': {'Continent': 'Asia',\n",
       "  'Population': 1313973713.0,\n",
       "  'Area': 24856030.4,\n",
       "  'GDP': 5000.0,\n",
       "  'Literacy': 90.9,\n",
       "  'Phones': 266.7},\n",
       " 'Colombia': {'Continent': 'America',\n",
       "  'Population': 43593035.0,\n",
       "  'Area': 2949765.5,\n",
       "  'GDP': 6300.0,\n",
       "  'Literacy': 92.5,\n",
       "  'Phones': 176.15},\n",
       " 'Comoros': {'Continent': 'Africa',\n",
       "  'Population': 690948.0,\n",
       "  'Area': 5620.3,\n",
       "  'GDP': 700.0,\n",
       "  'Literacy': 56.5,\n",
       "  'Phones': 24.46},\n",
       " 'Congo, Dem. Rep.': {'Continent': 'Africa',\n",
       "  'Population': 62660551.0,\n",
       "  'Area': 6074588.4,\n",
       "  'GDP': 700.0,\n",
       "  'Literacy': 65.5,\n",
       "  'Phones': 0.17},\n",
       " 'Congo, Repub. of the': {'Continent': 'Africa',\n",
       "  'Population': 3702314.0,\n",
       "  'Area': 885776.6,\n",
       "  'GDP': 700.0,\n",
       "  'Literacy': 83.8,\n",
       "  'Phones': 3.73},\n",
       " 'Cook Islands': {'Continent': 'Oceania',\n",
       "  'Population': 21388.0,\n",
       "  'Area': 621.6,\n",
       "  'GDP': 5000.0,\n",
       "  'Literacy': 95.0,\n",
       "  'Phones': 289.88},\n",
       " 'Costa Rica': {'Continent': 'America',\n",
       "  'Population': 4075261.0,\n",
       "  'Area': 132348.5,\n",
       "  'GDP': 9100.0,\n",
       "  'Literacy': 96.0,\n",
       "  'Phones': 340.71},\n",
       " \"Cote d'Ivoire\": {'Continent': 'Africa',\n",
       "  'Population': 17654843.0,\n",
       "  'Area': 835168.2,\n",
       "  'GDP': 1400.0,\n",
       "  'Literacy': 50.9,\n",
       "  'Phones': 14.61},\n",
       " 'Croatia': {'Continent': 'Europe',\n",
       "  'Population': 4494749.0,\n",
       "  'Area': 146443.2,\n",
       "  'GDP': 10600.0,\n",
       "  'Literacy': 98.5,\n",
       "  'Phones': 420.38},\n",
       " 'Cuba': {'Continent': 'America',\n",
       "  'Population': 11382820.0,\n",
       "  'Area': 287126.3,\n",
       "  'GDP': 2900.0,\n",
       "  'Literacy': 97.0,\n",
       "  'Phones': 74.67},\n",
       " 'Czech Republic': {'Continent': 'Europe',\n",
       "  'Population': 10235455.0,\n",
       "  'Area': 204262.2,\n",
       "  'GDP': 15700.0,\n",
       "  'Literacy': 99.9,\n",
       "  'Phones': 314.33},\n",
       " 'Denmark': {'Continent': 'Europe',\n",
       "  'Population': 5450661.0,\n",
       "  'Area': 111613.0,\n",
       "  'GDP': 31100.0,\n",
       "  'Literacy': 100.0,\n",
       "  'Phones': 614.6},\n",
       " 'Djibouti': {'Continent': 'Africa',\n",
       "  'Population': 486530.0,\n",
       "  'Area': 59569.8,\n",
       "  'GDP': 1300.0,\n",
       "  'Literacy': 67.9,\n",
       "  'Phones': 22.81},\n",
       " 'Dominica': {'Continent': 'America',\n",
       "  'Population': 68910.0,\n",
       "  'Area': 1952.9,\n",
       "  'GDP': 5400.0,\n",
       "  'Literacy': 94.0,\n",
       "  'Phones': 304.75},\n",
       " 'Dominican Republic': {'Continent': 'America',\n",
       "  'Population': 9183984.0,\n",
       "  'Area': 126210.2,\n",
       "  'GDP': 6000.0,\n",
       "  'Literacy': 84.7,\n",
       "  'Phones': 97.4},\n",
       " 'Ecuador': {'Continent': 'America',\n",
       "  'Population': 13547510.0,\n",
       "  'Area': 734417.6,\n",
       "  'GDP': 3300.0,\n",
       "  'Literacy': 92.5,\n",
       "  'Phones': 125.6},\n",
       " 'Egypt': {'Continent': 'Africa',\n",
       "  'Population': 78887007.0,\n",
       "  'Area': 2593745.5,\n",
       "  'GDP': 4000.0,\n",
       "  'Literacy': 57.7,\n",
       "  'Phones': 131.78},\n",
       " 'El Salvador': {'Continent': 'America',\n",
       "  'Population': 6822378.0,\n",
       "  'Area': 54493.4,\n",
       "  'GDP': 4800.0,\n",
       "  'Literacy': 80.2,\n",
       "  'Phones': 142.4},\n",
       " 'Equatorial Guinea': {'Continent': 'Africa',\n",
       "  'Population': 540109.0,\n",
       "  'Area': 72651.8,\n",
       "  'GDP': 2700.0,\n",
       "  'Literacy': 85.7,\n",
       "  'Phones': 18.51},\n",
       " 'Eritrea': {'Continent': 'Africa',\n",
       "  'Population': 4786994.0,\n",
       "  'Area': 314217.6,\n",
       "  'GDP': 700.0,\n",
       "  'Literacy': 58.6,\n",
       "  'Phones': 7.88},\n",
       " 'Estonia': {'Continent': 'Europe',\n",
       "  'Population': 1324333.0,\n",
       "  'Area': 117134.9,\n",
       "  'GDP': 12300.0,\n",
       "  'Literacy': 99.8,\n",
       "  'Phones': 333.75},\n",
       " 'Ethiopia': {'Continent': 'Africa',\n",
       "  'Population': 74777981.0,\n",
       "  'Area': 2919247.7,\n",
       "  'GDP': 700.0,\n",
       "  'Literacy': 42.7,\n",
       "  'Phones': 8.16},\n",
       " 'Fiji': {'Continent': 'Oceania',\n",
       "  'Population': 905949.0,\n",
       "  'Area': 47319.1,\n",
       "  'GDP': 5800.0,\n",
       "  'Literacy': 93.7,\n",
       "  'Phones': 112.59},\n",
       " 'Finland': {'Continent': 'Europe',\n",
       "  'Population': 5231372.0,\n",
       "  'Area': 875792.2,\n",
       "  'GDP': 27400.0,\n",
       "  'Literacy': 100.0,\n",
       "  'Phones': 405.25},\n",
       " 'France': {'Continent': 'Europe',\n",
       "  'Population': 60876136.0,\n",
       "  'Area': 1416802.2,\n",
       "  'GDP': 27600.0,\n",
       "  'Literacy': 99.0,\n",
       "  'Phones': 586.44},\n",
       " 'French Guiana': {'Continent': 'America',\n",
       "  'Population': 199509.0,\n",
       "  'Area': 235689.1,\n",
       "  'GDP': 8300.0,\n",
       "  'Literacy': 83.0,\n",
       "  'Phones': 255.63},\n",
       " 'French Polynesia': {'Continent': 'Oceania',\n",
       "  'Population': 274578.0,\n",
       "  'Area': 10792.5,\n",
       "  'GDP': 17500.0,\n",
       "  'Literacy': 98.0,\n",
       "  'Phones': 194.48},\n",
       " 'Gabon': {'Continent': 'Africa',\n",
       "  'Population': 1424906.0,\n",
       "  'Area': 693254.9,\n",
       "  'GDP': 5500.0,\n",
       "  'Literacy': 63.2,\n",
       "  'Phones': 27.44},\n",
       " 'Gambia, The': {'Continent': 'Africa',\n",
       "  'Population': 1641564.0,\n",
       "  'Area': 29266.9,\n",
       "  'GDP': 1700.0,\n",
       "  'Literacy': 40.1,\n",
       "  'Phones': 26.8},\n",
       " 'Germany': {'Continent': 'Europe',\n",
       "  'Population': 82422299.0,\n",
       "  'Area': 924680.8,\n",
       "  'GDP': 27600.0,\n",
       "  'Literacy': 99.0,\n",
       "  'Phones': 667.85},\n",
       " 'Ghana': {'Continent': 'Africa',\n",
       "  'Population': 22409572.0,\n",
       "  'Area': 620199.0,\n",
       "  'GDP': 2200.0,\n",
       "  'Literacy': 74.8,\n",
       "  'Phones': 14.35},\n",
       " 'Greece': {'Continent': 'Europe',\n",
       "  'Population': 10688058.0,\n",
       "  'Area': 341723.3,\n",
       "  'GDP': 20000.0,\n",
       "  'Literacy': 97.5,\n",
       "  'Phones': 589.72},\n",
       " 'Grenada': {'Continent': 'America',\n",
       "  'Population': 89703.0,\n",
       "  'Area': 891.0,\n",
       "  'GDP': 5000.0,\n",
       "  'Literacy': 98.0,\n",
       "  'Phones': 364.54},\n",
       " 'Guadeloupe': {'Continent': 'America',\n",
       "  'Population': 452776.0,\n",
       "  'Area': 4610.2,\n",
       "  'GDP': 8000.0,\n",
       "  'Literacy': 90.0,\n",
       "  'Phones': 463.81},\n",
       " 'Guam': {'Continent': 'Oceania',\n",
       "  'Population': 171019.0,\n",
       "  'Area': 1401.2,\n",
       "  'GDP': 21000.0,\n",
       "  'Literacy': 99.0,\n",
       "  'Phones': 491.96},\n",
       " 'Guatemala': {'Continent': 'America',\n",
       "  'Population': 12293545.0,\n",
       "  'Area': 282024.0,\n",
       "  'GDP': 4100.0,\n",
       "  'Literacy': 70.6,\n",
       "  'Phones': 92.09},\n",
       " 'Guinea': {'Continent': 'Africa',\n",
       "  'Population': 9690222.0,\n",
       "  'Area': 636767.2,\n",
       "  'GDP': 2100.0,\n",
       "  'Literacy': 35.9,\n",
       "  'Phones': 2.7},\n",
       " 'Guinea-Bissau': {'Continent': 'Africa',\n",
       "  'Population': 1442029.0,\n",
       "  'Area': 93550.4,\n",
       "  'GDP': 800.0,\n",
       "  'Literacy': 42.4,\n",
       "  'Phones': 7.35},\n",
       " 'Guyana': {'Continent': 'America',\n",
       "  'Population': 767245.0,\n",
       "  'Area': 556770.2,\n",
       "  'GDP': 4000.0,\n",
       "  'Literacy': 98.8,\n",
       "  'Phones': 143.5},\n",
       " 'Haiti': {'Continent': 'America',\n",
       "  'Population': 8308504.0,\n",
       "  'Area': 71872.2,\n",
       "  'GDP': 1600.0,\n",
       "  'Literacy': 52.9,\n",
       "  'Phones': 16.85},\n",
       " 'Honduras': {'Continent': 'America',\n",
       "  'Population': 7326496.0,\n",
       "  'Area': 290312.0,\n",
       "  'GDP': 2600.0,\n",
       "  'Literacy': 76.2,\n",
       "  'Phones': 67.48},\n",
       " 'Hong Kong': {'Continent': 'Asia',\n",
       "  'Population': 6940432.0,\n",
       "  'Area': 2828.3,\n",
       "  'GDP': 28800.0,\n",
       "  'Literacy': 93.5,\n",
       "  'Phones': 546.74},\n",
       " 'Hungary': {'Continent': 'Europe',\n",
       "  'Population': 9981334.0,\n",
       "  'Area': 240946.8,\n",
       "  'GDP': 13900.0,\n",
       "  'Literacy': 99.4,\n",
       "  'Phones': 336.23},\n",
       " 'Iceland': {'Continent': 'Europe',\n",
       "  'Population': 299388.0,\n",
       "  'Area': 266769.0,\n",
       "  'GDP': 30900.0,\n",
       "  'Literacy': 99.9,\n",
       "  'Phones': 647.65},\n",
       " 'India': {'Continent': 'Asia',\n",
       "  'Population': 1095351995.0,\n",
       "  'Area': 8514825.2,\n",
       "  'GDP': 2900.0,\n",
       "  'Literacy': 59.5,\n",
       "  'Phones': 45.42},\n",
       " 'Indonesia': {'Continent': 'Asia',\n",
       "  'Population': 245452739.0,\n",
       "  'Area': 4971330.4,\n",
       "  'GDP': 3200.0,\n",
       "  'Literacy': 87.9,\n",
       "  'Phones': 52.03},\n",
       " 'Iran': {'Continent': 'Asia',\n",
       "  'Population': 68688433.0,\n",
       "  'Area': 4268303.5,\n",
       "  'GDP': 7000.0,\n",
       "  'Literacy': 79.4,\n",
       "  'Phones': 276.41},\n",
       " 'Iraq': {'Continent': 'Asia',\n",
       "  'Population': 26783383.0,\n",
       "  'Area': 1132012.1,\n",
       "  'GDP': 1500.0,\n",
       "  'Literacy': 40.4,\n",
       "  'Phones': 38.61},\n",
       " 'Ireland': {'Continent': 'Europe',\n",
       "  'Population': 4062235.0,\n",
       "  'Area': 182024.5,\n",
       "  'GDP': 29600.0,\n",
       "  'Literacy': 98.0,\n",
       "  'Phones': 500.46},\n",
       " 'Israel': {'Continent': 'Asia',\n",
       "  'Population': 6352117.0,\n",
       "  'Area': 53794.1,\n",
       "  'GDP': 19800.0,\n",
       "  'Literacy': 95.4,\n",
       "  'Phones': 462.26},\n",
       " 'Italy': {'Continent': 'Europe',\n",
       "  'Population': 58133509.0,\n",
       "  'Area': 780182.7,\n",
       "  'GDP': 26700.0,\n",
       "  'Literacy': 98.6,\n",
       "  'Phones': 430.89},\n",
       " 'Jamaica': {'Continent': 'America',\n",
       "  'Population': 2758124.0,\n",
       "  'Area': 28466.6,\n",
       "  'GDP': 3900.0,\n",
       "  'Literacy': 87.9,\n",
       "  'Phones': 124.0},\n",
       " 'Japan': {'Continent': 'Asia',\n",
       "  'Population': 127463611.0,\n",
       "  'Area': 978588.9,\n",
       "  'GDP': 28200.0,\n",
       "  'Literacy': 99.0,\n",
       "  'Phones': 461.15},\n",
       " 'Jordan': {'Continent': 'Asia',\n",
       "  'Population': 5906760.0,\n",
       "  'Area': 239056.1,\n",
       "  'GDP': 4300.0,\n",
       "  'Literacy': 91.3,\n",
       "  'Phones': 104.51},\n",
       " 'Kenya': {'Continent': 'Africa',\n",
       "  'Population': 34707817.0,\n",
       "  'Area': 1509057.7,\n",
       "  'GDP': 1000.0,\n",
       "  'Literacy': 85.1,\n",
       "  'Phones': 8.12},\n",
       " 'Korea, North': {'Continent': 'Asia',\n",
       "  'Population': 23113019.0,\n",
       "  'Area': 312197.4,\n",
       "  'GDP': 1300.0,\n",
       "  'Literacy': 99.0,\n",
       "  'Phones': 42.4},\n",
       " 'Korea, South': {'Continent': 'Asia',\n",
       "  'Population': 48846823.0,\n",
       "  'Area': 255062.2,\n",
       "  'GDP': 17800.0,\n",
       "  'Literacy': 97.9,\n",
       "  'Phones': 486.11},\n",
       " 'Kuwait': {'Continent': 'Asia',\n",
       "  'Population': 2418393.0,\n",
       "  'Area': 46153.6,\n",
       "  'GDP': 19000.0,\n",
       "  'Literacy': 83.5,\n",
       "  'Phones': 211.01},\n",
       " 'Laos': {'Continent': 'Asia',\n",
       "  'Population': 6368481.0,\n",
       "  'Area': 613309.6,\n",
       "  'GDP': 1700.0,\n",
       "  'Literacy': 66.4,\n",
       "  'Phones': 14.14},\n",
       " 'Latvia': {'Continent': 'Europe',\n",
       "  'Population': 2274735.0,\n",
       "  'Area': 167284.9,\n",
       "  'GDP': 10200.0,\n",
       "  'Literacy': 99.8,\n",
       "  'Phones': 321.36},\n",
       " 'Lebanon': {'Continent': 'Asia',\n",
       "  'Population': 3874050.0,\n",
       "  'Area': 26935.9,\n",
       "  'GDP': 4800.0,\n",
       "  'Literacy': 87.4,\n",
       "  'Phones': 255.55},\n",
       " 'Lesotho': {'Continent': 'Africa',\n",
       "  'Population': 2022331.0,\n",
       "  'Area': 78619.1,\n",
       "  'GDP': 3000.0,\n",
       "  'Literacy': 84.8,\n",
       "  'Phones': 23.73},\n",
       " 'Liberia': {'Continent': 'Africa',\n",
       "  'Population': 3042004.0,\n",
       "  'Area': 288447.2,\n",
       "  'GDP': 1000.0,\n",
       "  'Literacy': 57.5,\n",
       "  'Phones': 2.27},\n",
       " 'Libya': {'Continent': 'Africa',\n",
       "  'Population': 5900754.0,\n",
       "  'Area': 4557191.0,\n",
       "  'GDP': 6400.0,\n",
       "  'Literacy': 82.6,\n",
       "  'Phones': 127.1},\n",
       " 'Liechtenstein': {'Continent': 'Europe',\n",
       "  'Population': 33987.0,\n",
       "  'Area': 414.4,\n",
       "  'GDP': 25000.0,\n",
       "  'Literacy': 100.0,\n",
       "  'Phones': 585.52},\n",
       " 'Lithuania': {'Continent': 'Europe',\n",
       "  'Population': 3585906.0,\n",
       "  'Area': 168867.3,\n",
       "  'GDP': 11400.0,\n",
       "  'Literacy': 99.6,\n",
       "  'Phones': 223.4},\n",
       " 'Luxembourg': {'Continent': 'Europe',\n",
       "  'Population': 474413.0,\n",
       "  'Area': 6697.7,\n",
       "  'GDP': 55100.0,\n",
       "  'Literacy': 100.0,\n",
       "  'Phones': 515.37},\n",
       " 'Macau': {'Continent': 'Asia',\n",
       "  'Population': 453125.0,\n",
       "  'Area': 72.5,\n",
       "  'GDP': 19400.0,\n",
       "  'Literacy': 94.5,\n",
       "  'Phones': 384.88},\n",
       " 'Madagascar': {'Continent': 'Africa',\n",
       "  'Population': 18595469.0,\n",
       "  'Area': 1520427.7,\n",
       "  'GDP': 800.0,\n",
       "  'Literacy': 68.9,\n",
       "  'Phones': 3.6},\n",
       " 'Malawi': {'Continent': 'Africa',\n",
       "  'Population': 13013926.0,\n",
       "  'Area': 306862.0,\n",
       "  'GDP': 600.0,\n",
       "  'Literacy': 62.7,\n",
       "  'Phones': 7.89},\n",
       " 'Malaysia': {'Continent': 'Asia',\n",
       "  'Population': 24385858.0,\n",
       "  'Area': 854049.2,\n",
       "  'GDP': 9000.0,\n",
       "  'Literacy': 88.7,\n",
       "  'Phones': 179.04},\n",
       " 'Maldives': {'Continent': 'Asia',\n",
       "  'Population': 359008.0,\n",
       "  'Area': 777.0,\n",
       "  'GDP': 3900.0,\n",
       "  'Literacy': 97.2,\n",
       "  'Phones': 89.97},\n",
       " 'Mali': {'Continent': 'Africa',\n",
       "  'Population': 11716829.0,\n",
       "  'Area': 3211587.6,\n",
       "  'GDP': 900.0,\n",
       "  'Literacy': 46.4,\n",
       "  'Phones': 6.4},\n",
       " 'Malta': {'Continent': 'Europe',\n",
       "  'Population': 400214.0,\n",
       "  'Area': 818.4,\n",
       "  'GDP': 17700.0,\n",
       "  'Literacy': 92.8,\n",
       "  'Phones': 504.98},\n",
       " 'Marshall Islands': {'Continent': 'Oceania',\n",
       "  'Population': 60422.0,\n",
       "  'Area': 30701.7,\n",
       "  'GDP': 1600.0,\n",
       "  'Literacy': 93.7,\n",
       "  'Phones': 91.19},\n",
       " 'Martinique': {'Continent': 'America',\n",
       "  'Population': 436131.0,\n",
       "  'Area': 2849.0,\n",
       "  'GDP': 14400.0,\n",
       "  'Literacy': 97.7,\n",
       "  'Phones': 394.38},\n",
       " 'Mauritania': {'Continent': 'Africa',\n",
       "  'Population': 3177388.0,\n",
       "  'Area': 2669502.7,\n",
       "  'GDP': 1800.0,\n",
       "  'Literacy': 41.7,\n",
       "  'Phones': 12.9},\n",
       " 'Mauritius': {'Continent': 'Africa',\n",
       "  'Population': 1240827.0,\n",
       "  'Area': 5283.6,\n",
       "  'GDP': 11400.0,\n",
       "  'Literacy': 85.6,\n",
       "  'Phones': 289.32},\n",
       " 'Mexico': {'Continent': 'America',\n",
       "  'Population': 107449525.0,\n",
       "  'Area': 5108884.8,\n",
       "  'GDP': 9000.0,\n",
       "  'Literacy': 92.2,\n",
       "  'Phones': 181.59},\n",
       " 'Micronesia, Fed. St.': {'Continent': 'Oceania',\n",
       "  'Population': 108004.0,\n",
       "  'Area': 1818.2,\n",
       "  'GDP': 2000.0,\n",
       "  'Literacy': 89.0,\n",
       "  'Phones': 114.81},\n",
       " 'Monaco': {'Continent': 'Europe',\n",
       "  'Population': 32543.0,\n",
       "  'Area': 5.2,\n",
       "  'GDP': 27000.0,\n",
       "  'Literacy': 99.0,\n",
       "  'Phones': 1035.55},\n",
       " 'Mongolia': {'Continent': 'Asia',\n",
       "  'Population': 2832224.0,\n",
       "  'Area': 4051044.8,\n",
       "  'GDP': 1800.0,\n",
       "  'Literacy': 97.8,\n",
       "  'Phones': 55.08},\n",
       " 'Morocco': {'Continent': 'Africa',\n",
       "  'Population': 33241259.0,\n",
       "  'Area': 1156560.0,\n",
       "  'GDP': 4000.0,\n",
       "  'Literacy': 51.7,\n",
       "  'Phones': 40.35},\n",
       " 'Mozambique': {'Continent': 'Africa',\n",
       "  'Population': 19686505.0,\n",
       "  'Area': 2076110.1,\n",
       "  'GDP': 1200.0,\n",
       "  'Literacy': 47.8,\n",
       "  'Phones': 3.54},\n",
       " 'Namibia': {'Continent': 'Africa',\n",
       "  'Population': 2044147.0,\n",
       "  'Area': 2137824.4,\n",
       "  'GDP': 7200.0,\n",
       "  'Literacy': 84.0,\n",
       "  'Phones': 62.57},\n",
       " 'Nepal': {'Continent': 'Asia',\n",
       "  'Population': 28287147.0,\n",
       "  'Area': 381197.3,\n",
       "  'GDP': 1400.0,\n",
       "  'Literacy': 45.2,\n",
       "  'Phones': 15.86},\n",
       " 'Netherlands': {'Continent': 'Europe',\n",
       "  'Population': 16491461.0,\n",
       "  'Area': 107551.9,\n",
       "  'GDP': 28600.0,\n",
       "  'Literacy': 99.0,\n",
       "  'Phones': 460.84},\n",
       " 'Netherlands Antilles': {'Continent': 'America',\n",
       "  'Population': 221736.0,\n",
       "  'Area': 2486.4,\n",
       "  'GDP': 11400.0,\n",
       "  'Literacy': 96.7,\n",
       "  'Phones': 365.3},\n",
       " 'New Caledonia': {'Continent': 'Oceania',\n",
       "  'Population': 219246.0,\n",
       "  'Area': 49365.2,\n",
       "  'GDP': 15000.0,\n",
       "  'Literacy': 91.0,\n",
       "  'Phones': 252.23},\n",
       " 'New Zealand': {'Continent': 'Oceania',\n",
       "  'Population': 4076140.0,\n",
       "  'Area': 695878.5,\n",
       "  'GDP': 21600.0,\n",
       "  'Literacy': 99.0,\n",
       "  'Phones': 441.72},\n",
       " 'Nicaragua': {'Continent': 'America',\n",
       "  'Population': 5570129.0,\n",
       "  'Area': 335388.2,\n",
       "  'GDP': 2300.0,\n",
       "  'Literacy': 67.5,\n",
       "  'Phones': 39.66},\n",
       " 'Niger': {'Continent': 'Africa',\n",
       "  'Population': 12525094.0,\n",
       "  'Area': 3281517.3,\n",
       "  'GDP': 800.0,\n",
       "  'Literacy': 17.6,\n",
       "  'Phones': 1.92},\n",
       " 'Nigeria': {'Continent': 'Africa',\n",
       "  'Population': 131859731.0,\n",
       "  'Area': 2392549.9,\n",
       "  'GDP': 900.0,\n",
       "  'Literacy': 68.0,\n",
       "  'Phones': 9.28},\n",
       " 'N. Mariana Islands': {'Continent': 'Oceania',\n",
       "  'Population': 82459.0,\n",
       "  'Area': 1235.4,\n",
       "  'GDP': 12500.0,\n",
       "  'Literacy': 97.0,\n",
       "  'Phones': 254.67},\n",
       " 'Norway': {'Continent': 'Europe',\n",
       "  'Population': 4610820.0,\n",
       "  'Area': 838643.9,\n",
       "  'GDP': 37800.0,\n",
       "  'Literacy': 100.0,\n",
       "  'Phones': 461.74},\n",
       " 'Oman': {'Continent': 'Asia',\n",
       "  'Population': 3102229.0,\n",
       "  'Area': 550269.3,\n",
       "  'GDP': 13100.0,\n",
       "  'Literacy': 75.8,\n",
       "  'Phones': 85.49},\n",
       " 'Pakistan': {'Continent': 'Asia',\n",
       "  'Population': 165803560.0,\n",
       "  'Area': 2082196.6,\n",
       "  'GDP': 2100.0,\n",
       "  'Literacy': 45.7,\n",
       "  'Phones': 31.83},\n",
       " 'Palau': {'Continent': 'Oceania',\n",
       "  'Population': 20579.0,\n",
       "  'Area': 1186.2,\n",
       "  'GDP': 9000.0,\n",
       "  'Literacy': 92.0,\n",
       "  'Phones': 325.57},\n",
       " 'Panama': {'Continent': 'America',\n",
       "  'Population': 3191319.0,\n",
       "  'Area': 202537.2,\n",
       "  'GDP': 6300.0,\n",
       "  'Literacy': 92.6,\n",
       "  'Phones': 137.91},\n",
       " 'Papua New Guinea': {'Continent': 'Oceania',\n",
       "  'Population': 5670544.0,\n",
       "  'Area': 1198751.0,\n",
       "  'GDP': 2200.0,\n",
       "  'Literacy': 64.6,\n",
       "  'Phones': 10.93},\n",
       " 'Paraguay': {'Continent': 'America',\n",
       "  'Population': 6506464.0,\n",
       "  'Area': 1053478.4,\n",
       "  'GDP': 4700.0,\n",
       "  'Literacy': 94.0,\n",
       "  'Phones': 49.23},\n",
       " 'Peru': {'Continent': 'America',\n",
       "  'Population': 28302603.0,\n",
       "  'Area': 3328706.9,\n",
       "  'GDP': 5100.0,\n",
       "  'Literacy': 90.9,\n",
       "  'Phones': 79.52},\n",
       " 'Philippines': {'Continent': 'Asia',\n",
       "  'Population': 89468677.0,\n",
       "  'Area': 776997.0,\n",
       "  'GDP': 4600.0,\n",
       "  'Literacy': 92.6,\n",
       "  'Phones': 38.42},\n",
       " 'Poland': {'Continent': 'Europe',\n",
       "  'Population': 38536869.0,\n",
       "  'Area': 809851.0,\n",
       "  'GDP': 11100.0,\n",
       "  'Literacy': 99.8,\n",
       "  'Phones': 306.28},\n",
       " 'Portugal': {'Continent': 'Europe',\n",
       "  'Population': 10605870.0,\n",
       "  'Area': 239291.8,\n",
       "  'GDP': 18000.0,\n",
       "  'Literacy': 93.3,\n",
       "  'Phones': 399.21},\n",
       " 'Puerto Rico': {'Continent': 'America',\n",
       "  'Population': 3927188.0,\n",
       "  'Area': 35716.0,\n",
       "  'GDP': 16800.0,\n",
       "  'Literacy': 94.1,\n",
       "  'Phones': 283.13},\n",
       " 'Qatar': {'Continent': 'Asia',\n",
       "  'Population': 885359.0,\n",
       "  'Area': 29621.7,\n",
       "  'GDP': 21500.0,\n",
       "  'Literacy': 82.5,\n",
       "  'Phones': 232.0},\n",
       " 'Reunion': {'Continent': 'Africa',\n",
       "  'Population': 787584.0,\n",
       "  'Area': 6519.0,\n",
       "  'GDP': 5800.0,\n",
       "  'Literacy': 88.9,\n",
       "  'Phones': 380.91},\n",
       " 'Romania': {'Continent': 'Europe',\n",
       "  'Population': 22303552.0,\n",
       "  'Area': 615122.6,\n",
       "  'GDP': 7000.0,\n",
       "  'Literacy': 98.4,\n",
       "  'Phones': 196.87},\n",
       " 'Rwanda': {'Continent': 'Africa',\n",
       "  'Population': 8648248.0,\n",
       "  'Area': 68215.2,\n",
       "  'GDP': 1300.0,\n",
       "  'Literacy': 70.4,\n",
       "  'Phones': 2.66},\n",
       " 'Saint Helena': {'Continent': 'Africa',\n",
       "  'Population': 7502.0,\n",
       "  'Area': 1069.7,\n",
       "  'GDP': 2500.0,\n",
       "  'Literacy': 97.0,\n",
       "  'Phones': 293.26},\n",
       " 'Saint Kitts & Nevis': {'Continent': 'America',\n",
       "  'Population': 39129.0,\n",
       "  'Area': 676.0,\n",
       "  'GDP': 8800.0,\n",
       "  'Literacy': 97.0,\n",
       "  'Phones': 638.91},\n",
       " 'Saint Lucia': {'Continent': 'America',\n",
       "  'Population': 168458.0,\n",
       "  'Area': 1595.4,\n",
       "  'GDP': 5400.0,\n",
       "  'Literacy': 67.0,\n",
       "  'Phones': 303.34},\n",
       " 'St Pierre & Miquelon': {'Continent': 'America',\n",
       "  'Population': 7026.0,\n",
       "  'Area': 626.8,\n",
       "  'GDP': 6900.0,\n",
       "  'Literacy': 99.0,\n",
       "  'Phones': 683.18},\n",
       " 'Saint Vincent and the Grenadines': {'Continent': 'America',\n",
       "  'Population': 117848.0,\n",
       "  'Area': 1007.5,\n",
       "  'GDP': 2900.0,\n",
       "  'Literacy': 96.0,\n",
       "  'Phones': 190.92},\n",
       " 'Samoa': {'Continent': 'Oceania',\n",
       "  'Population': 176908.0,\n",
       "  'Area': 7624.9,\n",
       "  'GDP': 5600.0,\n",
       "  'Literacy': 99.7,\n",
       "  'Phones': 75.18},\n",
       " 'San Marino': {'Continent': 'Europe',\n",
       "  'Population': 29251.0,\n",
       "  'Area': 158.0,\n",
       "  'GDP': 34600.0,\n",
       "  'Literacy': 96.0,\n",
       "  'Phones': 704.25},\n",
       " 'Sao Tome & Principe': {'Continent': 'Africa',\n",
       "  'Population': 193413.0,\n",
       "  'Area': 2592.6,\n",
       "  'GDP': 1200.0,\n",
       "  'Literacy': 79.3,\n",
       "  'Phones': 36.19},\n",
       " 'Saudi Arabia': {'Continent': 'Asia',\n",
       "  'Population': 27019731.0,\n",
       "  'Area': 5077887.8,\n",
       "  'GDP': 11800.0,\n",
       "  'Literacy': 78.8,\n",
       "  'Phones': 140.64},\n",
       " 'Senegal': {'Continent': 'Africa',\n",
       "  'Population': 11987121.0,\n",
       "  'Area': 508130.1,\n",
       "  'GDP': 1600.0,\n",
       "  'Literacy': 40.2,\n",
       "  'Phones': 22.24},\n",
       " 'Serbia': {'Continent': 'Europe',\n",
       "  'Population': 9396411.0,\n",
       "  'Area': 228854.1,\n",
       "  'GDP': 2200.0,\n",
       "  'Literacy': 93.0,\n",
       "  'Phones': 285.79},\n",
       " 'Seychelles': {'Continent': 'Africa',\n",
       "  'Population': 81541.0,\n",
       "  'Area': 1178.4,\n",
       "  'GDP': 7800.0,\n",
       "  'Literacy': 58.0,\n",
       "  'Phones': 262.44},\n",
       " 'Sierra Leone': {'Continent': 'Africa',\n",
       "  'Population': 6005250.0,\n",
       "  'Area': 185805.9,\n",
       "  'GDP': 500.0,\n",
       "  'Literacy': 31.4,\n",
       "  'Phones': 4.0},\n",
       " 'Singapore': {'Continent': 'Asia',\n",
       "  'Population': 4492150.0,\n",
       "  'Area': 1794.9,\n",
       "  'GDP': 23700.0,\n",
       "  'Literacy': 92.5,\n",
       "  'Phones': 411.38},\n",
       " 'Slovenia': {'Continent': 'Europe',\n",
       "  'Population': 2010347.0,\n",
       "  'Area': 52506.9,\n",
       "  'GDP': 19000.0,\n",
       "  'Literacy': 99.7,\n",
       "  'Phones': 406.1},\n",
       " 'Somalia': {'Continent': 'Africa',\n",
       "  'Population': 8863338.0,\n",
       "  'Area': 1651525.3,\n",
       "  'GDP': 500.0,\n",
       "  'Literacy': 37.8,\n",
       "  'Phones': 11.28},\n",
       " 'South Africa': {'Continent': 'Africa',\n",
       "  'Population': 44187637.0,\n",
       "  'Area': 3159559.9,\n",
       "  'GDP': 10700.0,\n",
       "  'Literacy': 86.4,\n",
       "  'Phones': 107.02},\n",
       " 'Spain': {'Continent': 'Europe',\n",
       "  'Population': 40397842.0,\n",
       "  'Area': 1307380.3,\n",
       "  'GDP': 22000.0,\n",
       "  'Literacy': 97.9,\n",
       "  'Phones': 453.54},\n",
       " 'Sri Lanka': {'Continent': 'Asia',\n",
       "  'Population': 20222240.0,\n",
       "  'Area': 169929.2,\n",
       "  'GDP': 3700.0,\n",
       "  'Literacy': 92.3,\n",
       "  'Phones': 61.52},\n",
       " 'Sudan': {'Continent': 'Africa',\n",
       "  'Population': 41236378.0,\n",
       "  'Area': 6490022.8,\n",
       "  'GDP': 1900.0,\n",
       "  'Literacy': 61.1,\n",
       "  'Phones': 16.25},\n",
       " 'Suriname': {'Continent': 'America',\n",
       "  'Population': 439117.0,\n",
       "  'Area': 422867.7,\n",
       "  'GDP': 4000.0,\n",
       "  'Literacy': 93.0,\n",
       "  'Phones': 184.69},\n",
       " 'Swaziland': {'Continent': 'Africa',\n",
       "  'Population': 1136334.0,\n",
       "  'Area': 44970.0,\n",
       "  'GDP': 4900.0,\n",
       "  'Literacy': 81.6,\n",
       "  'Phones': 30.8},\n",
       " 'Sweden': {'Continent': 'Europe',\n",
       "  'Population': 9016596.0,\n",
       "  'Area': 1165402.3,\n",
       "  'GDP': 26800.0,\n",
       "  'Literacy': 99.0,\n",
       "  'Phones': 715.01},\n",
       " 'Switzerland': {'Continent': 'Europe',\n",
       "  'Population': 7523934.0,\n",
       "  'Area': 106940.7,\n",
       "  'GDP': 32700.0,\n",
       "  'Literacy': 99.0,\n",
       "  'Phones': 680.89},\n",
       " 'Syria': {'Continent': 'Asia',\n",
       "  'Population': 18881361.0,\n",
       "  'Area': 479614.3,\n",
       "  'GDP': 3300.0,\n",
       "  'Literacy': 76.9,\n",
       "  'Phones': 153.75},\n",
       " 'Taiwan': {'Continent': 'Asia',\n",
       "  'Population': 23036087.0,\n",
       "  'Area': 93187.8,\n",
       "  'GDP': 23400.0,\n",
       "  'Literacy': 96.1,\n",
       "  'Phones': 591.03},\n",
       " 'Tanzania': {'Continent': 'Africa',\n",
       "  'Population': 37445392.0,\n",
       "  'Area': 2447765.9,\n",
       "  'GDP': 600.0,\n",
       "  'Literacy': 78.2,\n",
       "  'Phones': 3.96},\n",
       " 'Thailand': {'Continent': 'Asia',\n",
       "  'Population': 64631595.0,\n",
       "  'Area': 1331254.9,\n",
       "  'GDP': 7400.0,\n",
       "  'Literacy': 92.6,\n",
       "  'Phones': 108.85},\n",
       " 'Togo': {'Continent': 'Africa',\n",
       "  'Population': 5548702.0,\n",
       "  'Area': 147072.6,\n",
       "  'GDP': 1500.0,\n",
       "  'Literacy': 60.9,\n",
       "  'Phones': 10.56},\n",
       " 'Tonga': {'Continent': 'Oceania',\n",
       "  'Population': 114689.0,\n",
       "  'Area': 1937.3,\n",
       "  'GDP': 2200.0,\n",
       "  'Literacy': 98.5,\n",
       "  'Phones': 97.66},\n",
       " 'Trinidad & Tobago': {'Continent': 'America',\n",
       "  'Population': 1065842.0,\n",
       "  'Area': 13281.5,\n",
       "  'GDP': 9500.0,\n",
       "  'Literacy': 98.6,\n",
       "  'Phones': 303.52},\n",
       " 'Tunisia': {'Continent': 'Africa',\n",
       "  'Population': 10175014.0,\n",
       "  'Area': 423748.3,\n",
       "  'GDP': 6900.0,\n",
       "  'Literacy': 74.2,\n",
       "  'Phones': 123.59},\n",
       " 'Turkey': {'Continent': 'Asia',\n",
       "  'Population': 70413958.0,\n",
       "  'Area': 2021694.4,\n",
       "  'GDP': 6700.0,\n",
       "  'Literacy': 86.5,\n",
       "  'Phones': 269.52},\n",
       " 'Turks & Caicos Is': {'Continent': 'America',\n",
       "  'Population': 21152.0,\n",
       "  'Area': 1113.7,\n",
       "  'GDP': 9600.0,\n",
       "  'Literacy': 98.0,\n",
       "  'Phones': 269.48},\n",
       " 'Uganda': {'Continent': 'Africa',\n",
       "  'Population': 28195754.0,\n",
       "  'Area': 611341.2,\n",
       "  'GDP': 1400.0,\n",
       "  'Literacy': 69.9,\n",
       "  'Phones': 3.58},\n",
       " 'United Arab Emirates': {'Continent': 'Asia',\n",
       "  'Population': 2602713.0,\n",
       "  'Area': 214658.4,\n",
       "  'GDP': 23200.0,\n",
       "  'Literacy': 77.9,\n",
       "  'Phones': 475.27},\n",
       " 'United Kingdom': {'Continent': 'Europe',\n",
       "  'Population': 60609153.0,\n",
       "  'Area': 634081.4,\n",
       "  'GDP': 27700.0,\n",
       "  'Literacy': 99.0,\n",
       "  'Phones': 543.53},\n",
       " 'United States': {'Continent': 'America',\n",
       "  'Population': 298444215.0,\n",
       "  'Area': 24945281.5,\n",
       "  'GDP': 37800.0,\n",
       "  'Literacy': 97.0,\n",
       "  'Phones': 897.99},\n",
       " 'Uruguay': {'Continent': 'America',\n",
       "  'Population': 3431932.0,\n",
       "  'Area': 456408.0,\n",
       "  'GDP': 12800.0,\n",
       "  'Literacy': 98.0,\n",
       "  'Phones': 291.38},\n",
       " 'Vanuatu': {'Continent': 'Oceania',\n",
       "  'Population': 208869.0,\n",
       "  'Area': 31597.9,\n",
       "  'GDP': 2900.0,\n",
       "  'Literacy': 53.0,\n",
       "  'Phones': 32.56},\n",
       " 'Venezuela': {'Continent': 'America',\n",
       "  'Population': 25730435.0,\n",
       "  'Area': 2362200.4,\n",
       "  'GDP': 4800.0,\n",
       "  'Literacy': 93.4,\n",
       "  'Phones': 140.13},\n",
       " 'Vietnam': {'Continent': 'Asia',\n",
       "  'Population': 84402966.0,\n",
       "  'Area': 853557.1,\n",
       "  'GDP': 2500.0,\n",
       "  'Literacy': 90.3,\n",
       "  'Phones': 187.73},\n",
       " 'Wallis and Futuna': {'Continent': 'Oceania',\n",
       "  'Population': 16025.0,\n",
       "  'Area': 709.7,\n",
       "  'GDP': 3700.0,\n",
       "  'Literacy': 50.0,\n",
       "  'Phones': 118.56},\n",
       " 'Yemen': {'Continent': 'Asia',\n",
       "  'Population': 21456188.0,\n",
       "  'Area': 1367437.0,\n",
       "  'GDP': 800.0,\n",
       "  'Literacy': 50.2,\n",
       "  'Phones': 37.2},\n",
       " 'Zambia': {'Continent': 'Africa',\n",
       "  'Population': 11502010.0,\n",
       "  'Area': 1949262.7,\n",
       "  'GDP': 800.0,\n",
       "  'Literacy': 80.6,\n",
       "  'Phones': 8.23},\n",
       " 'Zimbabwe': {'Continent': 'Africa',\n",
       "  'Population': 12236805.0,\n",
       "  'Area': 1011598.3,\n",
       "  'GDP': 1900.0,\n",
       "  'Literacy': 90.7,\n",
       "  'Phones': 26.8}}"
      ]
     },
     "execution_count": 28,
     "metadata": {},
     "output_type": "execute_result"
    }
   ],
   "source": [
    "countries"
   ]
  },
  {
   "cell_type": "code",
   "execution_count": 29,
   "id": "6a985fa5",
   "metadata": {},
   "outputs": [
    {
     "data": {
      "text/plain": [
       "\"\\nlist_cont = []\\n    if info['Continent'] == 'Europe':\\n        if info['Literacy'] >= 0 and info['Literacy'] < 25:\\n            literacy_level = 'VERY_LOW'\\n        elif info['Literacy'] >= 25 and info['Literacy'] < 50:\\n            literacy_level = 'LOW'\\n        elif info['Literacy'] >= 50 and info['Literacy'] < 70:\\n            literacy_level = 'MEDIUM'\\n        elif info['Literacy'] >= 70 and info['Literacy'] < 90:\\n            literacy_level = 'HIGH'\\n        else:\\n            literacy_level = 'VERY_HIGH'\\n            \\n            \\n        list_cont.append((country, info['Literacy'], literacy_level))\\n        \\nprint(list_cont)\\n\""
      ]
     },
     "execution_count": 29,
     "metadata": {},
     "output_type": "execute_result"
    }
   ],
   "source": [
    "'''\n",
    "list_cont = []\n",
    "    if info['Continent'] == 'Europe':\n",
    "        if info['Literacy'] >= 0 and info['Literacy'] < 25:\n",
    "            literacy_level = 'VERY_LOW'\n",
    "        elif info['Literacy'] >= 25 and info['Literacy'] < 50:\n",
    "            literacy_level = 'LOW'\n",
    "        elif info['Literacy'] >= 50 and info['Literacy'] < 70:\n",
    "            literacy_level = 'MEDIUM'\n",
    "        elif info['Literacy'] >= 70 and info['Literacy'] < 90:\n",
    "            literacy_level = 'HIGH'\n",
    "        else:\n",
    "            literacy_level = 'VERY_HIGH'\n",
    "            \n",
    "            \n",
    "        list_cont.append((country, info['Literacy'], literacy_level))\n",
    "        \n",
    "print(list_cont)\n",
    "'''"
   ]
  },
  {
   "cell_type": "code",
   "execution_count": 30,
   "id": "6dfcb56a",
   "metadata": {
    "deletable": false,
    "nbgrader": {
     "grade": false,
     "grade_id": "cell-3911f29ed53cd968",
     "locked": false,
     "schema_version": 3,
     "solution": true,
     "task": false
    }
   },
   "outputs": [],
   "source": [
    "def get_literacy_levels_by_continent(countries, continent):\n",
    "    list_cont = []\n",
    "    literacy_level = 0\n",
    "    for country, info in countries.items():\n",
    "        if info['Continent'] == continent:\n",
    "            \n",
    "            if info['Literacy'] >= 0 and info['Literacy'] < 25:\n",
    "                literacy_level = 'VERY_LOW'\n",
    "            elif info['Literacy'] >= 25 and info['Literacy'] < 50:\n",
    "                literacy_level = 'LOW'\n",
    "            elif info['Literacy'] >= 50 and info['Literacy'] < 70:\n",
    "                literacy_level = 'MEDIUM'\n",
    "            elif info['Literacy'] >= 70 and info['Literacy'] < 90:\n",
    "                literacy_level = 'HIGH'\n",
    "            else:\n",
    "                literacy_level = 'VERY_HIGH'\n",
    "            list_cont.append((country, info['Literacy'], literacy_level))\n",
    "    return list_cont"
   ]
  },
  {
   "cell_type": "code",
   "execution_count": 31,
   "id": "51901a74",
   "metadata": {},
   "outputs": [
    {
     "name": "stdout",
     "output_type": "stream",
     "text": [
      "[('Albania', 86.5, 'HIGH'), ('Andorra', 100.0, 'VERY_HIGH'), ('Austria', 98.0, 'VERY_HIGH'), ('Belgium', 98.0, 'VERY_HIGH'), ('Bulgaria', 98.6, 'VERY_HIGH'), ('Croatia', 98.5, 'VERY_HIGH'), ('Czech Republic', 99.9, 'VERY_HIGH'), ('Denmark', 100.0, 'VERY_HIGH'), ('Estonia', 99.8, 'VERY_HIGH'), ('Finland', 100.0, 'VERY_HIGH'), ('France', 99.0, 'VERY_HIGH'), ('Germany', 99.0, 'VERY_HIGH'), ('Greece', 97.5, 'VERY_HIGH'), ('Hungary', 99.4, 'VERY_HIGH'), ('Iceland', 99.9, 'VERY_HIGH'), ('Ireland', 98.0, 'VERY_HIGH'), ('Italy', 98.6, 'VERY_HIGH'), ('Latvia', 99.8, 'VERY_HIGH'), ('Liechtenstein', 100.0, 'VERY_HIGH'), ('Lithuania', 99.6, 'VERY_HIGH'), ('Luxembourg', 100.0, 'VERY_HIGH'), ('Malta', 92.8, 'VERY_HIGH'), ('Monaco', 99.0, 'VERY_HIGH'), ('Netherlands', 99.0, 'VERY_HIGH'), ('Norway', 100.0, 'VERY_HIGH'), ('Poland', 99.8, 'VERY_HIGH'), ('Portugal', 93.3, 'VERY_HIGH'), ('Romania', 98.4, 'VERY_HIGH'), ('San Marino', 96.0, 'VERY_HIGH'), ('Serbia', 93.0, 'VERY_HIGH'), ('Slovenia', 99.7, 'VERY_HIGH'), ('Spain', 97.9, 'VERY_HIGH'), ('Sweden', 99.0, 'VERY_HIGH'), ('Switzerland', 99.0, 'VERY_HIGH'), ('United Kingdom', 99.0, 'VERY_HIGH')]\n"
     ]
    }
   ],
   "source": [
    "x = get_literacy_levels_by_continent(countries, 'Europe')\n",
    "print(x)"
   ]
  },
  {
   "cell_type": "code",
   "execution_count": 32,
   "id": "e9257cc3",
   "metadata": {
    "deletable": false,
    "editable": false,
    "nbgrader": {
     "grade": true,
     "grade_id": "cell-fa41a51f9ff00d7c",
     "locked": true,
     "points": 2,
     "schema_version": 3,
     "solution": false,
     "task": false
    }
   },
   "outputs": [
    {
     "name": "stdout",
     "output_type": "stream",
     "text": [
      "---- All asserts passed ---- \n"
     ]
    }
   ],
   "source": [
    "for continent in [\"Europe\",\"Africa\"]:\n",
    "    literacy_tuple = get_literacy_levels_by_continent(countries, continent)    \n",
    "    for literacy in literacy_tuple:\n",
    "        assert len(literacy) == 3, \"Not correct. Keep trying.\"\n",
    "        assert isinstance(literacy[0], str), \"Not correct. Keep trying.\"\n",
    "        assert isinstance(literacy[1], float), \"Not correct. Keep trying.\"\n",
    "        assert isinstance(literacy[2], str), \"Not correct. Keep trying.\"\n",
    "\n",
    "    if continent == \"Europe\":\n",
    "        assert len(literacy_tuple) == 35, \"Not correct. Keep trying.\"\n",
    "        assert literacy_tuple[21][0] == 'Malta', \"Not correct. Keep trying.\"\n",
    "        assert math.isclose(literacy_tuple[21][1], 92.8, abs_tol=0.1), \\\n",
    "               \"Not correct. Keep trying.\"\n",
    "        assert literacy_tuple[21][2] == 'VERY_HIGH', \"Not correct. Keep trying.\"\n",
    "        assert literacy_tuple[1][2] == 'VERY_HIGH', \"Not correct. Keep trying.\"\n",
    "        assert literacy_tuple[0][2] == 'HIGH', \"Not correct. Keep trying.\"\n",
    "        assert literacy_tuple[-1][2] == 'VERY_HIGH', \"Not correct. Keep trying.\"\n",
    "\n",
    "    if continent == \"Africa\":\n",
    "        assert len(literacy_tuple) == 55, \"Not correct. Keep trying.\"\n",
    "        assert literacy_tuple[14][0] == 'Djibouti', \"Not correct. Keep trying.\"\n",
    "        assert math.isclose(literacy_tuple[14][1], 67.9, abs_tol=0.1), \\\n",
    "               \"Not correct. Keep trying.\"\n",
    "        assert literacy_tuple[14][2] == 'MEDIUM', \"Not correct. Keep trying.\"\n",
    "        assert literacy_tuple[1][2] == 'LOW', \"Not correct. Keep trying.\"\n",
    "        assert literacy_tuple[0][2] == 'HIGH', \"Not correct. Keep trying.\"\n",
    "        assert literacy_tuple[-1][2] == 'VERY_HIGH', \"Not correct. Keep trying.\"\n",
    "print(\"---- All asserts passed ---- \")\n",
    "countries = countries_backup"
   ]
  },
  {
   "cell_type": "markdown",
   "id": "68dc8d54",
   "metadata": {
    "deletable": false,
    "editable": false,
    "nbgrader": {
     "grade": false,
     "grade_id": "cell-5753eb5d0e5b85bc",
     "locked": true,
     "schema_version": 3,
     "solution": false,
     "task": false
    }
   },
   "source": [
    "## Question 6\n",
    "\n",
    "Complete the function `get_country_codes`. This function should:\n",
    "- Receive the `countries` dictionary as argument;\n",
    "- Build a list with all the countries names;\n",
    "- Using `map` and a `lambda` function, convert the country names in country codes by selecting the 3 first letters of the country;\n",
    "- Returns this list;\n",
    "\n",
    "Note: Don't worry about duplicates on the result."
   ]
  },
  {
   "cell_type": "code",
   "execution_count": 33,
   "id": "e311a853",
   "metadata": {},
   "outputs": [],
   "source": [
    "#con =list(countries.keys())\n",
    "#con =  map(lambda x: x[0:3], con)\n",
    "#con = list(con)"
   ]
  },
  {
   "cell_type": "code",
   "execution_count": 34,
   "id": "8f885bd1",
   "metadata": {},
   "outputs": [
    {
     "data": {
      "text/plain": [
       "'\\ncon2 = map(lambda x: x[0:3], list(countries.keys()))\\ncon2 = list(con2)\\n'"
      ]
     },
     "execution_count": 34,
     "metadata": {},
     "output_type": "execute_result"
    }
   ],
   "source": [
    "'''\n",
    "con2 = map(lambda x: x[0:3], list(countries.keys()))\n",
    "con2 = list(con2)\n",
    "'''"
   ]
  },
  {
   "cell_type": "code",
   "execution_count": 35,
   "id": "56971d44",
   "metadata": {},
   "outputs": [],
   "source": [
    "#con3 = = list(map(lambda x: x[0:3], list(countries.keys())))"
   ]
  },
  {
   "cell_type": "code",
   "execution_count": 36,
   "id": "3837d727",
   "metadata": {
    "deletable": false,
    "nbgrader": {
     "grade": false,
     "grade_id": "cell-bd068242631b4909",
     "locked": false,
     "schema_version": 3,
     "solution": true,
     "task": false
    }
   },
   "outputs": [],
   "source": [
    "def get_country_codes(countries):\n",
    "    con = list(map(lambda x: x[0:3], list(countries.keys())))\n",
    "    return con"
   ]
  },
  {
   "cell_type": "code",
   "execution_count": 37,
   "id": "80fb980a",
   "metadata": {
    "deletable": false,
    "editable": false,
    "nbgrader": {
     "grade": true,
     "grade_id": "cell-5f1eaf642616c8a1",
     "locked": true,
     "points": 2,
     "schema_version": 3,
     "solution": false,
     "task": false
    }
   },
   "outputs": [
    {
     "name": "stdout",
     "output_type": "stream",
     "text": [
      "---- All asserts passed ---- \n"
     ]
    }
   ],
   "source": [
    "country_codes = get_country_codes(countries) \n",
    "assert len(country_codes) == 194, \"Not correct. Keep trying.\"\n",
    "for code in country_codes:\n",
    "    assert isinstance(code, str), \"Not correct. Keep trying.\"\n",
    "    assert len(code) == 3, \"Not correct. Keep trying.\"\n",
    "assert country_codes[134] == \"Pak\", \"Not correct. Keep trying.\"\n",
    "assert country_codes[62] == \"Fra\", \"Not correct. Keep trying.\"\n",
    "\n",
    "source = inspect.getsource(get_country_codes)\n",
    "assert \"map\" in source, \"Not correct. Keep trying.\"\n",
    "assert \"lambda\" in source, \"Not correct. Keep trying.\"\n",
    "print(\"---- All asserts passed ---- \")\n",
    "countries = countries_backup"
   ]
  },
  {
   "cell_type": "markdown",
   "id": "513a162f",
   "metadata": {
    "deletable": false,
    "editable": false,
    "nbgrader": {
     "grade": false,
     "grade_id": "cell-7844a33349cae384",
     "locked": true,
     "schema_version": 3,
     "solution": false,
     "task": false
    }
   },
   "source": [
    "## Question 7\n",
    "\n",
    "The `Country` class is going to be used to represent countries and to return information about them."
   ]
  },
  {
   "cell_type": "markdown",
   "id": "4c71e58f",
   "metadata": {
    "deletable": false,
    "editable": false,
    "nbgrader": {
     "grade": false,
     "grade_id": "cell-21673f3c85e20039",
     "locked": true,
     "schema_version": 3,
     "solution": false,
     "task": false
    }
   },
   "source": [
    "### Question 7.1\n",
    "\n",
    "Complete the `get_population_in_millions` method. This method should:\n",
    "- Return the population of the country that the class represents;\n",
    "- The population should be returned in millions with 2 decimal digits;"
   ]
  },
  {
   "cell_type": "code",
   "execution_count": 38,
   "id": "cb1d9b2f",
   "metadata": {
    "deletable": false,
    "nbgrader": {
     "grade": false,
     "grade_id": "cell-9b9ae4ba8e61e508",
     "locked": false,
     "schema_version": 3,
     "solution": true,
     "task": false
    }
   },
   "outputs": [],
   "source": [
    "class Country:\n",
    "    def __init__(self, country_name, population, continent):\n",
    "        self.country_name = country_name\n",
    "        self.population = population\n",
    "        self.continent = continent\n",
    "\n",
    "    def get_population_in_millions(self):\n",
    "        return round((self.population*1e-6),2)"
   ]
  },
  {
   "cell_type": "code",
   "execution_count": 39,
   "id": "4015b9f8",
   "metadata": {},
   "outputs": [],
   "source": [
    "country1 = Country(\"Penguinea\", 12345678, \"Antarctica\")"
   ]
  },
  {
   "cell_type": "code",
   "execution_count": 40,
   "id": "5a27c9ac",
   "metadata": {},
   "outputs": [
    {
     "data": {
      "text/plain": [
       "12.35"
      ]
     },
     "execution_count": 40,
     "metadata": {},
     "output_type": "execute_result"
    }
   ],
   "source": [
    "country1.get_population_in_millions()"
   ]
  },
  {
   "cell_type": "code",
   "execution_count": 41,
   "id": "41bf1f77",
   "metadata": {
    "deletable": false,
    "editable": false,
    "nbgrader": {
     "grade": true,
     "grade_id": "cell-9e28e403f317f23d",
     "locked": true,
     "points": 2,
     "schema_version": 3,
     "solution": false,
     "task": false
    }
   },
   "outputs": [
    {
     "name": "stdout",
     "output_type": "stream",
     "text": [
      "---- All asserts passed ---- \n"
     ]
    }
   ],
   "source": [
    "country = Country(\"Penguinea\", 12345678, \"Antarctica\")\n",
    "assert isinstance(country, Country), \"Not correct. Keep trying.\"\n",
    "assert isinstance(country.get_population_in_millions(), float), \"Not correct. Keep trying.\"\n",
    "assert math.isclose(country.get_population_in_millions(), 12.35, abs_tol=0.01),\"Not correct. Keep trying.\"\n",
    "\n",
    "country = Country(\"Walrussia\", 8344567, \"Antarctica\") \n",
    "assert math.isclose(country.get_population_in_millions(), 8.34, abs_tol=0.01), \"Not correct. Keep trying.\"\n",
    "print(\"---- All asserts passed ---- \")\n",
    "countries = countries_backup"
   ]
  },
  {
   "cell_type": "markdown",
   "id": "e3c53a98",
   "metadata": {
    "deletable": false,
    "editable": false,
    "nbgrader": {
     "grade": false,
     "grade_id": "cell-1a701df531f382b7",
     "locked": true,
     "schema_version": 3,
     "solution": false,
     "task": false
    }
   },
   "source": [
    "## Question 7.2\n",
    "\n",
    "Complete the `get_country_population`. This function should:\n",
    "- Receive the `countries` dictionary as argument;\n",
    "- Receive a country name as argument;\n",
    "- Try to find the country (received as argument) in the countries dictionary;\n",
    "- If the country doesn’t exist in the countries dictionary, catch the KeyError, print a statement with the information that there is no information for that country and return `None`;\n",
    "- If the country exists, create an object of the `Country` class;\n",
    "- Call the `get_population_in_millions` method for the country;\n",
    "- Return the population in millions value;"
   ]
  },
  {
   "cell_type": "code",
   "execution_count": 42,
   "id": "f84379a7",
   "metadata": {},
   "outputs": [
    {
     "data": {
      "text/plain": [
       "{'Continent': 'Asia',\n",
       " 'Population': 70413958.0,\n",
       " 'Area': 2021694.4,\n",
       " 'GDP': 6700.0,\n",
       " 'Literacy': 86.5,\n",
       " 'Phones': 269.52}"
      ]
     },
     "execution_count": 42,
     "metadata": {},
     "output_type": "execute_result"
    }
   ],
   "source": [
    "countries['Turkey']"
   ]
  },
  {
   "cell_type": "code",
   "execution_count": 43,
   "id": "65ea4797",
   "metadata": {
    "deletable": false,
    "nbgrader": {
     "grade": false,
     "grade_id": "cell-803b263dbee2e300",
     "locked": false,
     "schema_version": 3,
     "solution": true,
     "task": false
    }
   },
   "outputs": [],
   "source": [
    "def get_country_population(countries, country_name):\n",
    "    try:\n",
    "        if country_name in countries:\n",
    "            country_name = Country(country_name = country_name,\n",
    "                    population = countries[country_name]['Population'],\n",
    "                    continent = countries[country_name]['Continent'])\n",
    "            return country_name.get_population_in_millions()\n",
    "            \n",
    "    except KeyError as countries:\n",
    "        print(f'Country {country_name} Not Found in countries Dictionary')\n",
    "        return None\n",
    "        \n",
    "        "
   ]
  },
  {
   "cell_type": "code",
   "execution_count": 44,
   "id": "dee36fae",
   "metadata": {
    "deletable": false,
    "editable": false,
    "nbgrader": {
     "grade": true,
     "grade_id": "cell-0d0db73f5256c8e5",
     "locked": true,
     "points": 6,
     "schema_version": 3,
     "solution": false,
     "task": false
    }
   },
   "outputs": [
    {
     "name": "stdout",
     "output_type": "stream",
     "text": [
      "---- All asserts passed ---- \n"
     ]
    }
   ],
   "source": [
    "assert math.isclose(get_country_population(countries, \"Turkey\"), 70.41, abs_tol=0.01), \"Not correct. Keep trying.\"\n",
    "assert get_country_population(countries, \"Narnia\") is None,  \"Not correct. Keep trying.\"\n",
    "print(\"---- All asserts passed ---- \")\n",
    "countries = countries_backup"
   ]
  },
  {
   "cell_type": "markdown",
   "id": "daaf16e5",
   "metadata": {
    "deletable": false,
    "editable": false,
    "nbgrader": {
     "grade": false,
     "grade_id": "cell-28fb2a76152308d9",
     "locked": true,
     "schema_version": 3,
     "solution": false,
     "task": false
    }
   },
   "source": [
    "### Submit your work!\n",
    "\n",
    "To submit your work, [follow the steps here, in the step \\\"Grading the Exercise Notebook\\\"!](https://github.com/LDSSA/ds-prep-course-2023/blob/main/weekly-workflow.md#link-to-grading)"
   ]
  }
 ],
 "metadata": {
  "kernelspec": {
   "display_name": "Python 3 (ipykernel)",
   "language": "python",
   "name": "python3"
  },
  "language_info": {
   "codemirror_mode": {
    "name": "ipython",
    "version": 3
   },
   "file_extension": ".py",
   "mimetype": "text/x-python",
   "name": "python",
   "nbconvert_exporter": "python",
   "pygments_lexer": "ipython3",
   "version": "3.8.16"
  }
 },
 "nbformat": 4,
 "nbformat_minor": 5
}
