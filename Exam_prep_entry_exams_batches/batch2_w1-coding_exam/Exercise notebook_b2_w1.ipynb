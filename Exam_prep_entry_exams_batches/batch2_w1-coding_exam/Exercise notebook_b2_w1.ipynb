{
 "cells": [
  {
   "cell_type": "markdown",
   "id": "dd4b58fe",
   "metadata": {
    "deletable": false,
    "editable": false,
    "nbgrader": {
     "grade": false,
     "grade_id": "cell-df74a5add3f53d1b",
     "locked": true,
     "schema_version": 3,
     "solution": false,
     "task": false
    }
   },
   "source": [
    "# SLU 17_2 - Exam Prep I\n",
    "\n",
    "## Batch 2 Python Exam \n",
    "\n",
    "This is the Python admission exam from the Lisbon Data Science Starters Academy - Batch 2. The allocated time for this exam was 2 hours. If you plan to take the admission exam this year, it's a good idea to measure the time you need to solve this notebook. You can see how far you get in 2 hours and also how much time you need to complete the notebook. At the same time, it's a good idea to not rush through the exercises and rather concentrate on working thoroughly.\n",
    "\n",
    "At the end, you submit the notebook to the portal as usual. You can submit as many times as you like."
   ]
  },
  {
   "cell_type": "code",
   "execution_count": 1,
   "id": "87fc8863",
   "metadata": {
    "deletable": false,
    "editable": false,
    "nbgrader": {
     "grade": false,
     "grade_id": "cell-52e4242812257e1e",
     "locked": true,
     "schema_version": 3,
     "solution": false,
     "task": false
    }
   },
   "outputs": [],
   "source": [
    "from operator import itemgetter\n",
    "\n",
    "#used for evaluation\n",
    "import inspect\n",
    "import math\n",
    "import re\n",
    "import json\n",
    "import sys\n",
    "import utils\n",
    "import random\n",
    "\n",
    "#generate data\n",
    "data = utils.generate_data()\n",
    "data_comma =  utils.generate_data_comma()\n",
    "data_clean = utils.generate_data_clean()"
   ]
  },
  {
   "cell_type": "code",
   "execution_count": 2,
   "id": "01b6a6ef",
   "metadata": {},
   "outputs": [
    {
     "data": {
      "text/plain": [
       "[{'Year': '2013',\n",
       "  'Total': '53,2',\n",
       "  'Education': '80,4',\n",
       "  'Arts and Humanities': '56,9',\n",
       "  'Social Sciences, Management and Law': '58,1',\n",
       "  'Sciences, Maths and Computer Science': '(R) 47,2',\n",
       "  'Engineering': '(R) 27,4',\n",
       "  'Agriculture': '56,9',\n",
       "  'Health and Social Security': '76,8',\n",
       "  'Services': '(R) 41,4'},\n",
       " {'Year': '201',\n",
       "  'Total': '22,2',\n",
       "  'Education': '80,4',\n",
       "  'Arts and Humanities': '16,9',\n",
       "  'Social Sciences, Management and Law': '58,1',\n",
       "  'Sciences, Maths and Computer Science': '(R) 47,2',\n",
       "  'Engineering': '(R) 27,4',\n",
       "  'Agriculture': '56,9',\n",
       "  'Health and Social Security': '76,8',\n",
       "  'Services': '(R) 41,4'},\n",
       " {'Year': '2014',\n",
       "  'Total': '53,5',\n",
       "  'Education': '80,7',\n",
       "  'Arts and Humanities': '58,0',\n",
       "  'Social Sciences, Management and Law': '58,5',\n",
       "  'Sciences, Maths and Computer Science': '(R) 47,5',\n",
       "  'Engineering': '(R) 27,6',\n",
       "  'Agriculture': '56,9',\n",
       "  'Health and Social Security': '76,6',\n",
       "  'Services': '(R) 41,1'},\n",
       " {'Year': '2015',\n",
       "  'Total': '53,6',\n",
       "  'Education': '80,7',\n",
       "  'Arts and Humanities': '58,7',\n",
       "  'Social Sciences, Management and Law': '58,6',\n",
       "  'Sciences, Maths and Computer Science': '(R) 47,8',\n",
       "  'Engineering': '(R) 27,0',\n",
       "  'Agriculture': '56,3',\n",
       "  'Health and Social Security': '76,7',\n",
       "  'Services': '(R) 41,0'},\n",
       " {'Year': '2016',\n",
       "  'Total': '53,4',\n",
       "  'Education': '80,3',\n",
       "  'Arts and Humanities': '58,6',\n",
       "  'Social Sciences, Management and Law': '58,9',\n",
       "  'Sciences, Maths and Computer Science': '(R) 45,7',\n",
       "  'Engineering': '(R) 27,3',\n",
       "  'Agriculture': '56,4',\n",
       "  'Health and Social Security': '76,8',\n",
       "  'Services': '(R) 41,7'},\n",
       " {'Year': '2017',\n",
       "  'Total': '53,6',\n",
       "  'Education': '79,3',\n",
       "  'Arts and Humanities': '59,0',\n",
       "  'Social Sciences, Management and Law': '59,5',\n",
       "  'Sciences, Maths and Computer Science': '44,2',\n",
       "  'Engineering': '27,5',\n",
       "  'Agriculture': '57,3',\n",
       "  'Health and Social Security': '77,0',\n",
       "  'Services': '42,1'},\n",
       " {'Year': '2013',\n",
       "  'Total': '52,2',\n",
       "  'Education': '80,4',\n",
       "  'Arts and Humanities': '57,9',\n",
       "  'Social Sciences, Management and Law': '58,1',\n",
       "  'Sciences, Maths and Computer Science': '(R) 47,2',\n",
       "  'Engineering': '(R) 27,4',\n",
       "  'Agriculture': '56,9',\n",
       "  'Health and Social Security': '76,8',\n",
       "  'Services': '(R) 41,4'},\n",
       " {'Year': '2014',\n",
       "  'Total': '53,5',\n",
       "  'Education': '80,7',\n",
       "  'Arts and Humanities': '58,0',\n",
       "  'Social Sciences, Management and Law': '58,5',\n",
       "  'Sciences, Maths and Computer Science': '(R) 47,5',\n",
       "  'Engineering': '(R) 27,6',\n",
       "  'Agriculture': '56,9',\n",
       "  'Health and Social Security': '76,6',\n",
       "  'Services': '(R) 41,1'},\n",
       " {'Year': '2015',\n",
       "  'Total': '53,6',\n",
       "  'Education': '80,7',\n",
       "  'Arts and Humanities': '58,7',\n",
       "  'Social Sciences, Management and Law': '58,6',\n",
       "  'Sciences, Maths and Computer Science': '(R) 47,8',\n",
       "  'Engineering': '(R) 27,0',\n",
       "  'Agriculture': '56,3',\n",
       "  'Health and Social Security': '76,7',\n",
       "  'Services': '(R) 41,0'},\n",
       " {'Year': '2016',\n",
       "  'Total': '53,4',\n",
       "  'Education': '80,3',\n",
       "  'Arts and Humanities': '58,6',\n",
       "  'Social Sciences, Management and Law': '58,9',\n",
       "  'Sciences, Maths and Computer Science': '(R) 45,7',\n",
       "  'Engineering': '(R) 27,3',\n",
       "  'Agriculture': '56,4',\n",
       "  'Health and Social Security': '76,8',\n",
       "  'Services': '(R) 41,7'}]"
      ]
     },
     "execution_count": 2,
     "metadata": {},
     "output_type": "execute_result"
    }
   ],
   "source": [
    "data"
   ]
  },
  {
   "cell_type": "code",
   "execution_count": 3,
   "id": "fb8bf81d",
   "metadata": {},
   "outputs": [
    {
     "data": {
      "text/plain": [
       "[{'year': '2013',\n",
       "  'total': '53,2',\n",
       "  'education': '80,4',\n",
       "  'arts_and_humanities': '56,9',\n",
       "  'social_sciences_management_and_law': '58,1',\n",
       "  'sciences_maths_and_computer_science': '47,2',\n",
       "  'engineering': '27,4',\n",
       "  'Agriculture': '56,9',\n",
       "  'health_and_social_security': '76,8',\n",
       "  'services': '41,4'},\n",
       " {'year': '201',\n",
       "  'total': '22,2',\n",
       "  'education': '80,4',\n",
       "  'arts_and_humanities': '16,9',\n",
       "  'social_sciences_management_and_law': '58,1',\n",
       "  'sciences_maths_and_computer_science': '47,2',\n",
       "  'engineering': '27,4',\n",
       "  'Agriculture': '56,9',\n",
       "  'health_and_social_security': '76,8',\n",
       "  'services': '41,4'},\n",
       " {'year': '2014',\n",
       "  'total': '53,5',\n",
       "  'education': '80,7',\n",
       "  'arts_and_humanities': '58,0',\n",
       "  'social_sciences_management_and_law': '58,5',\n",
       "  'sciences_maths_and_computer_science': '47,5',\n",
       "  'engineering': '27,6',\n",
       "  'Agriculture': '56,9',\n",
       "  'health_and_social_security': '76,6',\n",
       "  'services': '41,1'},\n",
       " {'year': '2015',\n",
       "  'total': '53,6',\n",
       "  'education': '80,7',\n",
       "  'arts_and_humanities': '58,7',\n",
       "  'social_sciences_management_and_law': '58,6',\n",
       "  'sciences_maths_and_computer_science': '47,8',\n",
       "  'engineering': '27,0',\n",
       "  'Agriculture': '56,3',\n",
       "  'health_and_social_security': '76,7',\n",
       "  'services': '41,0'},\n",
       " {'year': '2016',\n",
       "  'total': '53,4',\n",
       "  'education': '80,3',\n",
       "  'arts_and_humanities': '58,6',\n",
       "  'social_sciences_management_and_law': '58,9',\n",
       "  'sciences_maths_and_computer_science': '45,7',\n",
       "  'engineering': '27,3',\n",
       "  'Agriculture': '56,4',\n",
       "  'health_and_social_security': '76,8',\n",
       "  'services': '41,7'},\n",
       " {'year': '2017',\n",
       "  'total': '53,6',\n",
       "  'education': '79,3',\n",
       "  'arts_and_humanities': '59,0',\n",
       "  'social_sciences_management_and_law': '59,5',\n",
       "  'sciences_maths_and_computer_science': '44,2',\n",
       "  'engineering': '27,5',\n",
       "  'Agriculture': '57,3',\n",
       "  'health_and_social_security': '77,0',\n",
       "  'services': '42,1'},\n",
       " {'year': '2013',\n",
       "  'total': '52,2',\n",
       "  'education': '80,4',\n",
       "  'arts_and_humanities': '57,9',\n",
       "  'social_sciences_management_and_law': '58,1',\n",
       "  'sciences_maths_and_computer_science': '47,2',\n",
       "  'engineering': '27,4',\n",
       "  'Agriculture': '56,9',\n",
       "  'health_and_social_security': '76,8',\n",
       "  'services': '41,4'},\n",
       " {'year': '2014',\n",
       "  'total': '53,5',\n",
       "  'education': '80,7',\n",
       "  'arts_and_humanities': '58,0',\n",
       "  'social_sciences_management_and_law': '58,5',\n",
       "  'sciences_maths_and_computer_science': '47,5',\n",
       "  'engineering': '27,6',\n",
       "  'Agriculture': '56,9',\n",
       "  'health_and_social_security': '76,6',\n",
       "  'services': '41,1'},\n",
       " {'year': '2015',\n",
       "  'total': '53,6',\n",
       "  'education': '80,7',\n",
       "  'arts_and_humanities': '58,7',\n",
       "  'social_sciences_management_and_law': '58,6',\n",
       "  'sciences_maths_and_computer_science': '47,8',\n",
       "  'engineering': '27,0',\n",
       "  'Agriculture': '56,3',\n",
       "  'health_and_social_security': '76,7',\n",
       "  'services': '41,0'},\n",
       " {'year': '2016',\n",
       "  'total': '53,4',\n",
       "  'education': '80,3',\n",
       "  'arts_and_humanities': '58,6',\n",
       "  'social_sciences_management_and_law': '58,9',\n",
       "  'sciences_maths_and_computer_science': '45,7',\n",
       "  'engineering': '27,3',\n",
       "  'Agriculture': '56,4',\n",
       "  'health_and_social_security': '76,8',\n",
       "  'services': '41,7'}]"
      ]
     },
     "execution_count": 3,
     "metadata": {},
     "output_type": "execute_result"
    }
   ],
   "source": [
    "data_comma"
   ]
  },
  {
   "cell_type": "markdown",
   "id": "d792b224",
   "metadata": {
    "deletable": false,
    "editable": false,
    "nbgrader": {
     "grade": false,
     "grade_id": "cell-66ee0c43b637f40a",
     "locked": true,
     "schema_version": 3,
     "solution": false,
     "task": false
    }
   },
   "source": [
    "## Question 1\n",
    "\n",
    "If you took a look at the dataset, you may have noticed that some of the numeric values are \"polluted\" with characters.\n",
    "\n",
    "In this task you'll have to write a function, `clean_percentage`, that should do the following:\n",
    "\n",
    "- Receive as argument a list of dictionaries;\n",
    " - Each of the dictionaries keeps the % of female students in higher education per area, for a specific year;\n",
    "- Remove all the characters and spaces from the numeric values;\n",
    "- Return the cleaned data;\n",
    "\n",
    "Hint: mind the naughty (R)'s :)"
   ]
  },
  {
   "cell_type": "code",
   "execution_count": 4,
   "id": "98e24684",
   "metadata": {},
   "outputs": [],
   "source": [
    "for years in data:\n",
    "    for i in years:\n",
    "        years[i] = re.sub(r'[^0-9,]', '', years[i])\n",
    "        "
   ]
  },
  {
   "cell_type": "code",
   "execution_count": 5,
   "id": "cac9e525",
   "metadata": {},
   "outputs": [
    {
     "name": "stdout",
     "output_type": "stream",
     "text": [
      "[{'Year': '2013', 'Total': '53,2', 'Education': '80,4', 'Arts and Humanities': '56,9', 'Social Sciences, Management and Law': '58,1', 'Sciences, Maths and Computer Science': '47,2', 'Engineering': '27,4', 'Agriculture': '56,9', 'Health and Social Security': '76,8', 'Services': '41,4'}, {'Year': '201', 'Total': '22,2', 'Education': '80,4', 'Arts and Humanities': '16,9', 'Social Sciences, Management and Law': '58,1', 'Sciences, Maths and Computer Science': '47,2', 'Engineering': '27,4', 'Agriculture': '56,9', 'Health and Social Security': '76,8', 'Services': '41,4'}, {'Year': '2014', 'Total': '53,5', 'Education': '80,7', 'Arts and Humanities': '58,0', 'Social Sciences, Management and Law': '58,5', 'Sciences, Maths and Computer Science': '47,5', 'Engineering': '27,6', 'Agriculture': '56,9', 'Health and Social Security': '76,6', 'Services': '41,1'}, {'Year': '2015', 'Total': '53,6', 'Education': '80,7', 'Arts and Humanities': '58,7', 'Social Sciences, Management and Law': '58,6', 'Sciences, Maths and Computer Science': '47,8', 'Engineering': '27,0', 'Agriculture': '56,3', 'Health and Social Security': '76,7', 'Services': '41,0'}, {'Year': '2016', 'Total': '53,4', 'Education': '80,3', 'Arts and Humanities': '58,6', 'Social Sciences, Management and Law': '58,9', 'Sciences, Maths and Computer Science': '45,7', 'Engineering': '27,3', 'Agriculture': '56,4', 'Health and Social Security': '76,8', 'Services': '41,7'}, {'Year': '2017', 'Total': '53,6', 'Education': '79,3', 'Arts and Humanities': '59,0', 'Social Sciences, Management and Law': '59,5', 'Sciences, Maths and Computer Science': '44,2', 'Engineering': '27,5', 'Agriculture': '57,3', 'Health and Social Security': '77,0', 'Services': '42,1'}, {'Year': '2013', 'Total': '52,2', 'Education': '80,4', 'Arts and Humanities': '57,9', 'Social Sciences, Management and Law': '58,1', 'Sciences, Maths and Computer Science': '47,2', 'Engineering': '27,4', 'Agriculture': '56,9', 'Health and Social Security': '76,8', 'Services': '41,4'}, {'Year': '2014', 'Total': '53,5', 'Education': '80,7', 'Arts and Humanities': '58,0', 'Social Sciences, Management and Law': '58,5', 'Sciences, Maths and Computer Science': '47,5', 'Engineering': '27,6', 'Agriculture': '56,9', 'Health and Social Security': '76,6', 'Services': '41,1'}, {'Year': '2015', 'Total': '53,6', 'Education': '80,7', 'Arts and Humanities': '58,7', 'Social Sciences, Management and Law': '58,6', 'Sciences, Maths and Computer Science': '47,8', 'Engineering': '27,0', 'Agriculture': '56,3', 'Health and Social Security': '76,7', 'Services': '41,0'}, {'Year': '2016', 'Total': '53,4', 'Education': '80,3', 'Arts and Humanities': '58,6', 'Social Sciences, Management and Law': '58,9', 'Sciences, Maths and Computer Science': '45,7', 'Engineering': '27,3', 'Agriculture': '56,4', 'Health and Social Security': '76,8', 'Services': '41,7'}]\n"
     ]
    }
   ],
   "source": [
    "print(data)"
   ]
  },
  {
   "cell_type": "code",
   "execution_count": 6,
   "id": "00d582b9",
   "metadata": {
    "deletable": false,
    "nbgrader": {
     "grade": false,
     "grade_id": "cell-c7177b04bd669cff",
     "locked": false,
     "schema_version": 3,
     "solution": true,
     "task": false
    }
   },
   "outputs": [
    {
     "name": "stdout",
     "output_type": "stream",
     "text": [
      "[{'Year': '2013', 'Total': '53,2', 'Education': '80,4', 'Arts and Humanities': '56,9', 'Social Sciences, Management and Law': '58,1', 'Sciences, Maths and Computer Science': '47,2', 'Engineering': '27,4', 'Agriculture': '56,9', 'Health and Social Security': '76,8', 'Services': '41,4'}, {'Year': '201', 'Total': '22,2', 'Education': '80,4', 'Arts and Humanities': '16,9', 'Social Sciences, Management and Law': '58,1', 'Sciences, Maths and Computer Science': '47,2', 'Engineering': '27,4', 'Agriculture': '56,9', 'Health and Social Security': '76,8', 'Services': '41,4'}, {'Year': '2014', 'Total': '53,5', 'Education': '80,7', 'Arts and Humanities': '58,0', 'Social Sciences, Management and Law': '58,5', 'Sciences, Maths and Computer Science': '47,5', 'Engineering': '27,6', 'Agriculture': '56,9', 'Health and Social Security': '76,6', 'Services': '41,1'}, {'Year': '2015', 'Total': '53,6', 'Education': '80,7', 'Arts and Humanities': '58,7', 'Social Sciences, Management and Law': '58,6', 'Sciences, Maths and Computer Science': '47,8', 'Engineering': '27,0', 'Agriculture': '56,3', 'Health and Social Security': '76,7', 'Services': '41,0'}, {'Year': '2016', 'Total': '53,4', 'Education': '80,3', 'Arts and Humanities': '58,6', 'Social Sciences, Management and Law': '58,9', 'Sciences, Maths and Computer Science': '45,7', 'Engineering': '27,3', 'Agriculture': '56,4', 'Health and Social Security': '76,8', 'Services': '41,7'}, {'Year': '2017', 'Total': '53,6', 'Education': '79,3', 'Arts and Humanities': '59,0', 'Social Sciences, Management and Law': '59,5', 'Sciences, Maths and Computer Science': '44,2', 'Engineering': '27,5', 'Agriculture': '57,3', 'Health and Social Security': '77,0', 'Services': '42,1'}, {'Year': '2013', 'Total': '52,2', 'Education': '80,4', 'Arts and Humanities': '57,9', 'Social Sciences, Management and Law': '58,1', 'Sciences, Maths and Computer Science': '47,2', 'Engineering': '27,4', 'Agriculture': '56,9', 'Health and Social Security': '76,8', 'Services': '41,4'}, {'Year': '2014', 'Total': '53,5', 'Education': '80,7', 'Arts and Humanities': '58,0', 'Social Sciences, Management and Law': '58,5', 'Sciences, Maths and Computer Science': '47,5', 'Engineering': '27,6', 'Agriculture': '56,9', 'Health and Social Security': '76,6', 'Services': '41,1'}, {'Year': '2015', 'Total': '53,6', 'Education': '80,7', 'Arts and Humanities': '58,7', 'Social Sciences, Management and Law': '58,6', 'Sciences, Maths and Computer Science': '47,8', 'Engineering': '27,0', 'Agriculture': '56,3', 'Health and Social Security': '76,7', 'Services': '41,0'}, {'Year': '2016', 'Total': '53,4', 'Education': '80,3', 'Arts and Humanities': '58,6', 'Social Sciences, Management and Law': '58,9', 'Sciences, Maths and Computer Science': '45,7', 'Engineering': '27,3', 'Agriculture': '56,4', 'Health and Social Security': '76,8', 'Services': '41,7'}]\n"
     ]
    }
   ],
   "source": [
    "def clean_percentage(data):\n",
    "    for years in data:\n",
    "        for i in years:\n",
    "            years[i] = re.sub(r'[^0-9,]', '', years[i])\n",
    "    return data\n",
    "\n",
    "x = clean_percentage(data)\n",
    "print(x)"
   ]
  },
  {
   "cell_type": "code",
   "execution_count": 7,
   "id": "945fb530",
   "metadata": {
    "deletable": false,
    "editable": false,
    "nbgrader": {
     "grade": true,
     "grade_id": "cell-18bc7007043d3ec2",
     "locked": true,
     "points": 3,
     "schema_version": 3,
     "solution": false,
     "task": false
    }
   },
   "outputs": [
    {
     "name": "stdout",
     "output_type": "stream",
     "text": [
      "Answer is correct. Good Job.\n"
     ]
    }
   ],
   "source": [
    "#regenerate data\n",
    "data = utils.generate_data()\n",
    "data_comma =  utils.generate_data_comma()\n",
    "data_clean = utils.generate_data_clean()\n",
    "\n",
    "data_fixed = clean_percentage(data)\n",
    "assert len(data_fixed) == 10, \"Not correct. Keep trying.\"\n",
    "assert isinstance(data_fixed, list), \"Not correct. Keep trying.\"\n",
    "\n",
    "for r in range(len(data)):\n",
    "    assert isinstance(data[r], dict), \"Not correct. Keep trying.\"\n",
    "    assert len(data[r]) == 10, \"Not correct. Keep trying.\"\n",
    "\n",
    "    for k in data[r].keys():\n",
    "        assert \"(R)\" not in data_fixed[r][k], \"Not correct. Keep trying.\"\n",
    "        assert re.search(r\"[a-zA-Z\\(\\)]\", data_fixed[r][k]) is None, \"Not correct. Keep trying.\"\n",
    "        \n",
    "print(\"Answer is correct. Good Job.\")"
   ]
  },
  {
   "cell_type": "markdown",
   "id": "056f8529",
   "metadata": {
    "deletable": false,
    "editable": false,
    "nbgrader": {
     "grade": false,
     "grade_id": "cell-b34786a73a2f945a",
     "locked": true,
     "schema_version": 3,
     "solution": false,
     "task": false
    }
   },
   "source": [
    "## Question 2\n",
    "\n",
    "In this task, we want to clean the names of the education areas, so they are all lower case and without white spaces.\n",
    "\n",
    "For instance, Social Sciences, Management and Law should become social_sciences_management_and_law.\n",
    "\n",
    "So you'll have to write two functions.\n",
    "\n",
    "The first function, `clean_header_string`, should do the following:\n",
    "\n",
    "- Receive a string as input;\n",
    "- Remove all the commas from the string;\n",
    "- Replace the white spaces in the string with underscores;\n",
    "- Convert the string to lower case;\n",
    "- Return the transformed string;\n",
    "\n",
    "The second function, `clean_header`, should do the following:\n",
    "\n",
    "- Receive as input, a list of dictionaries, similar to the one in the last question;\n",
    "- Use the first function to transform the education area names;\n",
    "- Return the transformed data;\n"
   ]
  },
  {
   "cell_type": "code",
   "execution_count": 8,
   "id": "65f0cb06",
   "metadata": {
    "deletable": false,
    "nbgrader": {
     "grade": false,
     "grade_id": "cell-a11732fd19b01c68",
     "locked": false,
     "schema_version": 3,
     "solution": true,
     "task": false
    }
   },
   "outputs": [],
   "source": [
    "def clean_header_string(string):\n",
    "    string = string.replace(',', '')  # Remove commas\n",
    "    string = string.replace(' ', '_')  # Replace white spaces with underscores\n",
    "    string = string.lower()  # Convert to lowercase\n",
    "    return string\n",
    "\n",
    "def clean_header(data):\n",
    "    cleaned_data = []\n",
    "    for item in data:\n",
    "        cleaned_item = {}\n",
    "        for key, value in item.items():\n",
    "            cleaned_key = clean_header_string(key)\n",
    "            cleaned_item[cleaned_key] = value\n",
    "        cleaned_data.append(cleaned_item)\n",
    "    return cleaned_data"
   ]
  },
  {
   "cell_type": "code",
   "execution_count": 9,
   "id": "137a83f2",
   "metadata": {
    "deletable": false,
    "editable": false,
    "nbgrader": {
     "grade": true,
     "grade_id": "cell-d7215a1617be8293",
     "locked": true,
     "points": 3,
     "schema_version": 3,
     "solution": false,
     "task": false
    }
   },
   "outputs": [
    {
     "name": "stdout",
     "output_type": "stream",
     "text": [
      "Answer is correct. Good Job.\n"
     ]
    }
   ],
   "source": [
    "#regenerate data\n",
    "data = utils.generate_data()\n",
    "data_comma =  utils.generate_data_comma()\n",
    "data_clean = utils.generate_data_clean()\n",
    "\n",
    "for r in range(len(data)):\n",
    "    assert len(data) == 10, \"Not correct. Keep trying.\"\n",
    "    assert len(data[r]) == 10, \"Not correct. Keep trying.\"\n",
    "    for k in data[r].keys():\n",
    "        area_clean = clean_header_string(k)\n",
    "        assert isinstance(area_clean, str), \"Not correct. Keep trying.\"\n",
    "        assert re.search(r\"[\\,\\sA-Z]\", area_clean) is None, \\\n",
    "               \"Not correct. Keep trying.\"\n",
    "\n",
    "data_fixed = clean_header(data)\n",
    "assert isinstance(data_fixed, list), \"Not correct. Keep trying.\"\n",
    "for r in range(len(data_fixed)):\n",
    "    assert len(data_fixed) == 10, \"Not correct. Keep trying.\"\n",
    "    assert len(data_fixed[r]) == 10, \"Not correct. Keep trying.\"\n",
    "    assert isinstance(data_fixed[r], dict), \"Not correct. Keep trying.\"\n",
    "    for k in data_fixed[r].keys():\n",
    "        assert isinstance(k, str), \"Not correct. Keep trying.\"\n",
    "        assert re.search(r\"[\\,\\sA-Z]\", k) is None, \\\n",
    "               \"Not correct. Keep trying.\"\n",
    "        \n",
    "print(\"Answer is correct. Good Job.\")"
   ]
  },
  {
   "cell_type": "markdown",
   "id": "15c64175",
   "metadata": {
    "deletable": false,
    "editable": false,
    "nbgrader": {
     "grade": false,
     "grade_id": "cell-a30d898709fe64cb",
     "locked": true,
     "schema_version": 3,
     "solution": false,
     "task": false
    }
   },
   "source": [
    "## Question 3\n",
    "\n",
    "In this task, we want to convert our data to the right data types.\n",
    "\n",
    "For this you'll have to write two functions.\n",
    "\n",
    "\n",
    "The first function, `commas`, should do the following:\n",
    "\n",
    "- Receive as input a list of dictionaries, similar to the previous questions;\n",
    "- Replace the commas with dots in the numeric values;\n",
    "- Return the transformed data;\n",
    "\n",
    "\n",
    "The second function `data_types` should do the following:\n",
    "\n",
    "- Receive as input a list of dictionaries (specifically the one returned by the first function);\n",
    "- Convert the year values to integer;\n",
    "- Convert the % of female students values to float;\n",
    "- Return the transformed data;"
   ]
  },
  {
   "cell_type": "code",
   "execution_count": 10,
   "id": "64a95751",
   "metadata": {
    "deletable": false,
    "nbgrader": {
     "grade": false,
     "grade_id": "cell-76ca0448c5209f19",
     "locked": false,
     "schema_version": 3,
     "solution": true,
     "task": false
    }
   },
   "outputs": [],
   "source": [
    "def commas(data):\n",
    "    transformed_data = []\n",
    "    for item in data:\n",
    "        transformed_item = {}\n",
    "        for key, value in item.items():\n",
    "            if key != 'Year' or key == \"year\":\n",
    "                value = value.replace(',', '.')  # Replace commas with dots\n",
    "            transformed_item[key] = value\n",
    "        transformed_data.append(transformed_item)\n",
    "    return transformed_data\n",
    "\n",
    "def data_types(data):\n",
    "    transformed_data = []\n",
    "    for item in data:\n",
    "        transformed_item = {}\n",
    "        for key, value in item.items():\n",
    "            if key == 'Year' or key == \"year\":\n",
    "                transformed_item[key] = int(value)  # Convert year value to integer\n",
    "            else:\n",
    "                transformed_item[key] = float(value)\n",
    "        transformed_data.append(transformed_item)\n",
    "    return transformed_data"
   ]
  },
  {
   "cell_type": "code",
   "execution_count": 11,
   "id": "4c04b0cc",
   "metadata": {
    "deletable": false,
    "editable": false,
    "nbgrader": {
     "grade": true,
     "grade_id": "cell-c0f514108d4869b2",
     "locked": true,
     "points": 3,
     "schema_version": 3,
     "solution": false,
     "task": false
    }
   },
   "outputs": [
    {
     "name": "stdout",
     "output_type": "stream",
     "text": [
      "Answer is correct. Good Job.\n"
     ]
    }
   ],
   "source": [
    "#regenerate data\n",
    "data = utils.generate_data()\n",
    "data_comma =  utils.generate_data_comma()\n",
    "data_clean = utils.generate_data_clean()\n",
    "\n",
    "data_dot = commas(data_comma)\n",
    "assert isinstance(data_dot, list), \"Not correct. Keep trying.\"\n",
    "for r in range(len(data_dot)):\n",
    "    assert len(data_dot) == 10, \"Not correct. Keep trying.\"\n",
    "    assert len(data_dot[r]) == 10, \"Not correct. Keep trying.\"\n",
    "    assert isinstance(data_dot[r], dict), \"Not correct. Keep trying.\"\n",
    "    for v in data_dot[r].values():\n",
    "        assert isinstance(v, str), \"Not correct. Keep trying.\"\n",
    "        assert re.search(r\"[\\,]\", v) is None, \\\n",
    "               \"Not correct. Keep trying.\"\n",
    "\n",
    "data_dot_type = data_types(data_dot)\n",
    "assert isinstance(data_dot_type, list), \"Not correct. Keep trying.\"\n",
    "for r in range(len(data_dot_type)):\n",
    "    assert len(data_dot_type) == 10, \"Not correct. Keep trying.\"\n",
    "    assert len(data_dot_type[r]) == 10, \"Not correct. Keep trying.\"\n",
    "    assert isinstance(data_dot_type[r], dict), \"Not correct. Keep trying.\"\n",
    "    for k, v in data_dot_type[r].items():\n",
    "        if k == \"year\":\n",
    "            assert isinstance(v, int), \"Not correct. Keep trying.\"\n",
    "        else:\n",
    "            assert isinstance(v, float), \"Not correct. Keep trying.\"\n",
    "            \n",
    "print(\"Answer is correct. Good Job.\")"
   ]
  },
  {
   "cell_type": "markdown",
   "id": "cd8a51a7",
   "metadata": {
    "deletable": false,
    "editable": false,
    "nbgrader": {
     "grade": false,
     "grade_id": "cell-0fe3da9f60ca4159",
     "locked": true,
     "schema_version": 3,
     "solution": false,
     "task": false
    }
   },
   "source": [
    "## Question 4\n",
    "\n",
    "In this task, we want to focus on data about a specific education area.\n",
    "\n",
    "So you'll have to write a function, `education_years`  that should do the following:\n",
    "\n",
    "- Receive as input a list of dictionaries (similar to the ones of the previous questions), and an education area (string);\n",
    "- Return a list of tuples where the first value of the tuple is the year and the second value is the % of females in the given education area;\n",
    "\n",
    "In this task you're required to use the following:\n",
    "\n",
    "- `map` function;\n",
    "- `lambda` function;"
   ]
  },
  {
   "cell_type": "code",
   "execution_count": 12,
   "id": "307dad96",
   "metadata": {},
   "outputs": [],
   "source": [
    "#con =list(countries.keys())\n",
    "#con =  map(lambda x: x[0:3], con)\n",
    "#con = list(con)"
   ]
  },
  {
   "cell_type": "code",
   "execution_count": 13,
   "id": "9428b64a",
   "metadata": {},
   "outputs": [
    {
     "name": "stdout",
     "output_type": "stream",
     "text": [
      "2013 56,9\n",
      "2013 56,9\n",
      "2013 56,9\n",
      "2013 56,9\n",
      "2013 56,9\n",
      "2013 56,9\n",
      "2013 56,9\n",
      "2013 56,9\n",
      "2013 56,9\n",
      "2013 56,9\n",
      "201 16,9\n",
      "201 16,9\n",
      "201 16,9\n",
      "201 16,9\n",
      "201 16,9\n",
      "201 16,9\n",
      "201 16,9\n",
      "201 16,9\n",
      "201 16,9\n",
      "201 16,9\n",
      "2014 58,0\n",
      "2014 58,0\n",
      "2014 58,0\n",
      "2014 58,0\n",
      "2014 58,0\n",
      "2014 58,0\n",
      "2014 58,0\n",
      "2014 58,0\n",
      "2014 58,0\n",
      "2014 58,0\n",
      "2015 58,7\n",
      "2015 58,7\n",
      "2015 58,7\n",
      "2015 58,7\n",
      "2015 58,7\n",
      "2015 58,7\n",
      "2015 58,7\n",
      "2015 58,7\n",
      "2015 58,7\n",
      "2015 58,7\n",
      "2016 58,6\n",
      "2016 58,6\n",
      "2016 58,6\n",
      "2016 58,6\n",
      "2016 58,6\n",
      "2016 58,6\n",
      "2016 58,6\n",
      "2016 58,6\n",
      "2016 58,6\n",
      "2016 58,6\n",
      "2017 59,0\n",
      "2017 59,0\n",
      "2017 59,0\n",
      "2017 59,0\n",
      "2017 59,0\n",
      "2017 59,0\n",
      "2017 59,0\n",
      "2017 59,0\n",
      "2017 59,0\n",
      "2017 59,0\n",
      "2013 57,9\n",
      "2013 57,9\n",
      "2013 57,9\n",
      "2013 57,9\n",
      "2013 57,9\n",
      "2013 57,9\n",
      "2013 57,9\n",
      "2013 57,9\n",
      "2013 57,9\n",
      "2013 57,9\n",
      "2014 58,0\n",
      "2014 58,0\n",
      "2014 58,0\n",
      "2014 58,0\n",
      "2014 58,0\n",
      "2014 58,0\n",
      "2014 58,0\n",
      "2014 58,0\n",
      "2014 58,0\n",
      "2014 58,0\n",
      "2015 58,7\n",
      "2015 58,7\n",
      "2015 58,7\n",
      "2015 58,7\n",
      "2015 58,7\n",
      "2015 58,7\n",
      "2015 58,7\n",
      "2015 58,7\n",
      "2015 58,7\n",
      "2015 58,7\n",
      "2016 58,6\n",
      "2016 58,6\n",
      "2016 58,6\n",
      "2016 58,6\n",
      "2016 58,6\n",
      "2016 58,6\n",
      "2016 58,6\n",
      "2016 58,6\n",
      "2016 58,6\n",
      "2016 58,6\n"
     ]
    }
   ],
   "source": [
    "lst = []\n",
    "for info in data:\n",
    "    for key, value in info.items():\n",
    "        if 'Arts and Humanities' in info:\n",
    "            print(info[\"Year\"], info['Arts and Humanities'])\n"
   ]
  },
  {
   "cell_type": "code",
   "execution_count": 14,
   "id": "9ba83e2a",
   "metadata": {},
   "outputs": [],
   "source": [
    "lst = []\n",
    "for info in data:\n",
    "    if 'Arts and Humanities' in info:\n",
    "        lst.append((info[\"Year\"], info['Arts and Humanities']))"
   ]
  },
  {
   "cell_type": "code",
   "execution_count": 15,
   "id": "79b0f685",
   "metadata": {},
   "outputs": [
    {
     "data": {
      "text/plain": [
       "[('2013', '56,9'),\n",
       " ('201', '16,9'),\n",
       " ('2014', '58,0'),\n",
       " ('2015', '58,7'),\n",
       " ('2016', '58,6'),\n",
       " ('2017', '59,0'),\n",
       " ('2013', '57,9'),\n",
       " ('2014', '58,0'),\n",
       " ('2015', '58,7'),\n",
       " ('2016', '58,6')]"
      ]
     },
     "execution_count": 15,
     "metadata": {},
     "output_type": "execute_result"
    }
   ],
   "source": [
    "lst"
   ]
  },
  {
   "cell_type": "code",
   "execution_count": 16,
   "id": "7e075ea2",
   "metadata": {},
   "outputs": [],
   "source": [
    "def education_years(data, education_area):\n",
    "    lst = []\n",
    "    for info in data:\n",
    "        if education_area in info:\n",
    "            lst.append((info[\"Year\"], info[education_area]))\n",
    "    return lst"
   ]
  },
  {
   "cell_type": "code",
   "execution_count": 17,
   "id": "5ac9f6a9",
   "metadata": {
    "deletable": false,
    "nbgrader": {
     "grade": false,
     "grade_id": "cell-0546a2b6445fd75b",
     "locked": false,
     "schema_version": 3,
     "solution": true,
     "task": false
    }
   },
   "outputs": [],
   "source": [
    "def education_years(data, education_area):\n",
    "    lst = list(map(lambda info: (info[\"year\"], info[education_area]), filter(lambda info: education_area in info, data)))\n",
    "    return lst"
   ]
  },
  {
   "cell_type": "code",
   "execution_count": 18,
   "id": "d875cc31",
   "metadata": {
    "deletable": false,
    "editable": false,
    "nbgrader": {
     "grade": true,
     "grade_id": "cell-0bf157ce02b1b085",
     "locked": true,
     "points": 3,
     "schema_version": 3,
     "solution": false,
     "task": false
    }
   },
   "outputs": [
    {
     "name": "stdout",
     "output_type": "stream",
     "text": [
      "Answer is correct. Good Job.\n"
     ]
    }
   ],
   "source": [
    "#regenerate data\n",
    "data = utils.generate_data()\n",
    "data_comma =  utils.generate_data_comma()\n",
    "data_clean = utils.generate_data_clean()\n",
    "\n",
    "education_areas = [key for key in data_clean[0].keys() if key not in [\"year\"]]\n",
    "for area in education_areas:\n",
    "    percent_women_year = education_years(data_clean, area)\n",
    "    assert isinstance(percent_women_year, list), \"Not correct. Keep trying.\"\n",
    "    assert len(percent_women_year) == 12, \"Not correct. Keep trying.\"\n",
    "    for year in percent_women_year:\n",
    "        assert isinstance(year, tuple), \"Not correct. Keep trying.\"\n",
    "        assert len(year) == 2, \"Not correct. Keep trying.\"\n",
    "        assert isinstance(year[0], int), \"Not correct. Keep trying.\"\n",
    "        assert isinstance(year[1], float), \"Not correct. Keep trying.\"\n",
    "\n",
    "test1 = education_years(data_clean, \"total\")\n",
    "assert math.isclose(test1[3][1], 53.5, abs_tol=0.1), \"Not correct. Keep trying.\"\n",
    "assert test1[10][0] == 2016, \"Not correct. Keep trying.\"\n",
    "\n",
    "test2 = education_years(data_clean, \"services\")\n",
    "assert math.isclose(test2[5][1], 41.7, abs_tol=0.1), \"Not correct. Keep trying.\"\n",
    "assert test2[8][0] == 2014, \"Not correct. Keep trying.\"\n",
    "\n",
    "source = inspect.getsource(education_years)\n",
    "assert \"map\" in source, \"Not correct. Keep trying.\"\n",
    "assert \"lambda\" in source, \"Not correct. Keep trying.\"\n",
    "\n",
    "print(\"Answer is correct. Good Job.\")"
   ]
  },
  {
   "cell_type": "markdown",
   "id": "fafc4167",
   "metadata": {
    "deletable": false,
    "editable": false,
    "nbgrader": {
     "grade": false,
     "grade_id": "cell-f4688b863f0cefa1",
     "locked": true,
     "schema_version": 3,
     "solution": false,
     "task": false
    }
   },
   "source": [
    "## Question 5\n",
    "\n",
    "In this task, for a certain education area, we want to understand what were the years where more females were enrolled in higher education.\n",
    "\n",
    "So you'll have to write a function named `female_enrolled` that should do the following:\n",
    "\n",
    "- Receive as input a list of tuples with year and % of females (like the output of last task) and a threshold;\n",
    "- Filter **out** all the tuples that correspond to a % of females strictly below the threshold;\n",
    "- Sort the remaining tuples from higher to lower % of females;\n",
    "- Return the resulting list of tuples;\n",
    "\n",
    "In this task you're required to use the following:\n",
    "\n",
    "- `sorted` function\n",
    "\n",
    "Hint: `itemgetter` may be handy"
   ]
  },
  {
   "cell_type": "code",
   "execution_count": 19,
   "id": "69550be0",
   "metadata": {},
   "outputs": [],
   "source": [
    "x = [(2013, 56.9), (201, 16.9), (2014, 58.0), (2015, 58.7), (2016, 58.6), (2017, 59.0), (2013, 57.9), (2014, 58.0), (2015, 58.7), (2016, 58.6)]"
   ]
  },
  {
   "cell_type": "code",
   "execution_count": 20,
   "id": "bb0f1aaa",
   "metadata": {},
   "outputs": [
    {
     "data": {
      "text/plain": [
       "10"
      ]
     },
     "execution_count": 20,
     "metadata": {},
     "output_type": "execute_result"
    }
   ],
   "source": [
    "len(x)"
   ]
  },
  {
   "cell_type": "code",
   "execution_count": 21,
   "id": "9df2ec9a",
   "metadata": {},
   "outputs": [
    {
     "data": {
      "text/plain": [
       "range(0, 10)"
      ]
     },
     "execution_count": 21,
     "metadata": {},
     "output_type": "execute_result"
    }
   ],
   "source": [
    "range(len(x))"
   ]
  },
  {
   "cell_type": "code",
   "execution_count": 22,
   "id": "ab24449a",
   "metadata": {},
   "outputs": [],
   "source": [
    "#sorted(x,key = itemgetter(1))"
   ]
  },
  {
   "cell_type": "code",
   "execution_count": 23,
   "id": "67c6ad6a",
   "metadata": {},
   "outputs": [
    {
     "name": "stdout",
     "output_type": "stream",
     "text": [
      "[(2015, 58.7), (2015, 58.7), (2017, 59.0)]\n"
     ]
    }
   ],
   "source": [
    "new_list = []\n",
    "for i in range(len(x)):\n",
    "    if x[i][1] > 58.6:\n",
    "        new_list.append(x[i])\n",
    "x=sorted(new_list, key=itemgetter(1))\n",
    "        \n",
    "print(x)"
   ]
  },
  {
   "cell_type": "code",
   "execution_count": 24,
   "id": "62510a55",
   "metadata": {
    "deletable": false,
    "nbgrader": {
     "grade": false,
     "grade_id": "cell-3c339e619872e065",
     "locked": false,
     "schema_version": 3,
     "solution": true,
     "task": false
    }
   },
   "outputs": [],
   "source": [
    "def female_enrolled(data, threshold):\n",
    "    new_list = []\n",
    "    for i in range(len(data)):\n",
    "        if data[i][1] >= threshold:\n",
    "            new_list.append(data[i])\n",
    "    data=sorted(new_list, key=itemgetter(1),reverse=True)\n",
    "    return data"
   ]
  },
  {
   "cell_type": "code",
   "execution_count": 25,
   "id": "f05f600c",
   "metadata": {},
   "outputs": [
    {
     "data": {
      "text/plain": [
       "[(2013, 56.9), (2014, 58.0), (2015, 58.7), (2016, 58.6), (2017, 59.0)]"
      ]
     },
     "execution_count": 25,
     "metadata": {},
     "output_type": "execute_result"
    }
   ],
   "source": [
    "data_enrolled = utils.generate_data_enrolled()\n",
    "data_enrolled"
   ]
  },
  {
   "cell_type": "code",
   "execution_count": 26,
   "id": "ede40876",
   "metadata": {},
   "outputs": [
    {
     "data": {
      "text/plain": [
       "[(2017, 59.0), (2015, 58.7), (2016, 58.6), (2014, 58.0)]"
      ]
     },
     "execution_count": 26,
     "metadata": {},
     "output_type": "execute_result"
    }
   ],
   "source": [
    "ac = female_enrolled(data_enrolled, 58.0)\n",
    "ac"
   ]
  },
  {
   "cell_type": "code",
   "execution_count": 27,
   "id": "580a0cfe",
   "metadata": {
    "deletable": false,
    "editable": false,
    "nbgrader": {
     "grade": true,
     "grade_id": "cell-30f67a7608d49607",
     "locked": true,
     "points": 3,
     "schema_version": 3,
     "solution": false,
     "task": false
    }
   },
   "outputs": [
    {
     "name": "stdout",
     "output_type": "stream",
     "text": [
      "Answer is correct. Good Job.\n"
     ]
    }
   ],
   "source": [
    "#regenerate data\n",
    "data = utils.generate_data()\n",
    "data_comma =  utils.generate_data_comma()\n",
    "data_clean = utils.generate_data_clean()\n",
    "\n",
    "data_enrolled = utils.generate_data_enrolled()\n",
    "data_filtered = female_enrolled(data_enrolled, 0)\n",
    "assert isinstance(data_filtered, list), \"Not correct. Keep trying.\"\n",
    "assert len(data_filtered) == 5, \"Not correct. Keep trying.\"\n",
    "for year in data_filtered:\n",
    "    assert isinstance(year, tuple), \"Not correct. Keep trying.\"\n",
    "    assert len(year) == 2, \"Not correct. Keep trying.\"\n",
    "    assert isinstance(year[0], int), \"Not correct. Keep trying.\"\n",
    "    assert isinstance(year[1], float), \"Not correct. Keep trying.\"\n",
    "\n",
    "test1 = female_enrolled(data_enrolled, 58.1)\n",
    "assert len(test1) == 3, \"Not correct. Keep trying.\"\n",
    "assert math.isclose(test1[1][1],\n",
    "                    58.7,\n",
    "                    abs_tol=0.1), \"Not correct. Keep trying.\"\n",
    "assert test1[1][0] == 2015, \"Not correct. Keep trying.\"\n",
    "\n",
    "test2 = female_enrolled(data_enrolled, 58.0)\n",
    "assert len(test2) == 4, \"Not correct. Keep trying.\"\n",
    "assert math.isclose(test2[3][1],\n",
    "                    58.0,\n",
    "                    abs_tol=0.1), \"Not correct. Keep trying.\"\n",
    "assert test2[3][0] == 2014, \"Not correct. Keep trying.\"\n",
    "\n",
    "source = inspect.getsource(female_enrolled)\n",
    "assert \"sorted\" in source, \"Not correct. Keep trying.\"\n",
    "\n",
    "print(\"Answer is correct. Good Job.\")"
   ]
  },
  {
   "cell_type": "markdown",
   "id": "2c41ec74",
   "metadata": {
    "deletable": false,
    "editable": false,
    "nbgrader": {
     "grade": false,
     "grade_id": "cell-4e2ed886a93db595",
     "locked": true,
     "schema_version": 3,
     "solution": false,
     "task": false
    }
   },
   "source": [
    "## Question 6\n",
    "\n",
    "In this task we'll create a class to play the lottery!\n",
    "\n",
    "First, get to know the `raffle_key`. The `raffle_key` is a dictionary, associating ticket numbers with prizes. All the numbers that are not in the raffle_key won't get any prize."
   ]
  },
  {
   "cell_type": "code",
   "execution_count": 28,
   "id": "2adb0c95",
   "metadata": {
    "deletable": false,
    "editable": false,
    "nbgrader": {
     "grade": false,
     "grade_id": "cell-d0b08a13b58b5344",
     "locked": true,
     "schema_version": 3,
     "solution": false,
     "task": false
    }
   },
   "outputs": [],
   "source": [
    "raffle_key = {1:\"10 euros\", 5:\"100 euros\", 9:\"40 euros\"}"
   ]
  },
  {
   "cell_type": "markdown",
   "id": "4ddd382f",
   "metadata": {
    "deletable": false,
    "editable": false,
    "nbgrader": {
     "grade": false,
     "grade_id": "cell-4c99e5f250875271",
     "locked": true,
     "schema_version": 3,
     "solution": false,
     "task": false
    }
   },
   "source": [
    "### Step 1:\n",
    "\n",
    "- Create a `Lottery` class that takes one constructor parameter called `raffle_key`;\n",
    "- In the `Lottery` class create a method named `get_lucky` that receives the lucky_number as parameter;\n",
    "    and returns the strings \"{X} euros\" or \"Better luck next time!\", depending on the presence of the lucky number in the raffle key;\n",
    "- In our example above, our lucky number 9 corresponds to the response string \"40 euros\";\n",
    "    if in some case the lucky number provided doesn't exist in the raffle key, we should print out \"Better luck next time!\";\n",
    "- If no lucky number is provided whatsoever, make sure that a random one is generated.\n",
    "\n",
    "\n",
    "### Step 2:\n",
    "\n",
    "- Instantiate the `Lottery` class with name `simple_lottery` and with the given raffle key;\n",
    "\n",
    "\n",
    "In this task you're required to use the following:\n",
    "\n",
    "- `try/except` statements;\n"
   ]
  },
  {
   "cell_type": "code",
   "execution_count": 29,
   "id": "f7f1e1d2",
   "metadata": {
    "deletable": false,
    "nbgrader": {
     "grade": false,
     "grade_id": "cell-dc8077515454abe0",
     "locked": false,
     "schema_version": 3,
     "solution": true,
     "task": false
    }
   },
   "outputs": [],
   "source": [
    "class Lottery:\n",
    "    def __init__(self, raffle_key):\n",
    "        self.raffle_key = raffle_key\n",
    "\n",
    "    def get_lucky(self, lucky_number = None):\n",
    "        try: \n",
    "            if lucky_number is None:\n",
    "                lucky_number = random.randint(0,10)\n",
    "            if lucky_number in self.raffle_key:\n",
    "                return self.raffle_key[lucky_number]\n",
    "            else:\n",
    "                return \"Better luck next time!\"\n",
    "        except TypeError:\n",
    "            print('bummer')\n"
   ]
  },
  {
   "cell_type": "code",
   "execution_count": 30,
   "id": "dbd63ba6",
   "metadata": {},
   "outputs": [],
   "source": [
    "try:\n",
    "    simple_lottery = Lottery(raffle_key)\n",
    "    simple_lottery.get_lucky()\n",
    "except TypeError:\n",
    "    print('bummer')"
   ]
  },
  {
   "cell_type": "code",
   "execution_count": 31,
   "id": "c4d04791",
   "metadata": {
    "deletable": false,
    "editable": false,
    "nbgrader": {
     "grade": true,
     "grade_id": "cell-96c7d9be71562f8a",
     "locked": true,
     "points": 5,
     "schema_version": 3,
     "solution": false,
     "task": false
    }
   },
   "outputs": [
    {
     "name": "stdout",
     "output_type": "stream",
     "text": [
      "Answer is correct. Good Job.\n"
     ]
    }
   ],
   "source": [
    "assert isinstance(simple_lottery, Lottery), \"Not correct. Keep trying.\"\n",
    "assert hasattr(simple_lottery, \"raffle_key\"), \"Not correct. Keep trying.\"\n",
    "assert simple_lottery.get_lucky(1) == \"10 euros\", \"Not correct. Keep trying.\"\n",
    "assert simple_lottery.get_lucky(5) == \"100 euros\", \"Not correct. Keep trying.\"\n",
    "assert simple_lottery.get_lucky(9) == \"40 euros\", \"Not correct. Keep trying.\"\n",
    "assert simple_lottery.get_lucky(\"1\") == \"Better luck next time!\", \\\n",
    "       \"Not correct. Keep trying.\"\n",
    "assert simple_lottery.get_lucky(-3) == \"Better luck next time!\", \\\n",
    "       \"Not correct. Keep trying.\"\n",
    "assert isinstance(simple_lottery.get_lucky(), str), \"Not correct. Keep trying.\"\n",
    "source = inspect.getsource(simple_lottery.get_lucky)\n",
    "assert \"try\" in source, \"Not correct. Keep trying.\"\n",
    "assert \"except\" in source, \"Not correct. Keep trying.\"\n",
    "\n",
    "print(\"Answer is correct. Good Job.\")"
   ]
  },
  {
   "cell_type": "markdown",
   "id": "fa5590a0",
   "metadata": {
    "deletable": false,
    "editable": false,
    "nbgrader": {
     "grade": false,
     "grade_id": "cell-548e6a602825ecb1",
     "locked": true,
     "schema_version": 3,
     "solution": false,
     "task": false
    }
   },
   "source": [
    "### Submit your work!\n",
    "\n",
    "To submit your work, [follow the steps here, in the step \\\"Grading the Exercise Notebook\\\"!](https://github.com/LDSSA/ds-prep-course-2023/blob/main/weekly-workflow.md#link-to-grading)"
   ]
  }
 ],
 "metadata": {
  "kernelspec": {
   "display_name": "Python 3 (ipykernel)",
   "language": "python",
   "name": "python3"
  },
  "language_info": {
   "codemirror_mode": {
    "name": "ipython",
    "version": 3
   },
   "file_extension": ".py",
   "mimetype": "text/x-python",
   "name": "python",
   "nbconvert_exporter": "python",
   "pygments_lexer": "ipython3",
   "version": "3.8.16"
  }
 },
 "nbformat": 4,
 "nbformat_minor": 5
}
